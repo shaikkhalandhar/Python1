{
 "cells": [
  {
   "cell_type": "code",
   "execution_count": 4,
   "id": "bfdfc863-51ab-4043-8070-b0ce257a757e",
   "metadata": {},
   "outputs": [
    {
     "name": "stdout",
     "output_type": "stream",
     "text": [
      "15\n"
     ]
    }
   ],
   "source": [
    "#Operators\n",
    "#Assignment operatots\n",
    "a=5\n",
    "b=10\n",
    "a+=b #addition\n",
    "print(a)\n"
   ]
  },
  {
   "cell_type": "code",
   "execution_count": 7,
   "id": "f57827a6-3d53-4e99-a66a-80c4445f4a10",
   "metadata": {},
   "outputs": [
    {
     "name": "stdout",
     "output_type": "stream",
     "text": [
      "10\n"
     ]
    }
   ],
   "source": [
    "a=20\n",
    "b=30\n",
    "b-=a #sub\n",
    "print(b)"
   ]
  },
  {
   "cell_type": "code",
   "execution_count": 11,
   "id": "5d140652-4f5e-4698-b80f-20aa67ed21d0",
   "metadata": {},
   "outputs": [
    {
     "name": "stdout",
     "output_type": "stream",
     "text": [
      "30\n",
      "<class 'int'>\n"
     ]
    }
   ],
   "source": [
    "a=5\n",
    "b=6\n",
    "a*=b #multiplication\n",
    "print(a)\n",
    "print(type(a))"
   ]
  },
  {
   "cell_type": "code",
   "execution_count": 13,
   "id": "41e7fb56-c748-49b6-883b-5816153d6c61",
   "metadata": {},
   "outputs": [
    {
     "name": "stdout",
     "output_type": "stream",
     "text": [
      "0.08333333333333333\n",
      "<class 'float'>\n"
     ]
    }
   ],
   "source": [
    "a=60\n",
    "b=5\n",
    "b/=a\n",
    "print(b)  #division\n",
    "print(type(b))"
   ]
  },
  {
   "cell_type": "code",
   "execution_count": 15,
   "id": "ad78a1c9-0bc5-4262-8fc3-12170a31d53b",
   "metadata": {},
   "outputs": [
    {
     "name": "stdout",
     "output_type": "stream",
     "text": [
      "5\n"
     ]
    }
   ],
   "source": [
    "a=45\n",
    "b=8\n",
    "a%=b\n",
    "print(a)"
   ]
  },
  {
   "cell_type": "code",
   "execution_count": 17,
   "id": "d3b1f434-dc3e-46d3-9115-c8cec54d37d9",
   "metadata": {},
   "outputs": [
    {
     "name": "stdout",
     "output_type": "stream",
     "text": [
      "16\n"
     ]
    }
   ],
   "source": [
    "a=4\n",
    "b=2\n",
    "a**=b\n",
    "print(a)"
   ]
  },
  {
   "cell_type": "code",
   "execution_count": 28,
   "id": "ce40df49-063c-42d6-81c5-f6e0e62d8909",
   "metadata": {},
   "outputs": [
    {
     "name": "stdout",
     "output_type": "stream",
     "text": [
      "False\n",
      "False\n",
      "True\n",
      "False\n",
      "True\n",
      "False\n",
      "True\n",
      "True\n"
     ]
    }
   ],
   "source": [
    "#Comparison\n",
    "x=5\n",
    "y=10\n",
    "\n",
    "print(x==y)\n",
    "print(x>=y)\n",
    "print(x<=y)\n",
    "print(x>y)\n",
    "print(y>x)\n",
    "print(y<x)\n",
    "print(x!=y)\n",
    "print(y!=x)"
   ]
  },
  {
   "cell_type": "code",
   "execution_count": 32,
   "id": "fe944c6e-792c-45cb-8f1f-f063c0cab6b1",
   "metadata": {},
   "outputs": [
    {
     "name": "stdout",
     "output_type": "stream",
     "text": [
      "True\n",
      "False\n",
      "True\n",
      "True\n"
     ]
    }
   ],
   "source": [
    "#logical Operator (Ture or False)\n",
    "x=5\n",
    "y=10\n",
    "z=15\n",
    "w=10\n",
    "print(y>x and y==w) #here both condition satisfied hence its true\n",
    "print(z<x and z>y) #here only 2nd condition satisfied hence its false\n",
    "print(x==w or z>x) #here due OR condition z>x satified hence its true\n",
    "print(w==y or w>z)"
   ]
  },
  {
   "cell_type": "code",
   "execution_count": 5,
   "id": "1ee30126-5a44-4426-b159-b5c218edd325",
   "metadata": {},
   "outputs": [
    {
     "name": "stdout",
     "output_type": "stream",
     "text": [
      "True\n",
      "False\n",
      "True\n",
      "False\n",
      "True\n"
     ]
    }
   ],
   "source": [
    "#Identical Operatiors\n",
    "# is - Ture if the operand are identical (refer to the same object)\n",
    "# is not - True if the operand are not identical (do not refer the same object)\n",
    "A1=50\n",
    "B1=30\n",
    "E1=50\n",
    "C1=\"Shaik\"\n",
    "D1=\"Hello Shaik\"\n",
    "print (E1 is A1)\n",
    "print (E1 is not A1)\n",
    "print (B1 is not E1)\n",
    "print (D1 is C1)\n",
    "print (C1 is not D1)"
   ]
  },
  {
   "cell_type": "code",
   "execution_count": 16,
   "id": "7b8bea6f-434e-4261-b956-60a3c81fdfed",
   "metadata": {},
   "outputs": [
    {
     "name": "stdout",
     "output_type": "stream",
     "text": [
      "False\n",
      "True\n",
      "False\n",
      "True\n",
      "False\n",
      "True\n",
      "Khalandhar World (1, 2, 3, 4.2, 5, 6.5, 10)\n"
     ]
    },
    {
     "ename": "TypeError",
     "evalue": "can only concatenate str (not \"tuple\") to str",
     "output_type": "error",
     "traceback": [
      "\u001b[1;31m---------------------------------------------------------------------------\u001b[0m",
      "\u001b[1;31mTypeError\u001b[0m                                 Traceback (most recent call last)",
      "Cell \u001b[1;32mIn[16], line 19\u001b[0m\n\u001b[0;32m     17\u001b[0m t,u\n\u001b[0;32m     18\u001b[0m t\u001b[38;5;241m==\u001b[39mu\n\u001b[1;32m---> 19\u001b[0m t\u001b[38;5;241m+\u001b[39mu\n\u001b[0;32m     20\u001b[0m u\u001b[38;5;241m-\u001b[39mt\n",
      "\u001b[1;31mTypeError\u001b[0m: can only concatenate str (not \"tuple\") to str"
     ]
    }
   ],
   "source": [
    "#Membership Operators\n",
    "#In - Ture if the value | variable is found in the sequnce\n",
    "#not In - True if the value|variable is not found in the sequnce\n",
    "\n",
    "t=\"Khalandhar World\"\n",
    "u=(1,2,3,4.2,5,6.5,10)\n",
    "x=(1,2,3,4)\n",
    "\n",
    "print (\"z\"in t)\n",
    "print (\"h\" in t)\n",
    "print (\"k\" in t)\n",
    "print (\"K\" in t)\n",
    "print (4 in u)\n",
    "print (4.2 in u)\n",
    "\n",
    "print (t, u)\n",
    "t,u\n",
    "t==u\n",
    "t+u\n"
   ]
  },
  {
   "cell_type": "code",
   "execution_count": 1,
   "id": "1727c1de-d2ad-404d-b1be-4d93aaad4251",
   "metadata": {},
   "outputs": [
    {
     "ename": "TypeError",
     "evalue": "unsupported operand type(s) for -: 'tuple' and 'tuple'",
     "output_type": "error",
     "traceback": [
      "\u001b[1;31m---------------------------------------------------------------------------\u001b[0m",
      "\u001b[1;31mTypeError\u001b[0m                                 Traceback (most recent call last)",
      "Cell \u001b[1;32mIn[1], line 4\u001b[0m\n\u001b[0;32m      1\u001b[0m u\u001b[38;5;241m=\u001b[39m(\u001b[38;5;241m1\u001b[39m,\u001b[38;5;241m2\u001b[39m,\u001b[38;5;241m3\u001b[39m,\u001b[38;5;241m4.2\u001b[39m,\u001b[38;5;241m5\u001b[39m,\u001b[38;5;241m6.5\u001b[39m,\u001b[38;5;241m10\u001b[39m)\n\u001b[0;32m      2\u001b[0m x\u001b[38;5;241m=\u001b[39m(\u001b[38;5;241m1\u001b[39m,\u001b[38;5;241m2\u001b[39m,\u001b[38;5;241m3\u001b[39m,\u001b[38;5;241m4\u001b[39m)\n\u001b[1;32m----> 4\u001b[0m \u001b[38;5;28mprint\u001b[39m (u\u001b[38;5;241m-\u001b[39mx)\n\u001b[0;32m      5\u001b[0m \u001b[38;5;28mprint\u001b[39m (x \u001b[38;5;129;01min\u001b[39;00m u)\n",
      "\u001b[1;31mTypeError\u001b[0m: unsupported operand type(s) for -: 'tuple' and 'tuple'"
     ]
    }
   ],
   "source": [
    "u=(1,2,3,4.2,5,6.5,10)\n",
    "x=(1,2,3,4)\n",
    "\n",
    "print (u-x)\n",
    "print (x in u)"
   ]
  },
  {
   "cell_type": "code",
   "execution_count": 21,
   "id": "0f800375-e596-4c4c-a065-bfd9378c5d96",
   "metadata": {},
   "outputs": [
    {
     "name": "stdout",
     "output_type": "stream",
     "text": [
      "False\n"
     ]
    }
   ],
   "source": [
    "u1=(1,2,3,4.2,5,6.5,10)\n",
    "x1=(1,2,3,4)\n",
    "\n",
    "print (x1 in u1)"
   ]
  },
  {
   "cell_type": "code",
   "execution_count": 4,
   "id": "3f86dcf4-82a4-43e4-8f58-ecf961256658",
   "metadata": {},
   "outputs": [
    {
     "name": "stdout",
     "output_type": "stream",
     "text": [
      "64\n"
     ]
    }
   ],
   "source": [
    "#precedence\n",
    "#Parenthese, Exponentiation, multiplaction, addition and subtraction \n",
    "\n",
    "print(7+35-10+(12+7+6*3)-5)\n"
   ]
  },
  {
   "cell_type": "code",
   "execution_count": 5,
   "id": "8320646a-aefb-4a10-94cd-6ff7f0f66a57",
   "metadata": {},
   "outputs": [
    {
     "name": "stdout",
     "output_type": "stream",
     "text": [
      "15\n"
     ]
    }
   ],
   "source": [
    "print(2-7+10+(3*3)+1)\n",
    "#3*3=9\n",
    "#2+10+9+1 =22\n",
    "#22-7"
   ]
  },
  {
   "cell_type": "code",
   "execution_count": 8,
   "id": "ea6619e2-dac9-4312-9e02-0f6798d4d4bd",
   "metadata": {},
   "outputs": [
    {
     "name": "stdout",
     "output_type": "stream",
     "text": [
      "[22, 33, 44, 'Dada']\n",
      "<class 'list'>\n"
     ]
    }
   ],
   "source": [
    "#Data types\n",
    "# core data types\n",
    "#list it will start with squar brackets Ex: [1,2,3]\n",
    "# We can store any type of data type in list, such as int,float,complex\n",
    "\n",
    "shaiklist=[22,33,44, 'Dada']\n",
    "print(shaiklist)\n",
    "print(type(shaiklist))"
   ]
  },
  {
   "cell_type": "code",
   "execution_count": 13,
   "id": "781b6467-2d7e-4e14-86f1-0238078c9615",
   "metadata": {},
   "outputs": [
    {
     "name": "stdout",
     "output_type": "stream",
     "text": [
      "['triger', 'lion', 'cat', 2.0, 3.0, 5.5]\n",
      "<class 'list'>\n"
     ]
    }
   ],
   "source": [
    "animallist=['triger','lion','cat',2.0,3.0,5.5]\n",
    "print(animallist)\n",
    "print(type(animallist))"
   ]
  },
  {
   "cell_type": "code",
   "execution_count": 16,
   "id": "4d700e18-5b88-451b-af48-315efbbf6b9b",
   "metadata": {},
   "outputs": [
    {
     "name": "stdout",
     "output_type": "stream",
     "text": [
      "('triger', 'lion', 'cat', 2.0, 3.0, 5.5)\n",
      "<class 'tuple'>\n"
     ]
    }
   ],
   "source": [
    "animallist=('triger','lion','cat',2.0,3.0,5.5)\n",
    "print(animallist)\n",
    "print(type(animallist))"
   ]
  },
  {
   "cell_type": "code",
   "execution_count": 17,
   "id": "640f8831-f1c6-4c9a-9bcd-ad2882c5ec41",
   "metadata": {},
   "outputs": [
    {
     "name": "stdout",
     "output_type": "stream",
     "text": [
      "{2.0, 3.0, 5.5, 'triger', 'cat', 'lion'}\n",
      "<class 'set'>\n"
     ]
    }
   ],
   "source": [
    "animallist={'triger','lion','cat',2.0,3.0,5.5}\n",
    "print(animallist)\n",
    "print(type(animallist))"
   ]
  },
  {
   "cell_type": "code",
   "execution_count": 19,
   "id": "e278e80a-8f76-4a85-9996-02cd6a99dc8e",
   "metadata": {},
   "outputs": [
    {
     "data": {
      "text/plain": [
       "[1, 2.0, 55, 'Jack']"
      ]
     },
     "execution_count": 19,
     "metadata": {},
     "output_type": "execute_result"
    }
   ],
   "source": [
    "#mutable list --> in this we can change, modify, remove, delete from the list\n",
    "list1=[1,2.0,55,\"Jack\"]\n",
    "list1"
   ]
  },
  {
   "cell_type": "code",
   "execution_count": 22,
   "id": "0d05e509-47aa-4478-a741-93353c89f419",
   "metadata": {},
   "outputs": [
    {
     "name": "stdout",
     "output_type": "stream",
     "text": [
      "grapes\n"
     ]
    }
   ],
   "source": [
    "#Access list elements\n",
    "# postive index start from 0\n",
    "# negative index start from -1\n",
    "# default it will be postive index\n",
    "\n",
    "fruitlist=['apple','mango','banana','grapes','gava','kiwi']\n",
    "print(fruitlist[3])"
   ]
  },
  {
   "cell_type": "code",
   "execution_count": 25,
   "id": "6d859374-4802-4441-9165-929e6bffd567",
   "metadata": {},
   "outputs": [
    {
     "name": "stdout",
     "output_type": "stream",
     "text": [
      "gava\n"
     ]
    }
   ],
   "source": [
    "print(fruitlist[-2])"
   ]
  },
  {
   "cell_type": "code",
   "execution_count": 26,
   "id": "6fb34ce1-972e-44e1-8412-ea808856768c",
   "metadata": {},
   "outputs": [
    {
     "name": "stdout",
     "output_type": "stream",
     "text": [
      "apple\n"
     ]
    }
   ],
   "source": [
    "print(fruitlist[0])"
   ]
  },
  {
   "cell_type": "code",
   "execution_count": 32,
   "id": "7541f4ca-dbbe-4781-ad6b-60f153ceac66",
   "metadata": {},
   "outputs": [
    {
     "name": "stdout",
     "output_type": "stream",
     "text": [
      "['apple', 'mango', 'banana', 'grapes', 'gava', 'kiwi']\n",
      "<class 'list'>\n"
     ]
    }
   ],
   "source": [
    "print(fruitlist)\n",
    "print(type(fruitlist))"
   ]
  },
  {
   "cell_type": "code",
   "execution_count": 33,
   "id": "7b548243-eb4b-4b5e-a015-bb76f49805a1",
   "metadata": {},
   "outputs": [
    {
     "name": "stdout",
     "output_type": "stream",
     "text": [
      "hotel\n"
     ]
    }
   ],
   "source": [
    "staylist=['home','hotel','room','hut','park']\n",
    "print(staylist[1])"
   ]
  },
  {
   "cell_type": "code",
   "execution_count": 34,
   "id": "41d16f6f-dbdf-4325-8274-96f81bdc1a69",
   "metadata": {},
   "outputs": [
    {
     "ename": "IndexError",
     "evalue": "list index out of range",
     "output_type": "error",
     "traceback": [
      "\u001b[1;31m---------------------------------------------------------------------------\u001b[0m",
      "\u001b[1;31mIndexError\u001b[0m                                Traceback (most recent call last)",
      "Cell \u001b[1;32mIn[34], line 1\u001b[0m\n\u001b[1;32m----> 1\u001b[0m \u001b[38;5;28mprint\u001b[39m(staylist[\u001b[38;5;241m-\u001b[39m\u001b[38;5;241m10\u001b[39m])\n",
      "\u001b[1;31mIndexError\u001b[0m: list index out of range"
     ]
    }
   ],
   "source": [
    "print(staylist[-10])"
   ]
  },
  {
   "cell_type": "code",
   "execution_count": 35,
   "id": "e9c2a490-e359-4115-966f-8a199262c9c5",
   "metadata": {},
   "outputs": [
    {
     "name": "stdout",
     "output_type": "stream",
     "text": [
      "park\n"
     ]
    }
   ],
   "source": [
    "print(staylist[4])"
   ]
  },
  {
   "cell_type": "code",
   "execution_count": 38,
   "id": "cc1d68b7-26d7-45a1-b791-7c358417ae71",
   "metadata": {},
   "outputs": [
    {
     "name": "stdout",
     "output_type": "stream",
     "text": [
      "hut\n",
      "<class 'list'>\n"
     ]
    }
   ],
   "source": [
    "print(staylist[-2])\n",
    "print(type(staylist))"
   ]
  },
  {
   "cell_type": "code",
   "execution_count": null,
   "id": "1282d454-1c3f-40e7-bf1c-929c488dd43e",
   "metadata": {},
   "outputs": [],
   "source": [
    "#zore division error\n"
   ]
  },
  {
   "cell_type": "code",
   "execution_count": 39,
   "id": "c6cd0821-400d-4029-b958-99c1ae5c602e",
   "metadata": {},
   "outputs": [
    {
     "name": "stdout",
     "output_type": "stream",
     "text": [
      "['mec', 'toyato', 'innova']\n"
     ]
    }
   ],
   "source": [
    "#slicing of a list - it give the portion list of itmes or range of items\n",
    "\n",
    "carslist=['kia','mec','toyato','innova','bmw','tata','maruti,suzuki','honda','activa']\n",
    "print(carslist[1:4])"
   ]
  },
  {
   "cell_type": "code",
   "execution_count": 40,
   "id": "ccb1c4e9-ee1b-4594-8c9b-bb38c00df751",
   "metadata": {},
   "outputs": [
    {
     "name": "stdout",
     "output_type": "stream",
     "text": [
      "bmw\n"
     ]
    }
   ],
   "source": [
    "print(carslist[4])"
   ]
  },
  {
   "cell_type": "code",
   "execution_count": 42,
   "id": "d259d066-73e8-4267-ac47-0f8b9b3e31e6",
   "metadata": {},
   "outputs": [
    {
     "name": "stdout",
     "output_type": "stream",
     "text": [
      "maruti,suzuki\n"
     ]
    }
   ],
   "source": [
    "print(carslist[-3])"
   ]
  },
  {
   "cell_type": "code",
   "execution_count": 43,
   "id": "5a7d4faf-8456-4afe-be20-d0fd2a1b61b3",
   "metadata": {},
   "outputs": [
    {
     "name": "stdout",
     "output_type": "stream",
     "text": [
      "['mec', 'toyato', 'innova', 'bmw']\n"
     ]
    }
   ],
   "source": [
    "print(carslist[1:5])"
   ]
  },
  {
   "cell_type": "code",
   "execution_count": 46,
   "id": "969c6b48-74f6-424e-9778-6da8ef053754",
   "metadata": {},
   "outputs": [
    {
     "name": "stdout",
     "output_type": "stream",
     "text": [
      "['mec', 'toyato', 'innova', 'bmw', 'tata', 'maruti,suzuki', 'honda']\n"
     ]
    }
   ],
   "source": [
    "print(carslist[1:-1]) #check with sir (n-1)-1"
   ]
  },
  {
   "cell_type": "code",
   "execution_count": 47,
   "id": "0a3d1763-ae38-4d29-a5b7-a2ac7d54ce55",
   "metadata": {},
   "outputs": [
    {
     "name": "stdout",
     "output_type": "stream",
     "text": [
      "['kia', 'mec', 'toyato', 'innova', 'bmw', 'tata', 'maruti,suzuki', 'honda', 'activa']\n"
     ]
    }
   ],
   "source": [
    "print(carslist[:])"
   ]
  },
  {
   "cell_type": "code",
   "execution_count": 49,
   "id": "0147771c-d0d9-49a7-8afc-5aff96799689",
   "metadata": {},
   "outputs": [
    {
     "name": "stdout",
     "output_type": "stream",
     "text": [
      "boat\n"
     ]
    }
   ],
   "source": [
    "waterlist=['ship','boat','wscooter','wcycle']\n",
    "print(waterlist[1])"
   ]
  },
  {
   "cell_type": "code",
   "execution_count": 50,
   "id": "4f9d8bc5-774b-4f2e-95c3-7fab050528f6",
   "metadata": {},
   "outputs": [
    {
     "name": "stdout",
     "output_type": "stream",
     "text": [
      "boat\n"
     ]
    }
   ],
   "source": [
    "print(waterlist[-3])"
   ]
  },
  {
   "cell_type": "code",
   "execution_count": 53,
   "id": "994f9c30-4f53-490f-bf95-98f25177bc4c",
   "metadata": {},
   "outputs": [
    {
     "name": "stdout",
     "output_type": "stream",
     "text": [
      "[]\n"
     ]
    }
   ],
   "source": [
    "print(waterlist[2:1]) #check with sir"
   ]
  },
  {
   "cell_type": "code",
   "execution_count": 54,
   "id": "a62c2715-18c0-4366-865f-8d5d1d469dce",
   "metadata": {},
   "outputs": [
    {
     "name": "stdout",
     "output_type": "stream",
     "text": [
      "['wscooter']\n"
     ]
    }
   ],
   "source": [
    "print(waterlist[2:-1])"
   ]
  },
  {
   "cell_type": "code",
   "execution_count": 58,
   "id": "fbcc9be3-3a53-4639-a9d2-0fb1e1747637",
   "metadata": {},
   "outputs": [
    {
     "name": "stdout",
     "output_type": "stream",
     "text": [
      "[1, 2, 3, 4, 5, 6, 'a', 'b', 'c', 'd']\n",
      "<class 'list'>\n"
     ]
    }
   ],
   "source": [
    "#list operations\n",
    "#concatination\n",
    "#Receptition\n",
    "\n",
    "#concantination\n",
    "a=[1,2,3,4,5,6]\n",
    "b=['a','b','c','d']\n",
    "\n",
    "c=a+b\n",
    "print(c)\n",
    "print(type(c))"
   ]
  },
  {
   "cell_type": "code",
   "execution_count": 65,
   "id": "e262321f-cbff-42bb-82e3-346f7737853e",
   "metadata": {},
   "outputs": [
    {
     "data": {
      "text/plain": [
       "['cat', 'dog', 'hen', 'milk', 'meat', 'rice']"
      ]
     },
     "execution_count": 65,
     "metadata": {},
     "output_type": "execute_result"
    }
   ],
   "source": [
    "pets=['cat','dog','hen']\n",
    "food=['milk','meat','rice']\n",
    "petfood=pets+food\n",
    "petfood\n"
   ]
  },
  {
   "cell_type": "code",
   "execution_count": 67,
   "id": "8c6b9b28-76d9-43a2-b479-bcedab1f0ead",
   "metadata": {},
   "outputs": [
    {
     "data": {
      "text/plain": [
       "['dog', 'hen', 'milk', 'meat']"
      ]
     },
     "execution_count": 67,
     "metadata": {},
     "output_type": "execute_result"
    }
   ],
   "source": [
    "petfood[1:2]"
   ]
  },
  {
   "cell_type": "code",
   "execution_count": 68,
   "id": "d7a4aff0-0df0-4cc0-bc05-a006e0311976",
   "metadata": {},
   "outputs": [
    {
     "data": {
      "text/plain": [
       "'rice'"
      ]
     },
     "execution_count": 68,
     "metadata": {},
     "output_type": "execute_result"
    }
   ],
   "source": [
    "petfood[-1]"
   ]
  },
  {
   "cell_type": "code",
   "execution_count": 69,
   "id": "13b5c1b2-13b1-4632-944c-58052d9da94b",
   "metadata": {},
   "outputs": [
    {
     "ename": "IndexError",
     "evalue": "list index out of range",
     "output_type": "error",
     "traceback": [
      "\u001b[1;31m---------------------------------------------------------------------------\u001b[0m",
      "\u001b[1;31mIndexError\u001b[0m                                Traceback (most recent call last)",
      "Cell \u001b[1;32mIn[69], line 1\u001b[0m\n\u001b[1;32m----> 1\u001b[0m petfood[\u001b[38;5;241m6\u001b[39m]\n",
      "\u001b[1;31mIndexError\u001b[0m: list index out of range"
     ]
    }
   ],
   "source": [
    "petfood[6]"
   ]
  },
  {
   "cell_type": "code",
   "execution_count": 70,
   "id": "d4ec83d7-1f4c-4f72-800a-4c1e19f8d08b",
   "metadata": {},
   "outputs": [
    {
     "data": {
      "text/plain": [
       "'milk'"
      ]
     },
     "execution_count": 70,
     "metadata": {},
     "output_type": "execute_result"
    }
   ],
   "source": [
    "petfood[3]"
   ]
  },
  {
   "cell_type": "code",
   "execution_count": 71,
   "id": "477681b5-c890-421c-a882-acddb480dfd5",
   "metadata": {},
   "outputs": [
    {
     "data": {
      "text/plain": [
       "['Don Sinu', 'Don Sinu', 'Don Sinu', 'Don Sinu', 'Don Sinu']"
      ]
     },
     "execution_count": 71,
     "metadata": {},
     "output_type": "execute_result"
    }
   ],
   "source": [
    "#repeat\n",
    "Name=['Don Sinu']\n",
    "B=Name*5\n",
    "B"
   ]
  },
  {
   "cell_type": "code",
   "execution_count": 72,
   "id": "b567c7f3-27d6-4533-ba8e-f738197ca739",
   "metadata": {},
   "outputs": [
    {
     "data": {
      "text/plain": [
       "['vamsi',\n",
       " 'shaik',\n",
       " 'sharath',\n",
       " 'santosh',\n",
       " 'jack',\n",
       " 'jone',\n",
       " 'king',\n",
       " 'lady',\n",
       " 'vamsi',\n",
       " 'shaik',\n",
       " 'sharath',\n",
       " 'santosh',\n",
       " 'jack',\n",
       " 'jone',\n",
       " 'king',\n",
       " 'lady']"
      ]
     },
     "execution_count": 72,
     "metadata": {},
     "output_type": "execute_result"
    }
   ],
   "source": [
    "Mnames=['vamsi','shaik','sharath','santosh','jack','jone','king','lady']\n",
    "My5=Mnames*2\n",
    "My5"
   ]
  },
  {
   "cell_type": "code",
   "execution_count": 73,
   "id": "c9d4bfb4-ca79-44ba-b3c9-fb7209c856e4",
   "metadata": {},
   "outputs": [
    {
     "data": {
      "text/plain": [
       "['sharath',\n",
       " 'santosh',\n",
       " 'jack',\n",
       " 'jone',\n",
       " 'king',\n",
       " 'lady',\n",
       " 'vamsi',\n",
       " 'shaik',\n",
       " 'sharath',\n",
       " 'santosh',\n",
       " 'jack',\n",
       " 'jone']"
      ]
     },
     "execution_count": 73,
     "metadata": {},
     "output_type": "execute_result"
    }
   ],
   "source": [
    "My5[2:-2]"
   ]
  },
  {
   "cell_type": "code",
   "execution_count": 74,
   "id": "83444aa8-1d70-4162-b503-ad62c2acf73d",
   "metadata": {},
   "outputs": [
    {
     "name": "stdout",
     "output_type": "stream",
     "text": [
      "['shaik', 'sharath', 'santosh', 'jack']\n"
     ]
    }
   ],
   "source": [
    "print(Mnames[1:5])"
   ]
  },
  {
   "cell_type": "code",
   "execution_count": 75,
   "id": "b031ddeb-20e1-426c-9c98-1b590bbf9e62",
   "metadata": {},
   "outputs": [
    {
     "data": {
      "text/plain": [
       "'shaik'"
      ]
     },
     "execution_count": 75,
     "metadata": {},
     "output_type": "execute_result"
    }
   ],
   "source": [
    "My5[1]"
   ]
  },
  {
   "cell_type": "code",
   "execution_count": 76,
   "id": "ffafc4a2-d5d5-42a2-8c35-8c0a958d2675",
   "metadata": {},
   "outputs": [
    {
     "data": {
      "text/plain": [
       "'king'"
      ]
     },
     "execution_count": 76,
     "metadata": {},
     "output_type": "execute_result"
    }
   ],
   "source": [
    "My5[-2]"
   ]
  },
  {
   "cell_type": "code",
   "execution_count": null,
   "id": "4a792569-af46-4ca5-95f6-85c69b3ebc90",
   "metadata": {},
   "outputs": [],
   "source": []
  }
 ],
 "metadata": {
  "kernelspec": {
   "display_name": "Python 3 (ipykernel)",
   "language": "python",
   "name": "python3"
  },
  "language_info": {
   "codemirror_mode": {
    "name": "ipython",
    "version": 3
   },
   "file_extension": ".py",
   "mimetype": "text/x-python",
   "name": "python",
   "nbconvert_exporter": "python",
   "pygments_lexer": "ipython3",
   "version": "3.11.7"
  }
 },
 "nbformat": 4,
 "nbformat_minor": 5
}
