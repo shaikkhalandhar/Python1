{
 "cells": [
  {
   "cell_type": "code",
   "execution_count": 4,
   "id": "bfdfc863-51ab-4043-8070-b0ce257a757e",
   "metadata": {},
   "outputs": [
    {
     "name": "stdout",
     "output_type": "stream",
     "text": [
      "15\n"
     ]
    }
   ],
   "source": [
    "#Operators\n",
    "#Assignment operatots\n",
    "a=5\n",
    "b=10\n",
    "a+=b #addition\n",
    "print(a)\n"
   ]
  },
  {
   "cell_type": "code",
   "execution_count": 7,
   "id": "f57827a6-3d53-4e99-a66a-80c4445f4a10",
   "metadata": {},
   "outputs": [
    {
     "name": "stdout",
     "output_type": "stream",
     "text": [
      "10\n"
     ]
    }
   ],
   "source": [
    "a=20\n",
    "b=30\n",
    "b-=a #sub\n",
    "print(b)"
   ]
  },
  {
   "cell_type": "code",
   "execution_count": 11,
   "id": "5d140652-4f5e-4698-b80f-20aa67ed21d0",
   "metadata": {},
   "outputs": [
    {
     "name": "stdout",
     "output_type": "stream",
     "text": [
      "30\n",
      "<class 'int'>\n"
     ]
    }
   ],
   "source": [
    "a=5\n",
    "b=6\n",
    "a*=b #multiplication\n",
    "print(a)\n",
    "print(type(a))"
   ]
  },
  {
   "cell_type": "code",
   "execution_count": 13,
   "id": "41e7fb56-c748-49b6-883b-5816153d6c61",
   "metadata": {},
   "outputs": [
    {
     "name": "stdout",
     "output_type": "stream",
     "text": [
      "0.08333333333333333\n",
      "<class 'float'>\n"
     ]
    }
   ],
   "source": [
    "a=60\n",
    "b=5\n",
    "b/=a\n",
    "print(b)  #division\n",
    "print(type(b))"
   ]
  },
  {
   "cell_type": "code",
   "execution_count": 15,
   "id": "ad78a1c9-0bc5-4262-8fc3-12170a31d53b",
   "metadata": {},
   "outputs": [
    {
     "name": "stdout",
     "output_type": "stream",
     "text": [
      "5\n"
     ]
    }
   ],
   "source": [
    "a=45\n",
    "b=8\n",
    "a%=b\n",
    "print(a)"
   ]
  },
  {
   "cell_type": "code",
   "execution_count": 17,
   "id": "d3b1f434-dc3e-46d3-9115-c8cec54d37d9",
   "metadata": {},
   "outputs": [
    {
     "name": "stdout",
     "output_type": "stream",
     "text": [
      "16\n"
     ]
    }
   ],
   "source": [
    "a=4\n",
    "b=2\n",
    "a**=b\n",
    "print(a)"
   ]
  },
  {
   "cell_type": "code",
   "execution_count": 28,
   "id": "ce40df49-063c-42d6-81c5-f6e0e62d8909",
   "metadata": {},
   "outputs": [
    {
     "name": "stdout",
     "output_type": "stream",
     "text": [
      "False\n",
      "False\n",
      "True\n",
      "False\n",
      "True\n",
      "False\n",
      "True\n",
      "True\n"
     ]
    }
   ],
   "source": [
    "#Comparison\n",
    "x=5\n",
    "y=10\n",
    "\n",
    "print(x==y)\n",
    "print(x>=y)\n",
    "print(x<=y)\n",
    "print(x>y)\n",
    "print(y>x)\n",
    "print(y<x)\n",
    "print(x!=y)\n",
    "print(y!=x)"
   ]
  },
  {
   "cell_type": "code",
   "execution_count": 32,
   "id": "fe944c6e-792c-45cb-8f1f-f063c0cab6b1",
   "metadata": {},
   "outputs": [
    {
     "name": "stdout",
     "output_type": "stream",
     "text": [
      "True\n",
      "False\n",
      "True\n",
      "True\n"
     ]
    }
   ],
   "source": [
    "#logical Operator (Ture or False)\n",
    "x=5\n",
    "y=10\n",
    "z=15\n",
    "w=10\n",
    "print(y>x and y==w) #here both condition satisfied hence its true\n",
    "print(z<x and z>y) #here only 2nd condition satisfied hence its false\n",
    "print(x==w or z>x) #here due OR condition z>x satified hence its true\n",
    "print(w==y or w>z)"
   ]
  },
  {
   "cell_type": "code",
   "execution_count": 5,
   "id": "1ee30126-5a44-4426-b159-b5c218edd325",
   "metadata": {},
   "outputs": [
    {
     "name": "stdout",
     "output_type": "stream",
     "text": [
      "True\n",
      "False\n",
      "True\n",
      "False\n",
      "True\n"
     ]
    }
   ],
   "source": [
    "#Identical Operatiors\n",
    "# is - Ture if the operand are identical (refer to the same object)\n",
    "# is not - True if the operand are not identical (do not refer the same object)\n",
    "A1=50\n",
    "B1=30\n",
    "E1=50\n",
    "C1=\"Shaik\"\n",
    "D1=\"Hello Shaik\"\n",
    "print (E1 is A1)\n",
    "print (E1 is not A1)\n",
    "print (B1 is not E1)\n",
    "print (D1 is C1)\n",
    "print (C1 is not D1)"
   ]
  },
  {
   "cell_type": "code",
   "execution_count": 16,
   "id": "7b8bea6f-434e-4261-b956-60a3c81fdfed",
   "metadata": {},
   "outputs": [
    {
     "name": "stdout",
     "output_type": "stream",
     "text": [
      "False\n",
      "True\n",
      "False\n",
      "True\n",
      "False\n",
      "True\n",
      "Khalandhar World (1, 2, 3, 4.2, 5, 6.5, 10)\n"
     ]
    },
    {
     "ename": "TypeError",
     "evalue": "can only concatenate str (not \"tuple\") to str",
     "output_type": "error",
     "traceback": [
      "\u001b[1;31m---------------------------------------------------------------------------\u001b[0m",
      "\u001b[1;31mTypeError\u001b[0m                                 Traceback (most recent call last)",
      "Cell \u001b[1;32mIn[16], line 19\u001b[0m\n\u001b[0;32m     17\u001b[0m t,u\n\u001b[0;32m     18\u001b[0m t\u001b[38;5;241m==\u001b[39mu\n\u001b[1;32m---> 19\u001b[0m t\u001b[38;5;241m+\u001b[39mu\n\u001b[0;32m     20\u001b[0m u\u001b[38;5;241m-\u001b[39mt\n",
      "\u001b[1;31mTypeError\u001b[0m: can only concatenate str (not \"tuple\") to str"
     ]
    }
   ],
   "source": [
    "#Membership Operators\n",
    "#In - Ture if the value | variable is found in the sequnce\n",
    "#not In - True if the value|variable is not found in the sequnce\n",
    "\n",
    "t=\"Khalandhar World\"\n",
    "u=(1,2,3,4.2,5,6.5,10)\n",
    "x=(1,2,3,4)\n",
    "\n",
    "print (\"z\"in t)\n",
    "print (\"h\" in t)\n",
    "print (\"k\" in t)\n",
    "print (\"K\" in t)\n",
    "print (4 in u)\n",
    "print (4.2 in u)\n",
    "\n",
    "print (t, u)\n",
    "t,u\n",
    "t==u\n",
    "t+u\n"
   ]
  },
  {
   "cell_type": "code",
   "execution_count": 20,
   "id": "1727c1de-d2ad-404d-b1be-4d93aaad4251",
   "metadata": {},
   "outputs": [
    {
     "ename": "TypeError",
     "evalue": "unsupported operand type(s) for -: 'tuple' and 'tuple'",
     "output_type": "error",
     "traceback": [
      "\u001b[1;31m---------------------------------------------------------------------------\u001b[0m",
      "\u001b[1;31mTypeError\u001b[0m                                 Traceback (most recent call last)",
      "Cell \u001b[1;32mIn[20], line 4\u001b[0m\n\u001b[0;32m      1\u001b[0m u\u001b[38;5;241m=\u001b[39m(\u001b[38;5;241m1\u001b[39m,\u001b[38;5;241m2\u001b[39m,\u001b[38;5;241m3\u001b[39m,\u001b[38;5;241m4.2\u001b[39m,\u001b[38;5;241m5\u001b[39m,\u001b[38;5;241m6.5\u001b[39m,\u001b[38;5;241m10\u001b[39m)\n\u001b[0;32m      2\u001b[0m x\u001b[38;5;241m=\u001b[39m(\u001b[38;5;241m1\u001b[39m,\u001b[38;5;241m2\u001b[39m,\u001b[38;5;241m3\u001b[39m,\u001b[38;5;241m4\u001b[39m)\n\u001b[1;32m----> 4\u001b[0m \u001b[38;5;28mprint\u001b[39m (u\u001b[38;5;241m-\u001b[39mx)\n\u001b[0;32m      5\u001b[0m pring (x \u001b[38;5;129;01min\u001b[39;00m u)\n",
      "\u001b[1;31mTypeError\u001b[0m: unsupported operand type(s) for -: 'tuple' and 'tuple'"
     ]
    }
   ],
   "source": [
    "u=(1,2,3,4.2,5,6.5,10)\n",
    "x=(1,2,3,4)\n",
    "\n",
    "print (u-x)\n",
    "pring (x in u)"
   ]
  },
  {
   "cell_type": "code",
   "execution_count": 21,
   "id": "0f800375-e596-4c4c-a065-bfd9378c5d96",
   "metadata": {},
   "outputs": [
    {
     "name": "stdout",
     "output_type": "stream",
     "text": [
      "False\n"
     ]
    }
   ],
   "source": [
    "u1=(1,2,3,4.2,5,6.5,10)\n",
    "x1=(1,2,3,4)\n",
    "\n",
    "print (x1 in u1)"
   ]
  },
  {
   "cell_type": "code",
   "execution_count": null,
   "id": "3f86dcf4-82a4-43e4-8f58-ecf961256658",
   "metadata": {},
   "outputs": [],
   "source": []
  }
 ],
 "metadata": {
  "kernelspec": {
   "display_name": "Python 3 (ipykernel)",
   "language": "python",
   "name": "python3"
  },
  "language_info": {
   "codemirror_mode": {
    "name": "ipython",
    "version": 3
   },
   "file_extension": ".py",
   "mimetype": "text/x-python",
   "name": "python",
   "nbconvert_exporter": "python",
   "pygments_lexer": "ipython3",
   "version": "3.11.7"
  }
 },
 "nbformat": 4,
 "nbformat_minor": 5
}
