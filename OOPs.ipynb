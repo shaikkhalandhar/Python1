{
 "cells": [
  {
   "cell_type": "markdown",
   "id": "3a4be546-a80f-496b-a540-ca8a604151d1",
   "metadata": {},
   "source": [
    "Object Oriented Programming\n",
    "1. Class\n",
    "2. Object\n",
    "3. Abstraction\n",
    "4. Polymorphism\n",
    "5. Inheritance\n",
    "6. Encapsulation"
   ]
  },
  {
   "cell_type": "code",
   "execution_count": 4,
   "id": "1f342af7-e1b4-44ed-8b1c-8c15dff782a2",
   "metadata": {},
   "outputs": [
    {
     "name": "stdout",
     "output_type": "stream",
     "text": [
      "Tiger is wild animal\n"
     ]
    }
   ],
   "source": [
    "#class creation\n",
    "\n",
    "class forest:\n",
    "    name=\"\"\n",
    "    type=\"\"\n",
    "\n",
    "#Object creation\n",
    "animal = forest()\n",
    "animal.name = \"Tiger\"\n",
    "animal.type = \"wild\"\n",
    "\n",
    "#access attributes\n",
    "print(f'{animal.name} is {animal.type} animal')"
   ]
  },
  {
   "cell_type": "code",
   "execution_count": null,
   "id": "6ab105c2-e780-433d-9441-ab1c8b0d8697",
   "metadata": {},
   "outputs": [],
   "source": []
  }
 ],
 "metadata": {
  "kernelspec": {
   "display_name": "Python 3 (ipykernel)",
   "language": "python",
   "name": "python3"
  },
  "language_info": {
   "codemirror_mode": {
    "name": "ipython",
    "version": 3
   },
   "file_extension": ".py",
   "mimetype": "text/x-python",
   "name": "python",
   "nbconvert_exporter": "python",
   "pygments_lexer": "ipython3",
   "version": "3.11.7"
  }
 },
 "nbformat": 4,
 "nbformat_minor": 5
}
