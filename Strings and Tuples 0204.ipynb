{
 "cells": [
  {
   "cell_type": "markdown",
   "id": "7335cd66-3684-4e59-8b1f-c6b41a994a46",
   "metadata": {},
   "source": [
    "String and Tuples\n",
    "\n",
    "#String Methods\n",
    "1. len() #returns lenght of the string\n",
    "2. upper()/lower () # change the characters uppet to lower and lower to upper case\n",
    "3. strip() # returns the white spaces in string\n",
    "4. replace() # replace the string\n",
    "5. split() # split the string into a list of strings\n",
    "6. joins() # joins the two strings"
   ]
  },
  {
   "cell_type": "code",
   "execution_count": 11,
   "id": "31f93fc0-b632-4699-958d-02ab49c5a50f",
   "metadata": {},
   "outputs": [
    {
     "name": "stdout",
     "output_type": "stream",
     "text": [
      "52\n",
      "46\n",
      "32\n",
      "57\n",
      "18\n"
     ]
    }
   ],
   "source": [
    "#len()\n",
    "l= \" I am shaik dada khalandhar and I am woking for JPMC\"\n",
    "l1= \"I am going to python class from last two weeks\"\n",
    "l2= \"I am from kurnool which is in AP\"\n",
    "l4= \"Along with me santhosh and sharath are coming to DA class\"\n",
    "l5= \"I like apple fruit\"\n",
    "print(len(l))\n",
    "print(len(l1))\n",
    "print(len(l2))\n",
    "print(len(l4))\n",
    "print(len(l5))"
   ]
  },
  {
   "cell_type": "code",
   "execution_count": 18,
   "id": "966deaca-82e7-4349-b331-e7799e6d36b4",
   "metadata": {},
   "outputs": [
    {
     "name": "stdout",
     "output_type": "stream",
     "text": [
      "I AM SHAIK DADA KHALANDHAR AND I AM WOKING FOR JPMC\n",
      "I AM GOING TO PYTHON CLASS FROM LAST TWO WEEKS\n",
      "I AM FROM KURNOOL WHICH IS IN AP\n",
      "ALONG WITH ME SANTHOSH AND SHARATH ARE COMING TO DA CLASS\n",
      "I LIKE APPLE FRUIT\n"
     ]
    }
   ],
   "source": [
    "#upper case\n",
    "u= \"I am shaik dada khalandhar and I am woking for JPMC\"\n",
    "u1= \"I am going to python class from last two weeks\"\n",
    "u2= \"I am from kurnool which is in AP\"\n",
    "u3= \"Along with me santhosh and sharath are coming to DA class\"\n",
    "u4= \"I like apple fruit\"\n",
    "\n",
    "print(u.upper())\n",
    "print(u1.upper())\n",
    "print(u2.upper())\n",
    "print(u3.upper())\n",
    "print(u4.upper())"
   ]
  },
  {
   "cell_type": "code",
   "execution_count": 23,
   "id": "c83cac71-d54b-4948-a74f-b97a92177e0b",
   "metadata": {},
   "outputs": [
    {
     "name": "stdout",
     "output_type": "stream",
     "text": [
      "i am shaik dada khalandhar and i am woking for jpmc\n",
      "i am going to python class from last two weeks\n",
      "i am from kurnool which is in ap\n",
      "along with me santhosh and sharath are coming to da class\n",
      "i like apple fruit\n"
     ]
    }
   ],
   "source": [
    "#lower case\n",
    "lo=\"I AM SHAIK DADA KHALANDHAR AND I AM WOKING FOR JPMC\"\n",
    "lo1=\"I AM GOING TO PYTHON CLASS FROM LAST TWO WEEKS\"\n",
    "lo2=\"I AM FROM KURNOOL WHICH IS IN AP\"\n",
    "lo3=\"ALONG WITH ME SANTHOSH AND SHARATH ARE COMING TO DA CLASS\"\n",
    "lo4=\"I LIKE APPLE FRUIT\"\n",
    "\n",
    "print(lo.lower())\n",
    "print(lo1.lower())\n",
    "print(lo2.lower())\n",
    "print(lo3.lower())\n",
    "print(lo4.lower())"
   ]
  },
  {
   "cell_type": "code",
   "execution_count": 28,
   "id": "d561b7ba-68dd-490d-9b52-96706a14479c",
   "metadata": {},
   "outputs": [
    {
     "name": "stdout",
     "output_type": "stream",
     "text": [
      "I AM SHAIK DADA KHALANDHAR AND I AM WOKING FOR JPMC\n",
      "I AM GOING TO PYTHON CLASS FROM LAST TWO WEEKS\n",
      "I AM FROM KURNOOL WHICH IS IN AP\n",
      "ALONG WITH ME SANTHOSH AND SHARATH ARE COMING TO DA CLASS\n",
      "I LIKE APPLE FRUIT\n"
     ]
    }
   ],
   "source": [
    "#strip\n",
    "strip1= \"      I AM SHAIK DADA KHALANDHAR AND I AM WOKING FOR JPMC       \"\n",
    "strip2= \"      I AM GOING TO PYTHON CLASS FROM LAST TWO WEEKS    \"\n",
    "strip3= \"      I AM FROM KURNOOL WHICH IS IN AP      \"\n",
    "strip4= \"      ALONG WITH ME SANTHOSH AND SHARATH ARE COMING TO DA CLASS    \"\n",
    "strip5= \"      I LIKE APPLE FRUIT         \"\n",
    "\n",
    "print(strip1.strip())\n",
    "print(strip2.strip())\n",
    "print(strip3.strip())\n",
    "print(strip4.strip())\n",
    "print(strip5.strip())"
   ]
  },
  {
   "cell_type": "code",
   "execution_count": 46,
   "id": "4595479b-365b-4c9d-9f74-8f8a40ccdc1f",
   "metadata": {},
   "outputs": [
    {
     "name": "stdout",
     "output_type": "stream",
     "text": [
      "I am shaik dada khalandhar and I am woking for Morgan\n",
      "I am going to python class from last two 15 days\n",
      "I am from hyd which is in TS\n",
      "Along with me santu and reddy are coming to DA class\n",
      "I like 555 Haleem\n"
     ]
    }
   ],
   "source": [
    "#replace\n",
    "\n",
    "r= \"I am shaik dada khalandhar and I am woking for JPMC\"\n",
    "r1= \"I am going to python class from last two weeks\"\n",
    "r2= \"I am from kurnool which is in AP\"\n",
    "r4= \"Along with me santhosh and sharath are coming to DA class\"\n",
    "r5= \"I like apple fruit\"\n",
    "\n",
    "print(r.replace(\"JPMC\", \"Morgan\" ))\n",
    "print(r1.replace(\"weeks\",\"15 days\"))\n",
    "print(r2.replace(\"kurnool\",\"hyd\") .replace(\"AP\", \"TS\"))\n",
    "print(r4.replace(\"santhosh\",\"santu\") .replace(\"sharath\",\"reddy\"))\n",
    "print(r5.replace(\"apple fruit\",\"555 Haleem\"))"
   ]
  },
  {
   "cell_type": "code",
   "execution_count": 57,
   "id": "19db93aa-dd5f-4e52-bcca-9bacb22ed5df",
   "metadata": {},
   "outputs": [
    {
     "name": "stdout",
     "output_type": "stream",
     "text": [
      "['I', 'am', 'shaik', 'dada', 'khalandhar', 'and', 'I', 'am', 'woking', 'for', 'JPMC']\n",
      "['I', 'am', 'going', 'to', 'python', 'class', 'from', 'last', 'two', 'weeks']\n",
      "['I', 'am', 'from', 'kurnool', 'which', 'is', 'in', 'AP']\n",
      "['Along', 'with', 'me', 'santhosh', 'and', 'sharath', 'are', 'coming', 'to', 'DA', 'class']\n",
      "['I', 'like', 'apple', 'fruit']\n"
     ]
    }
   ],
   "source": [
    "#split\n",
    "\n",
    "sp= \"I am shaik dada khalandhar and I am woking for JPMC\"\n",
    "sp1= \"I am going to python class from last two weeks\"\n",
    "sp2= \"I am from kurnool which is in AP\"\n",
    "sp3= \"Along with me santhosh and sharath are coming to DA class\"\n",
    "sp4= \"I like apple fruit\"\n",
    "#--------------------------->\n",
    "SP=sp.split()\n",
    "SP1=sp1.split()\n",
    "SP2=sp2.split()\n",
    "SP3=sp3.split()\n",
    "SP4=sp4.split()\n",
    "\n",
    "print(SP)\n",
    "print(SP1)\n",
    "print(SP2)\n",
    "print(SP3)\n",
    "print(SP4)\n"
   ]
  },
  {
   "cell_type": "code",
   "execution_count": 70,
   "id": "83f80a80-68d7-49d7-9d05-f061ca9c8677",
   "metadata": {},
   "outputs": [
    {
     "name": "stdout",
     "output_type": "stream",
     "text": [
      "I am shaik dada khalandhar and I am woking for JPMC\n",
      "I am going to python class from last two weeks\n",
      "I am from kurnool which is in AP\n",
      "I like apple fruit\n"
     ]
    }
   ],
   "source": [
    "#joins\n",
    "\n",
    "j=['I', 'am', 'shaik', 'dada', 'khalandhar', 'and', 'I', 'am', 'woking', 'for', 'JPMC']\n",
    "j1=['I', 'am', 'going', 'to', 'python', 'class', 'from', 'last', 'two', 'weeks']\n",
    "j2=['I', 'am', 'from', 'kurnool', 'which', 'is', 'in', 'AP']\n",
    "j3=['Along', 'with', 'me', 'santhosh', 'and', 'sharath', 'are', 'coming', 'to', 'DA', 'class']\n",
    "j4=['I', 'like', 'apple', 'fruit']\n",
    "\n",
    "jnt=\" \".join(j)\n",
    "jnt1=\" \".join(j1)\n",
    "jnt2=\" \".join(j2)\n",
    "jnt3=\" \".join(j3)\n",
    "jnt4=\" \".join(j4)\n",
    "\n",
    "print(jnt)\n",
    "print(jnt1)\n",
    "print(jnt2)\n",
    "print(jnt4)"
   ]
  },
  {
   "cell_type": "markdown",
   "id": "79086609-17c0-4ccf-a864-5f8557e9c718",
   "metadata": {},
   "source": [
    "Python Tuples"
   ]
  },
  {
   "cell_type": "markdown",
   "id": "a1916353-0966-441f-b041-617017d3d776",
   "metadata": {},
   "source": [
    "Tuples\n",
    "1. Empty tuple\n",
    "2. tuple with elements\n",
    "3. mixed data type tuple\n",
    "4. accessing ot tuple\n",
    "5. immutabilit tuple\n",
    "6. combining two tuples\n",
    "7. repetation tuple\n",
    "8. count tuple\n",
    "9. index tuple"
   ]
  },
  {
   "cell_type": "code",
   "execution_count": 76,
   "id": "f5d5c0e7-926a-40c4-aeff-579659f3d354",
   "metadata": {},
   "outputs": [
    {
     "name": "stdout",
     "output_type": "stream",
     "text": [
      "()\n"
     ]
    }
   ],
   "source": [
    "tp=() #empty tuple\n",
    "print(tp)"
   ]
  },
  {
   "cell_type": "code",
   "execution_count": 77,
   "id": "7a4b94fd-1c97-4c42-a93b-01b2a95be7e5",
   "metadata": {},
   "outputs": [
    {
     "name": "stdout",
     "output_type": "stream",
     "text": [
      "('a', 'b', 'c', 'd', 'e', 'f', 'g', 'h', 'i', 'j', 'k', 'l', 'm', 'n', 'o', 'p', 'q', 'r', 's', 't', 'u', 'v', 'w', 'x', 'y', 'z')\n"
     ]
    }
   ],
   "source": [
    "#tuple with elements\n",
    "\n",
    "tp1=('a','b','c','d','e','f','g','h','i','j','k','l','m','n','o','p','q','r','s','t','u','v','w','x','y','z')\n",
    "print(tp1)"
   ]
  },
  {
   "cell_type": "code",
   "execution_count": 80,
   "id": "df7d30ff-b6be-46a4-974a-17ad65e91dcb",
   "metadata": {},
   "outputs": [
    {
     "name": "stdout",
     "output_type": "stream",
     "text": [
      "A,B,C,D,E,F,G,H,I,J,K,L,M,N,O,P,Q,R,S,T,U,V,W,X,Y,Z\n"
     ]
    }
   ],
   "source": [
    "tp1=('a,b,c,d,e,f,g,h,i,j,k,l,m,n,o,p,q,r,s,t,u,v,w,x,y,z') #here tp1 is treated as string\n",
    "print(tp1.upper())"
   ]
  },
  {
   "cell_type": "code",
   "execution_count": 81,
   "id": "9e217462-bcaa-42e3-b43e-9075eca1a6f3",
   "metadata": {},
   "outputs": [
    {
     "ename": "AttributeError",
     "evalue": "'tuple' object has no attribute 'upper'",
     "output_type": "error",
     "traceback": [
      "\u001b[1;31m---------------------------------------------------------------------------\u001b[0m",
      "\u001b[1;31mAttributeError\u001b[0m                            Traceback (most recent call last)",
      "Cell \u001b[1;32mIn[81], line 2\u001b[0m\n\u001b[0;32m      1\u001b[0m tp1\u001b[38;5;241m=\u001b[39m(\u001b[38;5;124m'\u001b[39m\u001b[38;5;124ma\u001b[39m\u001b[38;5;124m'\u001b[39m,\u001b[38;5;124m'\u001b[39m\u001b[38;5;124mb\u001b[39m\u001b[38;5;124m'\u001b[39m,\u001b[38;5;124m'\u001b[39m\u001b[38;5;124mc\u001b[39m\u001b[38;5;124m'\u001b[39m,\u001b[38;5;124m'\u001b[39m\u001b[38;5;124md\u001b[39m\u001b[38;5;124m'\u001b[39m,\u001b[38;5;124m'\u001b[39m\u001b[38;5;124me\u001b[39m\u001b[38;5;124m'\u001b[39m,\u001b[38;5;124m'\u001b[39m\u001b[38;5;124mf\u001b[39m\u001b[38;5;124m'\u001b[39m,\u001b[38;5;124m'\u001b[39m\u001b[38;5;124mg\u001b[39m\u001b[38;5;124m'\u001b[39m,\u001b[38;5;124m'\u001b[39m\u001b[38;5;124mh\u001b[39m\u001b[38;5;124m'\u001b[39m,\u001b[38;5;124m'\u001b[39m\u001b[38;5;124mi\u001b[39m\u001b[38;5;124m'\u001b[39m,\u001b[38;5;124m'\u001b[39m\u001b[38;5;124mj\u001b[39m\u001b[38;5;124m'\u001b[39m,\u001b[38;5;124m'\u001b[39m\u001b[38;5;124mk\u001b[39m\u001b[38;5;124m'\u001b[39m,\u001b[38;5;124m'\u001b[39m\u001b[38;5;124ml\u001b[39m\u001b[38;5;124m'\u001b[39m,\u001b[38;5;124m'\u001b[39m\u001b[38;5;124mm\u001b[39m\u001b[38;5;124m'\u001b[39m,\u001b[38;5;124m'\u001b[39m\u001b[38;5;124mn\u001b[39m\u001b[38;5;124m'\u001b[39m,\u001b[38;5;124m'\u001b[39m\u001b[38;5;124mo\u001b[39m\u001b[38;5;124m'\u001b[39m,\u001b[38;5;124m'\u001b[39m\u001b[38;5;124mp\u001b[39m\u001b[38;5;124m'\u001b[39m,\u001b[38;5;124m'\u001b[39m\u001b[38;5;124mq\u001b[39m\u001b[38;5;124m'\u001b[39m,\u001b[38;5;124m'\u001b[39m\u001b[38;5;124mr\u001b[39m\u001b[38;5;124m'\u001b[39m,\u001b[38;5;124m'\u001b[39m\u001b[38;5;124ms\u001b[39m\u001b[38;5;124m'\u001b[39m,\u001b[38;5;124m'\u001b[39m\u001b[38;5;124mt\u001b[39m\u001b[38;5;124m'\u001b[39m,\u001b[38;5;124m'\u001b[39m\u001b[38;5;124mu\u001b[39m\u001b[38;5;124m'\u001b[39m,\u001b[38;5;124m'\u001b[39m\u001b[38;5;124mv\u001b[39m\u001b[38;5;124m'\u001b[39m,\u001b[38;5;124m'\u001b[39m\u001b[38;5;124mw\u001b[39m\u001b[38;5;124m'\u001b[39m,\u001b[38;5;124m'\u001b[39m\u001b[38;5;124mx\u001b[39m\u001b[38;5;124m'\u001b[39m,\u001b[38;5;124m'\u001b[39m\u001b[38;5;124my\u001b[39m\u001b[38;5;124m'\u001b[39m,\u001b[38;5;124m'\u001b[39m\u001b[38;5;124mz\u001b[39m\u001b[38;5;124m'\u001b[39m)\n\u001b[1;32m----> 2\u001b[0m \u001b[38;5;28mprint\u001b[39m(tp1\u001b[38;5;241m.\u001b[39mupper())\n",
      "\u001b[1;31mAttributeError\u001b[0m: 'tuple' object has no attribute 'upper'"
     ]
    }
   ],
   "source": [
    "tp1=('a','b','c','d','e','f','g','h','i','j','k','l','m','n','o','p','q','r','s','t','u','v','w','x','y','z')\n",
    "print(tp1.upper())"
   ]
  },
  {
   "cell_type": "code",
   "execution_count": 83,
   "id": "e9205b8c-03d9-497e-9c41-763f262d5e13",
   "metadata": {},
   "outputs": [
    {
     "name": "stdout",
     "output_type": "stream",
     "text": [
      "('a', 'b', 'c', 'd', 'e', 'f', 'g', 'h', 'i', 'j', 'k', 'l', 'm', 14, 15, 16, 17, 18, 19, 20, 21, 22, 23, 24, 25, 26)\n",
      "26\n"
     ]
    }
   ],
   "source": [
    "#mixed tuple\n",
    "tp2=('a','b','c','d','e','f','g','h','i','j','k','l','m',14,15,16,17,18,19,20,21,22,23,24,25,26)\n",
    "print(tp2)\n",
    "print(len(tp2))"
   ]
  },
  {
   "cell_type": "code",
   "execution_count": 88,
   "id": "16c2c2f7-5580-4cda-8522-0829b3282581",
   "metadata": {},
   "outputs": [
    {
     "name": "stdout",
     "output_type": "stream",
     "text": [
      "(55,)\n",
      "('AA',)\n",
      "1\n"
     ]
    },
    {
     "data": {
      "text/plain": [
       "1"
      ]
     },
     "execution_count": 88,
     "metadata": {},
     "output_type": "execute_result"
    }
   ],
   "source": [
    "#single element tuple\n",
    "tp3=(55,)\n",
    "tp4=(\"AA\",)\n",
    "\n",
    "print(tp3)\n",
    "print(tp4)\n",
    "print(len(tp3))\n",
    "len((tp4))"
   ]
  },
  {
   "cell_type": "code",
   "execution_count": 97,
   "id": "1f00b52c-cc4b-47d8-a23e-f5208957f83f",
   "metadata": {},
   "outputs": [
    {
     "name": "stdout",
     "output_type": "stream",
     "text": [
      "('k', 'l', 'm', 14, 15, 16, 17, 18, 19, 20)\n",
      "('g', 'h', 'i', 'j', 'k', 'l', 'm', 14, 15, 16, 17, 18, 19, 20, 21, 22, 23, 24, 25)\n",
      "('a',)\n",
      "('a', 'b', 'c', 'd', 'e', 'f', 'g', 'h', 'i', 'j', 'k', 'l', 'm', 14, 15, 16, 17, 18, 19, 20, 21, 22, 23, 24, 25)\n",
      "('g', 'h', 'i', 'j', 'k', 'l', 'm', 14, 15, 16, 17, 18, 19, 20, 21, 22, 23, 24, 25, 26)\n",
      "('a', 'b', 'c', 'd', 'e', 'f', 'g', 'h', 'i', 'j', 'k', 'l', 'm', 14, 15, 16, 17, 18, 19, 20)\n"
     ]
    }
   ],
   "source": [
    "# accessing to tuples\n",
    "\n",
    "tp5=('a','b','c','d','e','f','g','h','i','j','k','l','m',14,15,16,17,18,19,20,21,22,23,24,25,26)\n",
    "\n",
    "print(tp5[10:20])\n",
    "print(tp5[6:-1])\n",
    "print(tp5[:1])\n",
    "print(tp5[:-1])\n",
    "print(tp5[6:])\n",
    "print(tp5[:-6])"
   ]
  },
  {
   "cell_type": "code",
   "execution_count": 100,
   "id": "0cd65893-f903-4328-868b-f2eb0c2bc263",
   "metadata": {},
   "outputs": [
    {
     "name": "stdout",
     "output_type": "stream",
     "text": [
      "('Shaik', 'Santu', 'Sharath')\n"
     ]
    },
    {
     "ename": "TypeError",
     "evalue": "'tuple' object does not support item assignment",
     "output_type": "error",
     "traceback": [
      "\u001b[1;31m---------------------------------------------------------------------------\u001b[0m",
      "\u001b[1;31mTypeError\u001b[0m                                 Traceback (most recent call last)",
      "Cell \u001b[1;32mIn[100], line 5\u001b[0m\n\u001b[0;32m      2\u001b[0m Names\u001b[38;5;241m=\u001b[39m(\u001b[38;5;124m'\u001b[39m\u001b[38;5;124mShaik\u001b[39m\u001b[38;5;124m'\u001b[39m,\u001b[38;5;124m'\u001b[39m\u001b[38;5;124mSantu\u001b[39m\u001b[38;5;124m'\u001b[39m,\u001b[38;5;124m'\u001b[39m\u001b[38;5;124mSharath\u001b[39m\u001b[38;5;124m'\u001b[39m)\n\u001b[0;32m      4\u001b[0m \u001b[38;5;28mprint\u001b[39m(Names)\n\u001b[1;32m----> 5\u001b[0m Names[\u001b[38;5;241m1\u001b[39m]\u001b[38;5;241m=\u001b[39m\u001b[38;5;124m\"\u001b[39m\u001b[38;5;124mSam\u001b[39m\u001b[38;5;124m\"\u001b[39m\n\u001b[0;32m      6\u001b[0m \u001b[38;5;28mprint\u001b[39m(Names)\n",
      "\u001b[1;31mTypeError\u001b[0m: 'tuple' object does not support item assignment"
     ]
    }
   ],
   "source": [
    "#immutability \n",
    "Names=('Shaik','Santu','Sharath')\n",
    "\n",
    "print(Names)\n",
    "\n",
    "Names[1]=\"Sam\"\n",
    "print(Names)"
   ]
  },
  {
   "cell_type": "code",
   "execution_count": 101,
   "id": "12390665-1625-4f15-9de8-cbd244f29e06",
   "metadata": {},
   "outputs": [
    {
     "name": "stdout",
     "output_type": "stream",
     "text": [
      "('a', 'b', 'c', 'd', 'e', 'f', 'g', 'h', 'i', 'j', 'k', 'l', 'm', 1, 2, 3, 4, 5, 6, 7, 8, 9, 10, 11, 12, 13)\n"
     ]
    }
   ],
   "source": [
    "#combining two tuples\n",
    "ca=('a','b','c','d','e','f','g','h','i','j','k','l','m')\n",
    "cn=(1,2,3,4,5,6,7,8,9,10,11,12,13)\n",
    "\n",
    "cacn=(ca+cn)\n",
    "print(cacn)"
   ]
  },
  {
   "cell_type": "code",
   "execution_count": 105,
   "id": "2303f2f2-9d21-4f5a-8a72-3e654fffc713",
   "metadata": {},
   "outputs": [
    {
     "name": "stdout",
     "output_type": "stream",
     "text": [
      "('a', 'b', 'c', 'd', 'e', 'f', 'g', 'h', 'i', 'j', 'k', 'l', 'm', 'a', 'b', 'c', 'd', 'e', 'f', 'g', 'h', 'i', 'j', 'k', 'l', 'm', 'a', 'b', 'c', 'd', 'e', 'f', 'g', 'h', 'i', 'j', 'k', 'l', 'm', 'a', 'b', 'c', 'd', 'e', 'f', 'g', 'h', 'i', 'j', 'k', 'l', 'm', 'a', 'b', 'c', 'd', 'e', 'f', 'g', 'h', 'i', 'j', 'k', 'l', 'm')\n",
      "(1, 2, 3, 4, 5, 6, 7, 8, 9, 10, 11, 12, 13, 1, 2, 3, 4, 5, 6, 7, 8, 9, 10, 11, 12, 13, 1, 2, 3, 4, 5, 6, 7, 8, 9, 10, 11, 12, 13, 1, 2, 3, 4, 5, 6, 7, 8, 9, 10, 11, 12, 13, 1, 2, 3, 4, 5, 6, 7, 8, 9, 10, 11, 12, 13)\n"
     ]
    }
   ],
   "source": [
    "ca=('a','b','c','d','e','f','g','h','i','j','k','l','m')\n",
    "cn=(1,2,3,4,5,6,7,8,9,10,11,12,13)\n",
    "\n",
    "repe=ca*5\n",
    "print(repe)\n",
    "\n",
    "repe1=cn*5\n",
    "print(repe1)"
   ]
  },
  {
   "cell_type": "code",
   "execution_count": 109,
   "id": "6fccf894-4027-4616-b2c1-f5ce8f64fe9a",
   "metadata": {},
   "outputs": [
    {
     "name": "stdout",
     "output_type": "stream",
     "text": [
      "1\n"
     ]
    }
   ],
   "source": [
    "#tuple count\n",
    "cn=(1,2,3,4,5,6,7,8,9,10,11,12,13)\n",
    "\n",
    "count=cn.count(1)\n",
    "print(count)"
   ]
  },
  {
   "cell_type": "code",
   "execution_count": 120,
   "id": "906b5a26-358a-483b-89dd-029329d9a014",
   "metadata": {},
   "outputs": [
    {
     "name": "stdout",
     "output_type": "stream",
     "text": [
      "6\n",
      "(1, 2, 3, 4, 5)\n",
      "(6, 7, 8, 9, 10, 11, 12, 13)\n",
      "(1, 2, 3, 4, 5, 6, 7, 8)\n"
     ]
    }
   ],
   "source": [
    "#tuple index\n",
    "ind=(1,2,3,4,5,6,7,8,9,10,11,12,13)\n",
    "\n",
    "print(ind[5])\n",
    "print(ind[:5])\n",
    "print(ind[5:])\n",
    "print(ind[0:-5])"
   ]
  },
  {
   "cell_type": "code",
   "execution_count": 22,
   "id": "faf94f38-34c6-4570-ac79-75350ccd67d0",
   "metadata": {},
   "outputs": [
    {
     "name": "stdout",
     "output_type": "stream",
     "text": [
      "Hello jack\n",
      "('Hellojack', 'Hellojack')\n"
     ]
    }
   ],
   "source": [
    "#additional \n",
    "\n",
    "#capitalize ----> converting first letter of string into caps\n",
    "char=\"hello jack\"\n",
    "\n",
    "_c1=char.capitalize()\n",
    "print(_c1)\n",
    "\n",
    "#--------\n",
    "\n",
    "char2=(\"hello\"  \"jack\")\n",
    "_c2=char2.capitalize() , char2.capitalize() #check cant we print 1st letter as caps in 2nd word \n",
    "print(_c2)\n"
   ]
  },
  {
   "cell_type": "code",
   "execution_count": 24,
   "id": "e984966b-b6fb-46d3-a5ab-362e171f6d49",
   "metadata": {},
   "outputs": [
    {
     "name": "stdout",
     "output_type": "stream",
     "text": [
      "hello jack\n"
     ]
    }
   ],
   "source": [
    "#caseflod ---> first letter into small caps\n",
    "\n",
    "cf=\"Hello jack\"\n",
    "fc=cf.casefold()\n",
    "print(fc)"
   ]
  },
  {
   "cell_type": "code",
   "execution_count": 32,
   "id": "ab57ca06-49fd-4e1c-9a3b-6773de8d800e",
   "metadata": {},
   "outputs": [
    {
     "name": "stdout",
     "output_type": "stream",
     "text": [
      "('Hello ', 'jack', '')\n"
     ]
    }
   ],
   "source": [
    "\n",
    "cf=\"Hello jack\"\n",
    "\n",
    "fc1=cf.partition(\"jack\")\n",
    "print(fc1)"
   ]
  },
  {
   "cell_type": "code",
   "execution_count": 34,
   "id": "ecae6528-395f-4fb9-a556-0069bc05e194",
   "metadata": {},
   "outputs": [
    {
     "name": "stdout",
     "output_type": "stream",
     "text": [
      "Hello jack          \n"
     ]
    }
   ],
   "source": [
    "cf=\"Hello jack\" \n",
    "\n",
    "fc1=cf.ljust(20) #added 20 spaces after the string\n",
    "print(fc1)"
   ]
  },
  {
   "cell_type": "code",
   "execution_count": null,
   "id": "f1b5e11d-65ad-4faf-b4ce-750a25804feb",
   "metadata": {},
   "outputs": [],
   "source": []
  }
 ],
 "metadata": {
  "kernelspec": {
   "display_name": "Python 3 (ipykernel)",
   "language": "python",
   "name": "python3"
  },
  "language_info": {
   "codemirror_mode": {
    "name": "ipython",
    "version": 3
   },
   "file_extension": ".py",
   "mimetype": "text/x-python",
   "name": "python",
   "nbconvert_exporter": "python",
   "pygments_lexer": "ipython3",
   "version": "3.11.7"
  }
 },
 "nbformat": 4,
 "nbformat_minor": 5
}
