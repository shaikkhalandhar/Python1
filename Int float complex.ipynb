{
 "cells": [
  {
   "cell_type": "code",
   "execution_count": 1,
   "id": "e8b0eff1-b9f7-4c62-8fd4-36b8a0433357",
   "metadata": {},
   "outputs": [
    {
     "name": "stdout",
     "output_type": "stream",
     "text": [
      "11.0\n",
      "22.0\n",
      "33.0\n"
     ]
    }
   ],
   "source": [
    "#conversion int to float\n",
    "a=11\n",
    "b=22\n",
    "c=33\n",
    "\n",
    "print(float(a))\n",
    "print(float(b))\n",
    "print(float(c))"
   ]
  },
  {
   "cell_type": "code",
   "execution_count": 3,
   "id": "cdab35eb-7ff7-4b11-8870-52a86738c6a5",
   "metadata": {},
   "outputs": [
    {
     "name": "stdout",
     "output_type": "stream",
     "text": [
      "44\n",
      "55\n"
     ]
    }
   ],
   "source": [
    "#conversion float to int\n",
    "d=44.3\n",
    "e=55.8\n",
    "\n",
    "print(int(d))\n",
    "print(int(e))"
   ]
  },
  {
   "cell_type": "code",
   "execution_count": 1,
   "id": "39827515-adf4-4199-8d14-7c47deb8092d",
   "metadata": {},
   "outputs": [
    {
     "name": "stdout",
     "output_type": "stream",
     "text": [
      "(3+2j) (6-4j)\n"
     ]
    }
   ],
   "source": [
    "#complex \n",
    "g=3+2j\n",
    "h=6-4j\n",
    "\n",
    "print (g,h)"
   ]
  },
  {
   "cell_type": "code",
   "execution_count": 6,
   "id": "ca7245a2-a92a-4113-b630-d613d2abdb9d",
   "metadata": {},
   "outputs": [
    {
     "name": "stdout",
     "output_type": "stream",
     "text": [
      "<class 'complex'>\n",
      "<class 'complex'>\n"
     ]
    }
   ],
   "source": [
    "print(type(g))\n",
    "print(type(h))"
   ]
  },
  {
   "cell_type": "code",
   "execution_count": 2,
   "id": "25599ab9-1d35-4bb2-9591-44acfd2db9f4",
   "metadata": {},
   "outputs": [
    {
     "ename": "NameError",
     "evalue": "name 'Print' is not defined",
     "output_type": "error",
     "traceback": [
      "\u001b[1;31m---------------------------------------------------------------------------\u001b[0m",
      "\u001b[1;31mNameError\u001b[0m                                 Traceback (most recent call last)",
      "Cell \u001b[1;32mIn[2], line 1\u001b[0m\n\u001b[1;32m----> 1\u001b[0m Print (\u001b[38;5;28mtype\u001b[39m (g),(h))\n",
      "\u001b[1;31mNameError\u001b[0m: name 'Print' is not defined"
     ]
    }
   ],
   "source": [
    "Print (type (g),(h))"
   ]
  },
  {
   "cell_type": "code",
   "execution_count": 3,
   "id": "1f5898ff-dd98-4241-a2e8-baccb3768c65",
   "metadata": {},
   "outputs": [
    {
     "ename": "SyntaxError",
     "evalue": "invalid syntax. Perhaps you forgot a comma? (3556027536.py, line 1)",
     "output_type": "error",
     "traceback": [
      "\u001b[1;36m  Cell \u001b[1;32mIn[3], line 1\u001b[1;36m\u001b[0m\n\u001b[1;33m    Print (type g,h)\u001b[0m\n\u001b[1;37m           ^\u001b[0m\n\u001b[1;31mSyntaxError\u001b[0m\u001b[1;31m:\u001b[0m invalid syntax. Perhaps you forgot a comma?\n"
     ]
    }
   ],
   "source": [
    "Print (type g,h)"
   ]
  },
  {
   "cell_type": "code",
   "execution_count": 14,
   "id": "65fffb52-89af-43c8-a763-96d634997b5b",
   "metadata": {},
   "outputs": [
    {
     "name": "stdout",
     "output_type": "stream",
     "text": [
      "(4+2j)\n"
     ]
    }
   ],
   "source": [
    "i=a+g\n",
    "print(i)\n",
    "#Q- a=11 but below answer popped up, check once  "
   ]
  },
  {
   "cell_type": "code",
   "execution_count": null,
   "id": "da12fa2b-b0d0-4284-a3a3-69b9f5754ce3",
   "metadata": {},
   "outputs": [],
   "source": []
  }
 ],
 "metadata": {
  "kernelspec": {
   "display_name": "Python 3 (ipykernel)",
   "language": "python",
   "name": "python3"
  },
  "language_info": {
   "codemirror_mode": {
    "name": "ipython",
    "version": 3
   },
   "file_extension": ".py",
   "mimetype": "text/x-python",
   "name": "python",
   "nbconvert_exporter": "python",
   "pygments_lexer": "ipython3",
   "version": "3.11.7"
  }
 },
 "nbformat": 4,
 "nbformat_minor": 5
}
