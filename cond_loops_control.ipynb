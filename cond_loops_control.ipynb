{
 "cells": [
  {
   "cell_type": "markdown",
   "id": "54542e3b-87bb-4199-b986-14235ae206f1",
   "metadata": {},
   "source": [
    "#Conditions\n",
    "# if condition\n",
    "# else condition\n",
    "# elif"
   ]
  },
  {
   "cell_type": "code",
   "execution_count": 1,
   "id": "05ac5211-11a9-4599-82f6-2ec2bab2e572",
   "metadata": {},
   "outputs": [
    {
     "name": "stdout",
     "output_type": "stream",
     "text": [
      "its true\n"
     ]
    }
   ],
   "source": [
    "#if condition \n",
    "\n",
    "digits=15\n",
    "if digits>-10:\n",
    "    print(\"its true\")"
   ]
  },
  {
   "cell_type": "code",
   "execution_count": 3,
   "id": "eda49813-769c-4fc8-9a40-c935b1c699ca",
   "metadata": {},
   "outputs": [],
   "source": [
    "digits2=-20\n",
    "if digits2<-10:\n",
    "    print(\"false\")"
   ]
  },
  {
   "cell_type": "code",
   "execution_count": 18,
   "id": "420aef8d-3b8d-45e1-95f9-0ff065a482b8",
   "metadata": {},
   "outputs": [
    {
     "name": "stdin",
     "output_type": "stream",
     "text": [
      "enter the value 20\n"
     ]
    },
    {
     "name": "stdout",
     "output_type": "stream",
     "text": [
      "No its false\n"
     ]
    }
   ],
   "source": [
    "#else\n",
    "number=100\n",
    "value=input(\"enter the value\")\n",
    "if number < int(value):\n",
    "    print(\"Yes its true\")\n",
    "else:\n",
    "    print(\"No its false\")"
   ]
  },
  {
   "cell_type": "code",
   "execution_count": 30,
   "id": "37973685-ab09-4df1-aec1-957b37826830",
   "metadata": {},
   "outputs": [
    {
     "name": "stdin",
     "output_type": "stream",
     "text": [
      "enter the value 200\n"
     ]
    },
    {
     "name": "stdout",
     "output_type": "stream",
     "text": [
      "Not found\n"
     ]
    }
   ],
   "source": [
    "#elif\n",
    "num=(\"10\",\"20\",\"30\")\n",
    "num2=(\"40\",\"50\",\"60\")\n",
    "value=input(\"enter the value\")\n",
    "\n",
    "if value in num:\n",
    "    print(\"Yes it is valiable in num\")\n",
    "elif value in num2:\n",
    "    print(\"Yes its avalible in num2\")\n",
    "else:\n",
    "    print(\"Not found\")"
   ]
  },
  {
   "cell_type": "code",
   "execution_count": 7,
   "id": "939ca469-7d46-4838-9cbb-121281b96488",
   "metadata": {},
   "outputs": [
    {
     "name": "stdin",
     "output_type": "stream",
     "text": [
      "enter the value 10\n"
     ]
    },
    {
     "name": "stdout",
     "output_type": "stream",
     "text": [
      "Yes it is valiable in num\n"
     ]
    }
   ],
   "source": [
    "num=[10,20,30]\n",
    "num2=[40,50,60]\n",
    "value=int(input(\"enter the value\"))\n",
    "\n",
    "if value in num:\n",
    "    print(\"Yes it is valiable in num\")\n",
    "elif value in num2:\n",
    "    print(\"Yes its avalible in num2\")\n",
    "else:\n",
    "    print(\"Not found\")"
   ]
  },
  {
   "cell_type": "code",
   "execution_count": 9,
   "id": "a0d86457-1191-4b0a-a912-d25473ae63a2",
   "metadata": {},
   "outputs": [
    {
     "name": "stdin",
     "output_type": "stream",
     "text": [
      "enter the value 15\n"
     ]
    },
    {
     "name": "stdout",
     "output_type": "stream",
     "text": [
      "Yes its avalible in num2\n"
     ]
    }
   ],
   "source": [
    "num=range(0,10)\n",
    "num2=range(11,20)\n",
    "value=int(input(\"enter the value\"))\n",
    "\n",
    "if value in num:\n",
    "    print(\"Yes it is valiable in num\")\n",
    "elif value in num2:\n",
    "    print(\"Yes its avalible in num2\")\n",
    "else:\n",
    "    print(\"Not found\")"
   ]
  },
  {
   "cell_type": "markdown",
   "id": "c7606861-86ef-4b13-80d6-bdb025937c35",
   "metadata": {},
   "source": [
    "Functions - is a block of code which performs specific task"
   ]
  },
  {
   "cell_type": "code",
   "execution_count": 17,
   "id": "afa2df91-7547-44de-be60-57a12d808320",
   "metadata": {},
   "outputs": [
    {
     "name": "stdout",
     "output_type": "stream",
     "text": [
      "hello world\n"
     ]
    }
   ],
   "source": [
    "def greet():\n",
    "    print(\"hello world\")\n",
    "    \n",
    "greet()"
   ]
  },
  {
   "cell_type": "code",
   "execution_count": 19,
   "id": "4c45f306-7550-4b45-ba58-c7428b08f4f3",
   "metadata": {},
   "outputs": [
    {
     "name": "stdout",
     "output_type": "stream",
     "text": [
      "hello, shaik\n"
     ]
    }
   ],
   "source": [
    "#function with agrument\n",
    "def greet(name):\n",
    "    print(f\"hello, {name}\")\n",
    "\n",
    "greet(\"shaik\")"
   ]
  },
  {
   "cell_type": "code",
   "execution_count": 20,
   "id": "5fb24297-0845-476e-8076-d232d812034b",
   "metadata": {},
   "outputs": [
    {
     "name": "stdout",
     "output_type": "stream",
     "text": [
      "Your Name shaik,Your age 30,Your genderMale\n"
     ]
    }
   ],
   "source": [
    "def sutdata(Name, age, gender):\n",
    "    print(f\"Your Name {Name},Your age {age},Your gender{gender}\")\n",
    "\n",
    "sutdata(\"shaik\",30,\"Male\")"
   ]
  },
  {
   "cell_type": "code",
   "execution_count": 31,
   "id": "46418053-2b21-4c1c-aa5e-c3737e375fb0",
   "metadata": {},
   "outputs": [
    {
     "name": "stdout",
     "output_type": "stream",
     "text": [
      "121\n",
      "100\n"
     ]
    },
    {
     "ename": "TypeError",
     "evalue": "can't multiply sequence by non-int of type 'str'",
     "output_type": "error",
     "traceback": [
      "\u001b[1;31m---------------------------------------------------------------------------\u001b[0m",
      "\u001b[1;31mTypeError\u001b[0m                                 Traceback (most recent call last)",
      "Cell \u001b[1;32mIn[31], line 8\u001b[0m\n\u001b[0;32m      6\u001b[0m \u001b[38;5;28mprint\u001b[39m(squares(\u001b[38;5;241m11\u001b[39m))\n\u001b[0;32m      7\u001b[0m \u001b[38;5;28mprint\u001b[39m(squares(\u001b[38;5;241m10\u001b[39m))\n\u001b[1;32m----> 8\u001b[0m \u001b[38;5;28mprint\u001b[39m(squares(\u001b[38;5;124m\"\u001b[39m\u001b[38;5;124ms\u001b[39m\u001b[38;5;124m\"\u001b[39m))\n",
      "Cell \u001b[1;32mIn[31], line 3\u001b[0m, in \u001b[0;36msquares\u001b[1;34m(num)\u001b[0m\n\u001b[0;32m      2\u001b[0m \u001b[38;5;28;01mdef\u001b[39;00m \u001b[38;5;21msquares\u001b[39m(num):\n\u001b[1;32m----> 3\u001b[0m     result\u001b[38;5;241m=\u001b[39mnum\u001b[38;5;241m*\u001b[39mnum\n\u001b[0;32m      4\u001b[0m     \u001b[38;5;28;01mreturn\u001b[39;00m result\n",
      "\u001b[1;31mTypeError\u001b[0m: can't multiply sequence by non-int of type 'str'"
     ]
    }
   ],
   "source": [
    "#Return function\n",
    "def squares(num):\n",
    "    result=num*num\n",
    "    return result\n",
    "\n",
    "print(squares(11))\n",
    "print(squares(10))\n",
    "print(squares(\"s\"))"
   ]
  },
  {
   "cell_type": "code",
   "execution_count": null,
   "id": "00d7e9ff-6c44-44b6-bb78-94eb86bf55ce",
   "metadata": {},
   "outputs": [],
   "source": []
  }
 ],
 "metadata": {
  "kernelspec": {
   "display_name": "Python 3 (ipykernel)",
   "language": "python",
   "name": "python3"
  },
  "language_info": {
   "codemirror_mode": {
    "name": "ipython",
    "version": 3
   },
   "file_extension": ".py",
   "mimetype": "text/x-python",
   "name": "python",
   "nbconvert_exporter": "python",
   "pygments_lexer": "ipython3",
   "version": "3.11.7"
  }
 },
 "nbformat": 4,
 "nbformat_minor": 5
}
