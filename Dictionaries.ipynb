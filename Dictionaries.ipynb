{
 "cells": [
  {
   "cell_type": "markdown",
   "id": "b2984277-0509-4c85-b153-a31750ee98fc",
   "metadata": {},
   "source": [
    "Python Dictionaries"
   ]
  },
  {
   "cell_type": "code",
   "execution_count": null,
   "id": "904fe626-8858-4171-9c6f-6f499732e4c4",
   "metadata": {},
   "outputs": [],
   "source": [
    "# Empty Dictionaries\n",
    "ed={}"
   ]
  },
  {
   "cell_type": "code",
   "execution_count": 1,
   "id": "8b11c3ef-5fb6-4150-a772-e4ed6a3961bc",
   "metadata": {},
   "outputs": [
    {
     "data": {
      "text/plain": [
       "{'Name': 'Shaik', 'Age': 35, 'Place': 'Kurnool'}"
      ]
     },
     "execution_count": 1,
     "metadata": {},
     "output_type": "execute_result"
    }
   ],
   "source": [
    "pd={\"Name\":\"Shaik\", \"Age\":35, \"Place\":\"Kurnool\"}\n",
    "pd\n",
    "\n",
    "#Dictionaries work based on mapping the values"
   ]
  },
  {
   "cell_type": "code",
   "execution_count": 1,
   "id": "608fb661-7750-4f0b-9be8-c28899fcf4ee",
   "metadata": {},
   "outputs": [
    {
     "data": {
      "text/plain": [
       "{'Name': 'Jack', 'country': 'USA', 'State code': [22, 23, 24]}"
      ]
     },
     "execution_count": 1,
     "metadata": {},
     "output_type": "execute_result"
    }
   ],
   "source": [
    "#mixed Dict\n",
    "mxd={\"Name\":\"Jack\",\"country\":\"USA\",\"State code\":[22,23,24]}\n",
    "mxd"
   ]
  },
  {
   "cell_type": "markdown",
   "id": "af455eee-d70d-42dd-8278-19ae7365a0cc",
   "metadata": {},
   "source": [
    "Accessing values\n",
    "#we can access dictionaries the values by using the key"
   ]
  },
  {
   "cell_type": "code",
   "execution_count": 9,
   "id": "7fb0c378-1aa9-4f4c-bcc2-77735717ebc7",
   "metadata": {},
   "outputs": [
    {
     "name": "stdout",
     "output_type": "stream",
     "text": [
      "Amar\n",
      "20k\n"
     ]
    }
   ],
   "source": [
    "emp={\"Name\":\"Amar\",\n",
    "     \"Age\":24,\n",
    "     \"Id\":102\n",
    "    }\n",
    "empfin={\"Lta\":\"10k\",\n",
    "        \"Sal\":\"20k\",\n",
    "        \"Place\":\"Hyd\"}\n",
    "\n",
    "print(emp[\"Name\"])\n",
    "print(empfin[\"Sal\"])"
   ]
  },
  {
   "cell_type": "code",
   "execution_count": 20,
   "id": "40a5164b-3d93-4556-b8f4-97b3b3efcda7",
   "metadata": {},
   "outputs": [
    {
     "name": "stdout",
     "output_type": "stream",
     "text": [
      "[10, 20, 30]\n",
      "online\n"
     ]
    }
   ],
   "source": [
    "hotel={\"item\":\"Veg\",\n",
    "     \"price\":[10,20,30]}\n",
    "\n",
    "pay={\"payment\":\"online\",\n",
    "   \"card\":\"SBI\"}\n",
    "\n",
    "print(hotel[\"price\"])\n",
    "print(pay[\"payment\"])"
   ]
  },
  {
   "cell_type": "code",
   "execution_count": 9,
   "id": "d8cbf8c1-ed80-4dac-8c43-d4a7fe651cfa",
   "metadata": {},
   "outputs": [
    {
     "name": "stdout",
     "output_type": "stream",
     "text": [
      "{'Lta': '10k', 'Sal': '20k', 'Place': 'Hyd', 'sal': 25000}\n",
      "{'item': 'Veg', 'price': [5, 9]}\n",
      "{'payment': 'online', 'card': 'hdfc'}\n",
      "{'Name': 'Amar', 'Age': 30, 'Id': 102}\n"
     ]
    }
   ],
   "source": [
    "#modifying\n",
    "emp={\"Name\":\"Amar\",\n",
    "     \"Age\":24,\n",
    "     \"Id\":102}\n",
    "\n",
    "empfin={\"Lta\":\"10k\",\n",
    "        \"Sal\":\"20k\",\n",
    "        \"Place\":\"Hyd\"}\n",
    "\n",
    "hotel={\"item\":\"Veg\",\n",
    "     \"price\":[10,20,30]}\n",
    "\n",
    "pay={\"payment\":\"online\",\n",
    "   \"card\":\"SBI\"}\n",
    "\n",
    "#modify \n",
    "emp[\"Age\"]=30\n",
    "empfin[\"sal\"]=25000\n",
    "hotel[\"price\"]=[5,9]\n",
    "pay[\"card\"]=\"hdfc\"\n",
    "\n",
    "print(empfin)\n",
    "print(hotel)\n",
    "print(pay)\n",
    "print(emp)"
   ]
  },
  {
   "cell_type": "code",
   "execution_count": 13,
   "id": "2b392366-ab2a-4539-8de8-4b5ef73f0924",
   "metadata": {},
   "outputs": [
    {
     "name": "stdout",
     "output_type": "stream",
     "text": [
      "{'Name': 'Amar', 'Age': 24, 'Id': 102, 'gender': 'Male', 'college': 'CBSE'}\n",
      "{'Lta': '10k', 'Sal': '20k', 'Place': 'Hyd', 'Bonus': '5k', 'start': '2stars'}\n",
      "{'item': 'Veg', 'price': [10, 20, 30], 'Rice': 'Biryani', 'Booking': 'VIP table'}\n",
      "{'payment': 'online', 'card': 'SBI', 'Feature': 'Cheque', 'country': 'India'}\n"
     ]
    }
   ],
   "source": [
    "#adding a new entry\n",
    "emp={\"Name\":\"Amar\",\n",
    "     \"Age\":24,\n",
    "     \"Id\":102}\n",
    "\n",
    "empfin={\"Lta\":\"10k\",\n",
    "        \"Sal\":\"20k\",\n",
    "        \"Place\":\"Hyd\"}\n",
    "\n",
    "hotel={\"item\":\"Veg\",\n",
    "     \"price\":[10,20,30]}\n",
    "\n",
    "pay={\"payment\":\"online\",\n",
    "   \"card\":\"SBI\"}\n",
    "\n",
    "#new entry\n",
    "emp[\"gender\"]=\"Male\"\n",
    "emp[\"college\"]=\"CBSE\"\n",
    "\n",
    "print(emp)\n",
    "\n",
    "empfin[\"Bonus\"]=\"5k\"\n",
    "empfin[\"start\"]=\"2stars\"\n",
    "\n",
    "hotel[\"Rice\"]=\"Biryani\"\n",
    "hotel[\"Booking\"]=\"VIP table\"\n",
    "\n",
    "pay[\"Feature\"]=\"Cheque\"\n",
    "pay[\"country\"]=\"India\"\n",
    "\n",
    "print(empfin)\n",
    "print(hotel)\n",
    "print(pay)"
   ]
  },
  {
   "cell_type": "markdown",
   "id": "b872b540-fb8e-4e19-b4b5-4d568bc46a44",
   "metadata": {},
   "source": [
    "Dictionary Methods\n",
    "#get() returns the value of specified key\n",
    "#Keys() returns all the value of keys of dictionary\n"
   ]
  },
  {
   "cell_type": "code",
   "execution_count": 20,
   "id": "97339c7b-c650-4b9a-943b-e5b396648dcc",
   "metadata": {},
   "outputs": [
    {
     "name": "stdout",
     "output_type": "stream",
     "text": [
      "24\n",
      "2stars\n",
      "VIP table\n",
      "None\n"
     ]
    }
   ],
   "source": [
    "get1=emp.get(\"Age\")\n",
    "get2=empfin.get(\"start\")\n",
    "get3=hotel.get(\"Booking\")\n",
    "get4=pay.get(\"Name\")\n",
    "\n",
    "print(get1)\n",
    "print(get2)\n",
    "print(get3)\n",
    "print(get4)"
   ]
  },
  {
   "cell_type": "code",
   "execution_count": 24,
   "id": "5a91223b-6d71-44d4-b35f-19bbe5cb2c76",
   "metadata": {},
   "outputs": [
    {
     "name": "stdout",
     "output_type": "stream",
     "text": [
      "dict_keys(['Name', 'Age', 'Id', 'gender', 'college'])\n",
      "dict_keys(['Lta', 'Sal', 'Place', 'Bonus', 'start'])\n",
      "dict_keys(['item', 'price', 'Rice', 'Booking'])\n",
      "dict_keys(['payment', 'card', 'Feature', 'country'])\n"
     ]
    }
   ],
   "source": [
    "#Keys()\n",
    "\n",
    "keys1=emp.keys()\n",
    "keys2=empfin.keys()\n",
    "keys3=hotel.keys()\n",
    "keys4=pay.keys()\n",
    "\n",
    "print(keys1)\n",
    "print(keys2)\n",
    "print(keys3)\n",
    "print(keys4)"
   ]
  },
  {
   "cell_type": "code",
   "execution_count": 26,
   "id": "66f6e65d-7225-40ed-b66d-0b8897d75d1a",
   "metadata": {},
   "outputs": [
    {
     "name": "stdout",
     "output_type": "stream",
     "text": [
      "dict_values(['Amar', 24, 102, 'Male', 'CBSE'])\n",
      "dict_values(['10k', '20k', 'Hyd', '5k', '2stars'])\n",
      "dict_values(['Veg', [10, 20, 30], 'Biryani', 'VIP table'])\n",
      "dict_values(['online', 'SBI', 'Cheque', 'India'])\n"
     ]
    }
   ],
   "source": [
    "#values\n",
    "\n",
    "val1=emp.values()\n",
    "val2=empfin.values()\n",
    "val3=hotel.values()\n",
    "val4=pay.values()\n",
    "\n",
    "print(val1)\n",
    "print(val2)\n",
    "print(val3)\n",
    "print(val4)"
   ]
  },
  {
   "cell_type": "code",
   "execution_count": 31,
   "id": "fbf8e7b1-58a5-4ed6-811a-dbed6e82c89e",
   "metadata": {},
   "outputs": [
    {
     "name": "stdout",
     "output_type": "stream",
     "text": [
      "----\n",
      "dict_items([('Name', 'Amar'), ('Age', 24), ('Id', 102), ('gender', 'Male'), ('college', 'CBSE')])\n",
      "dict_items([('Lta', '10k'), ('Sal', '20k'), ('Place', 'Hyd'), ('Bonus', '5k'), ('start', '2stars')])\n",
      "dict_items([('item', 'Veg'), ('price', [10, 20, 30]), ('Rice', 'Biryani'), ('Booking', 'VIP table')])\n",
      "dict_items([('payment', 'online'), ('card', 'SBI'), ('Feature', 'Cheque'), ('country', 'India')])\n"
     ]
    }
   ],
   "source": [
    "#Items\n",
    "\n",
    "itm1=emp.items()\n",
    "itm2=empfin.items()\n",
    "itm3=hotel.items()\n",
    "itm4=pay.items()\n",
    "\n",
    "print(itm1)\n",
    "print(itm2)\n",
    "print(itm3)\n",
    "print(itm4)"
   ]
  },
  {
   "cell_type": "code",
   "execution_count": null,
   "id": "e3fd2ed7-c4eb-41c0-90e1-915e04c537ca",
   "metadata": {},
   "outputs": [],
   "source": [
    "#pop - we have to pass an argument\n"
   ]
  }
 ],
 "metadata": {
  "kernelspec": {
   "display_name": "Python 3 (ipykernel)",
   "language": "python",
   "name": "python3"
  },
  "language_info": {
   "codemirror_mode": {
    "name": "ipython",
    "version": 3
   },
   "file_extension": ".py",
   "mimetype": "text/x-python",
   "name": "python",
   "nbconvert_exporter": "python",
   "pygments_lexer": "ipython3",
   "version": "3.11.7"
  }
 },
 "nbformat": 4,
 "nbformat_minor": 5
}
