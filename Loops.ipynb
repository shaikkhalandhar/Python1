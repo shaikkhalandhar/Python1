{
 "cells": [
  {
   "cell_type": "markdown",
   "id": "023722b0-2588-4657-bbf8-592bc599152a",
   "metadata": {},
   "source": [
    "Loops Statements\n",
    "1. while loop\n",
    "2. for loop"
   ]
  },
  {
   "cell_type": "code",
   "execution_count": 2,
   "id": "a5021c87-c79a-4421-a9d2-1e3f9809cc23",
   "metadata": {},
   "outputs": [
    {
     "name": "stdin",
     "output_type": "stream",
     "text": [
      "Enter value 5\n"
     ]
    },
    {
     "name": "stdout",
     "output_type": "stream",
     "text": [
      "5\n",
      "7\n",
      "9\n",
      "11\n",
      "13\n",
      "15\n"
     ]
    }
   ],
   "source": [
    "x=int(input(\"Enter value\"))\n",
    "while x<=15:\n",
    "    print(x)\n",
    "    x=x+2"
   ]
  },
  {
   "cell_type": "code",
   "execution_count": 6,
   "id": "2c92736c-6b1f-4400-9719-18465c57445d",
   "metadata": {},
   "outputs": [
    {
     "name": "stdout",
     "output_type": "stream",
     "text": [
      "mutton\n",
      "apico fish\n",
      "egg\n",
      "fish\n",
      "chicken\n"
     ]
    }
   ],
   "source": [
    "items={\"chicken\",\"mutton\",\"fish\",\"egg\",\"apico fish\"}\n",
    "for x in items:\n",
    "    print(x)"
   ]
  },
  {
   "cell_type": "code",
   "execution_count": null,
   "id": "4d624cfc-d5f1-48dc-87b9-a307312338b0",
   "metadata": {},
   "outputs": [],
   "source": []
  }
 ],
 "metadata": {
  "kernelspec": {
   "display_name": "Python 3 (ipykernel)",
   "language": "python",
   "name": "python3"
  },
  "language_info": {
   "codemirror_mode": {
    "name": "ipython",
    "version": 3
   },
   "file_extension": ".py",
   "mimetype": "text/x-python",
   "name": "python",
   "nbconvert_exporter": "python",
   "pygments_lexer": "ipython3",
   "version": "3.11.7"
  }
 },
 "nbformat": 4,
 "nbformat_minor": 5
}
