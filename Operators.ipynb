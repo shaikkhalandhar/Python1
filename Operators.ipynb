{
 "cells": [
  {
   "cell_type": "code",
   "execution_count": 4,
   "id": "5923417e-12ba-4928-ac5e-e4f275658f0b",
   "metadata": {},
   "outputs": [
    {
     "name": "stdout",
     "output_type": "stream",
     "text": [
      "43\n",
      "<class 'int'>\n",
      "1.3399999999999999\n",
      "<class 'float'>\n"
     ]
    }
   ],
   "source": [
    "#operators\n",
    "\n",
    "x=21\n",
    "y=22\n",
    "z=23.34\n",
    "\n",
    "#addition\n",
    "a=x+y\n",
    "print(a)\n",
    "print(type(a))\n",
    "\n",
    "M=z-y\n",
    "print(M)\n",
    "print(type(M))"
   ]
  },
  {
   "cell_type": "code",
   "execution_count": 3,
   "id": "85d44a55-0837-4454-b707-27da98c0cd5f",
   "metadata": {},
   "outputs": [
    {
     "name": "stdout",
     "output_type": "stream",
     "text": [
      "-1\n",
      "<class 'int'>\n"
     ]
    }
   ],
   "source": [
    "#subtraction\n",
    "b=x-y\n",
    "print(b)\n",
    "print(type(b))"
   ]
  },
  {
   "cell_type": "code",
   "execution_count": 5,
   "id": "4f48e848-17b2-4ace-9c22-8eaf20d85370",
   "metadata": {},
   "outputs": [
    {
     "name": "stdout",
     "output_type": "stream",
     "text": [
      "462\n",
      "<class 'int'>\n"
     ]
    }
   ],
   "source": [
    "#multiplication\n",
    "n=x*y\n",
    "print(n)\n",
    "print(type(n))"
   ]
  },
  {
   "cell_type": "code",
   "execution_count": 6,
   "id": "2e8f6f7a-7cc8-4ed3-a587-3ec5f879d034",
   "metadata": {},
   "outputs": [
    {
     "name": "stdout",
     "output_type": "stream",
     "text": [
      "0.9425878320479862\n",
      "<class 'float'>\n"
     ]
    }
   ],
   "source": [
    "#division will give Q\n",
    "o=y/z\n",
    "print(o)\n",
    "print(type(o))"
   ]
  },
  {
   "cell_type": "code",
   "execution_count": 7,
   "id": "ce1625df-9122-4ada-9019-f359a35d2ba9",
   "metadata": {},
   "outputs": [
    {
     "name": "stdout",
     "output_type": "stream",
     "text": [
      "21.0\n",
      "<class 'float'>\n"
     ]
    }
   ],
   "source": [
    "#modulus will give Reminder\n",
    "p=x%z\n",
    "print(p)\n",
    "print(type(p))"
   ]
  },
  {
   "cell_type": "code",
   "execution_count": 8,
   "id": "023d4eca-14ff-4183-8594-e6aacedf9eca",
   "metadata": {},
   "outputs": [
    {
     "name": "stdout",
     "output_type": "stream",
     "text": [
      "0.0\n",
      "<class 'float'>\n"
     ]
    }
   ],
   "source": [
    "#floor division\n",
    "q=x//y//z\n",
    "print(q)\n",
    "print(type(q))"
   ]
  },
  {
   "cell_type": "code",
   "execution_count": 2,
   "id": "c631c9ce-29be-4290-aadb-2768f6d7535c",
   "metadata": {},
   "outputs": [
    {
     "name": "stdout",
     "output_type": "stream",
     "text": [
      "10\n"
     ]
    }
   ],
   "source": [
    "l=10\n",
    "k=20\n",
    "u=30.34\n",
    "print(l)"
   ]
  },
  {
   "cell_type": "code",
   "execution_count": 5,
   "id": "3c6e3210-c09b-4ee0-ab68-3eda569c80b1",
   "metadata": {},
   "outputs": [
    {
     "name": "stdout",
     "output_type": "stream",
     "text": [
      "25\n"
     ]
    }
   ],
   "source": [
    "#exponen\n",
    "a=5\n",
    "b=2\n",
    "AA=a**b\n",
    "print(AA)"
   ]
  },
  {
   "cell_type": "code",
   "execution_count": 3,
   "id": "7b776246-b4fa-4832-85da-4952ce20a33b",
   "metadata": {},
   "outputs": [
    {
     "name": "stdout",
     "output_type": "stream",
     "text": [
      "Shaik Dada Khalandhar\n"
     ]
    }
   ],
   "source": [
    "#variable type one to one\n",
    "T=\"Shaik\"\n",
    "R=\"Dada\"\n",
    "Y=\"Khalandhar\"\n",
    "\n",
    "print(T,R,Y)"
   ]
  },
  {
   "cell_type": "code",
   "execution_count": 6,
   "id": "4eba936a-c8b3-4f95-81d9-d2d5d7f7a00b",
   "metadata": {},
   "outputs": [
    {
     "name": "stdout",
     "output_type": "stream",
     "text": [
      "Apple Noor Gtl\n"
     ]
    }
   ],
   "source": [
    "#many to many\n",
    "Fruit,Name,Place=\"Apple\",\"Noor\",\"Gtl\"\n",
    "print(Fruit,Name,Place)"
   ]
  },
  {
   "cell_type": "code",
   "execution_count": 8,
   "id": "c9ebcc78-6461-4ef8-8e2e-3bf23b485d6a",
   "metadata": {},
   "outputs": [
    {
     "name": "stdout",
     "output_type": "stream",
     "text": [
      "100\n"
     ]
    }
   ],
   "source": [
    "#many to one\n",
    "D=K=I=100\n",
    "print(D)"
   ]
  },
  {
   "cell_type": "code",
   "execution_count": 9,
   "id": "516bbcd4-dd16-4e14-b0ae-a7f0be6215af",
   "metadata": {},
   "outputs": [
    {
     "name": "stdout",
     "output_type": "stream",
     "text": [
      "100\n"
     ]
    }
   ],
   "source": [
    "print(I)"
   ]
  },
  {
   "cell_type": "code",
   "execution_count": 12,
   "id": "a3c7582c-96c6-4e01-818d-1364f29c7a18",
   "metadata": {},
   "outputs": [
    {
     "name": "stdout",
     "output_type": "stream",
     "text": [
      "False\n"
     ]
    }
   ],
   "source": [
    "#Booleans\n",
    "print(100>200)"
   ]
  },
  {
   "cell_type": "code",
   "execution_count": 14,
   "id": "ff2d6919-5a4d-4fb7-b66d-8d46ccb674b6",
   "metadata": {},
   "outputs": [
    {
     "name": "stdout",
     "output_type": "stream",
     "text": [
      "True\n"
     ]
    }
   ],
   "source": [
    "print(100==100)"
   ]
  },
  {
   "cell_type": "code",
   "execution_count": 15,
   "id": "16856c0b-1c8e-41d3-8f39-29a12d95b235",
   "metadata": {},
   "outputs": [
    {
     "name": "stdout",
     "output_type": "stream",
     "text": [
      "False\n"
     ]
    }
   ],
   "source": [
    "print(9.5>9.6)"
   ]
  },
  {
   "cell_type": "code",
   "execution_count": 17,
   "id": "d2390663-37c5-428b-840f-d326071f1225",
   "metadata": {},
   "outputs": [
    {
     "name": "stdout",
     "output_type": "stream",
     "text": [
      "True\n"
     ]
    }
   ],
   "source": [
    "print(10.5>9.5)"
   ]
  },
  {
   "cell_type": "code",
   "execution_count": 18,
   "id": "46ba533f-6c8c-431e-a2d6-d6b5393e0872",
   "metadata": {},
   "outputs": [
    {
     "ename": "SyntaxError",
     "evalue": "invalid decimal literal (326783363.py, line 2)",
     "output_type": "error",
     "traceback": [
      "\u001b[1;36m  Cell \u001b[1;32mIn[18], line 2\u001b[1;36m\u001b[0m\n\u001b[1;33m    RR=2+3i\u001b[0m\n\u001b[1;37m         ^\u001b[0m\n\u001b[1;31mSyntaxError\u001b[0m\u001b[1;31m:\u001b[0m invalid decimal literal\n"
     ]
    }
   ],
   "source": [
    "R=1+J\n",
    "RR=2+3i\n",
    "\n",
    "RRR=R+RR\n",
    "print(RRR)"
   ]
  },
  {
   "cell_type": "code",
   "execution_count": 22,
   "id": "9965bfc3-bfb3-430c-beed-99348c28df2e",
   "metadata": {},
   "outputs": [
    {
     "name": "stdout",
     "output_type": "stream",
     "text": [
      "(2+5j)\n",
      "<class 'complex'>\n"
     ]
    }
   ],
   "source": [
    "R=+2J\n",
    "RR=2+3j\n",
    "RRR=R+RR\n",
    "print(RRR)\n",
    "print(type(RRR))"
   ]
  },
  {
   "cell_type": "code",
   "execution_count": 25,
   "id": "1dd47a67-93e4-4aa7-bcdb-1b5e592a359a",
   "metadata": {},
   "outputs": [
    {
     "name": "stdout",
     "output_type": "stream",
     "text": [
      "(4.5+6j)\n",
      "<class 'complex'>\n"
     ]
    }
   ],
   "source": [
    "R=1.5+2J\n",
    "RR=3+4j\n",
    "RRRR=R+RR\n",
    "print (RRRR)\n",
    "print(type(RRRR))"
   ]
  },
  {
   "cell_type": "code",
   "execution_count": null,
   "id": "553639c4-8a56-41a3-9116-163fbbd0f9ad",
   "metadata": {},
   "outputs": [],
   "source": []
  }
 ],
 "metadata": {
  "kernelspec": {
   "display_name": "Python 3 (ipykernel)",
   "language": "python",
   "name": "python3"
  },
  "language_info": {
   "codemirror_mode": {
    "name": "ipython",
    "version": 3
   },
   "file_extension": ".py",
   "mimetype": "text/x-python",
   "name": "python",
   "nbconvert_exporter": "python",
   "pygments_lexer": "ipython3",
   "version": "3.11.7"
  }
 },
 "nbformat": 4,
 "nbformat_minor": 5
}
