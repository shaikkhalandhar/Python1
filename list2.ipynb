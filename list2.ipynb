{
 "cells": [
  {
   "cell_type": "code",
   "execution_count": 3,
   "id": "0c5c77e4-ef67-470e-a594-e111443074a0",
   "metadata": {},
   "outputs": [
    {
     "name": "stdout",
     "output_type": "stream",
     "text": [
      "[1, 2, 3, 4, 5, 6, -7, 8, -9, -10]\n",
      "[1, 2, 3, 4, 5, 6, -7, 8, -9, -10] [3.0, 8.4, 1.1, 3.6, 7.7, 1.1, 2.3] ['apple', 'mango', 'banana', 'grapes', 'kiwi', 'pine apple'] ['python', 'C', 'C++', 'Hindi', 'Telugu', 'English'] ['lion', 'tiger', 'dear', 'cat', 'dog', 'cow'] ['rose', 'lilly']\n"
     ]
    }
   ],
   "source": [
    "numbers = [1,2,3,4,5,6,-7,8,-9,-10]\n",
    "floot = [3.0,8.4,1.1,3.6,7.7,1.1,2.3]\n",
    "fruits = ['apple','mango','banana','grapes','kiwi','pine apple']\n",
    "language = ['python','C','C++','Hindi','Telugu','English']\n",
    "animals = ['lion','tiger','dear','cat','dog','cow']\n",
    "flower = ['rose','lilly']\n",
    "\n",
    "print(numbers)\n",
    "print(numbers, floot, fruits, language, animals, flower)"
   ]
  },
  {
   "cell_type": "code",
   "execution_count": 4,
   "id": "9fe4b4c4-b99d-48a2-8e95-5810758bad7f",
   "metadata": {},
   "outputs": [
    {
     "name": "stdout",
     "output_type": "stream",
     "text": [
      "[-10, -9, -7, 1, 2, 3, 4, 5, 6, 8]\n",
      "[1.1, 1.1, 2.3, 3.0, 3.6, 7.7, 8.4]\n"
     ]
    }
   ],
   "source": [
    "numbers = [1,2,3,4,5,6,-7,8,-9,-10]\n",
    "floot = [3.0,8.4,1.1,3.6,7.7,1.1,2.3]\n",
    "fruits = ['apple','mango','banana','grapes','kiwi','pine apple']\n",
    "language = ['python','C','C++','Hindi','Telugu','English']\n",
    "animals = ['lion','tiger','dear','cat','dog','cow']\n",
    "flower = ['rose','lilly']\n",
    "\n",
    "numbers.sort()\n",
    "floot.sort()\n",
    "print(numbers)\n",
    "print(floot)"
   ]
  },
  {
   "cell_type": "code",
   "execution_count": null,
   "id": "47b1a335-26a9-4251-8cc6-04bd4d7323f6",
   "metadata": {},
   "outputs": [],
   "source": []
  }
 ],
 "metadata": {
  "kernelspec": {
   "display_name": "Python 3 (ipykernel)",
   "language": "python",
   "name": "python3"
  },
  "language_info": {
   "codemirror_mode": {
    "name": "ipython",
    "version": 3
   },
   "file_extension": ".py",
   "mimetype": "text/x-python",
   "name": "python",
   "nbconvert_exporter": "python",
   "pygments_lexer": "ipython3",
   "version": "3.11.7"
  }
 },
 "nbformat": 4,
 "nbformat_minor": 5
}
