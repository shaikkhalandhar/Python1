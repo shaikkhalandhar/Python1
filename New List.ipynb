{
 "cells": [
  {
   "cell_type": "code",
   "execution_count": 7,
   "id": "340de232-1411-41d0-aa11-aa43a58895b3",
   "metadata": {},
   "outputs": [
    {
     "name": "stdout",
     "output_type": "stream",
     "text": [
      "6\n",
      "elephant\n",
      "green\n",
      "shaik\n",
      "<----------------------->\n",
      "7\n",
      "tiger\n",
      "red\n",
      "dada\n",
      "<--------------->\n",
      "[2, 3]\n",
      "['shaik']\n",
      "['green']\n"
     ]
    }
   ],
   "source": [
    "#List \n",
    "numbers=[1,2,3,4,5,6,7]\n",
    "floot=[1.3,2.4,5.8,6.7]\n",
    "animals=['lion','tiger','elephant','dear']\n",
    "places=['hyd','kur','gty','ooty']\n",
    "flowers=['rose','lilly','sun flower']\n",
    "fruits=['apple','mango','grapes','banana']\n",
    "earth=['fire','water','air','land','sky']\n",
    "colour=['red','green','yellow','Black']\n",
    "names=['shaik','dada','khalandhar']\n",
    "\n",
    "#slicing\n",
    "print(numbers[5])\n",
    "print(animals[2])\n",
    "print(colour[1])\n",
    "print(names[0])\n",
    "\n",
    "print('<----------------------->')\n",
    "\n",
    "print(numbers[-1])\n",
    "print(animals[-3])\n",
    "print(colour[-4])\n",
    "print(names[-2])\n",
    "\n",
    "print('<--------------->')\n",
    "\n",
    "print(numbers[1:3])\n",
    "print(names[0:1])\n",
    "print(colour[1:2]) # here n-1 is working"
   ]
  },
  {
   "cell_type": "code",
   "execution_count": 12,
   "id": "5b42c76e-cc91-4580-9a7c-16a1ba1bd670",
   "metadata": {},
   "outputs": [
    {
     "name": "stdout",
     "output_type": "stream",
     "text": [
      "['fire', 'water', 'air', 'land', 'sky', 'hyd', 'kur', 'gty', 'ooty', 1, 2, 3, 4, 5, 6, 7]\n",
      "['hyd', 'kur', 'gty', 'ooty', 'rose', 'lilly', 'sun flower', 'apple', 'mango', 'grapes', 'banana', 'fire', 'water', 'air', 'land', 'sky']\n"
     ]
    }
   ],
   "source": [
    "#concatination\n",
    "earth=['fire','water','air','land','sky']\n",
    "places=['hyd','kur','gty','ooty']\n",
    "numbers=[1,2,3,4,5,6,7]\n",
    "\n",
    "all=(earth+places+numbers)\n",
    "print(all)\n",
    "\n",
    "places=['hyd','kur','gty','ooty']\n",
    "flowers=['rose','lilly','sun flower']\n",
    "fruits=['apple','mango','grapes','banana']\n",
    "earth=['fire','water','air','land','sky']\n",
    "\n",
    "all1=(places+flowers+fruits+earth)\n",
    "print(all1)"
   ]
  },
  {
   "cell_type": "code",
   "execution_count": 13,
   "id": "cfc91e24-99c7-45f3-9d69-d89e003d68d7",
   "metadata": {},
   "outputs": [
    {
     "name": "stdout",
     "output_type": "stream",
     "text": [
      "['shaik', ' dada', ' khalandhar', 'shaik', ' dada', ' khalandhar', 'shaik', ' dada', ' khalandhar', 'shaik', ' dada', ' khalandhar', 'shaik', ' dada', ' khalandhar']\n",
      "[1, 2, 3, 4, 5, 6, 7, 1, 2, 3, 4, 5, 6, 7, 1, 2, 3, 4, 5, 6, 7, 1, 2, 3, 4, 5, 6, 7, 1, 2, 3, 4, 5, 6, 7]\n",
      "['fire', 'water', 'air', 'land', 'sky', 'fire', 'water', 'air', 'land', 'sky', 'fire', 'water', 'air', 'land', 'sky', 'fire', 'water', 'air', 'land', 'sky', 'fire', 'water', 'air', 'land', 'sky']\n",
      "[1.3, 2.4, 5.8, 6.7, 1.3, 2.4, 5.8, 6.7, 1.3, 2.4, 5.8, 6.7, 1.3, 2.4, 5.8, 6.7, 1.3, 2.4, 5.8, 6.7]\n"
     ]
    }
   ],
   "source": [
    "#Repetation\n",
    "names=['shaik',' dada',' khalandhar']\n",
    "numbers=[1,2,3,4,5,6,7]\n",
    "earth=['fire','water','air','land','sky']\n",
    "floot=[1.3,2.4,5.8,6.7]\n",
    "print(names*5)\n",
    "print(numbers*5)\n",
    "print(earth*5)\n",
    "print(floot*5)"
   ]
  },
  {
   "cell_type": "code",
   "execution_count": 17,
   "id": "cb15a106-513f-4ef2-9e07-8c746117f4f2",
   "metadata": {},
   "outputs": [
    {
     "name": "stdout",
     "output_type": "stream",
     "text": [
      "<--------->\n",
      "[1, 'water', 'air', 'land', 'sky']\n",
      "[1.3, 'bike', 5.8, 6.7]\n",
      "['red', 'green', 1.1, 'Black']\n"
     ]
    }
   ],
   "source": [
    "#change value in items list - we can change the values/item in the list\n",
    "earth=['fire','water','air','land','sky']\n",
    "floot=[1.3,2.4,5.8,6.7]\n",
    "colour=['red','green','yellow','Black']\n",
    "\n",
    "earth[0]=1\n",
    "floot[1]='bike'\n",
    "colour[2]=1.1\n",
    "\n",
    "print(\"<--------->\")\n",
    "\n",
    "print(earth)\n",
    "print(floot)\n",
    "print(colour)"
   ]
  },
  {
   "cell_type": "code",
   "execution_count": 18,
   "id": "33947af8-7cb4-45bf-bad9-3655ec8b5149",
   "metadata": {},
   "outputs": [
    {
     "name": "stdout",
     "output_type": "stream",
     "text": [
      "['apple', 'honey', 'jonny', 'banana']\n"
     ]
    }
   ],
   "source": [
    "#change range of items in list\n",
    "fruits=['apple','mango','grapes','banana']\n",
    "fruits[1:3]=['honey','jonny']\n",
    "print(fruits)"
   ]
  },
  {
   "cell_type": "code",
   "execution_count": 20,
   "id": "be3d76fc-8e2d-45c1-b757-ad6a5c2049e5",
   "metadata": {},
   "outputs": [
    {
     "name": "stdout",
     "output_type": "stream",
     "text": [
      "['fire', 'water', 0, 0, 'sky']\n"
     ]
    }
   ],
   "source": [
    "earth=['fire','water','air','land','sky']\n",
    "\n",
    "earth[2:-1]=[0,0]\n",
    "print(earth)"
   ]
  },
  {
   "cell_type": "code",
   "execution_count": 21,
   "id": "69ae6a2c-75aa-491d-924c-fed38004eb78",
   "metadata": {},
   "outputs": [
    {
     "name": "stdout",
     "output_type": "stream",
     "text": [
      "['jack', 'jill', 5.8, 6.7]\n"
     ]
    }
   ],
   "source": [
    "floot=[1.3,2.4,5.8,6.7]\n",
    "\n",
    "floot[0:2]=['jack','jill']  #n-1 rus here\n",
    "print(floot)"
   ]
  },
  {
   "cell_type": "code",
   "execution_count": 26,
   "id": "ba8ca566-d048-448a-a59d-fc2f4b786590",
   "metadata": {},
   "outputs": [
    {
     "name": "stdout",
     "output_type": "stream",
     "text": [
      "['fire', 'water', 'air', 'land', 'sky', 1]\n",
      "['red', 'green', 'yellow', 'Black', 2.2]\n",
      "['shaik', 'dada', 'khalandhar', 'Noor']\n"
     ]
    }
   ],
   "source": [
    "# List Method --- Adds a value at the end of the list\n",
    "\n",
    "#append ----- allows to add value/item at the end of the list\n",
    "\n",
    "earth=['fire','water','air','land','sky']\n",
    "colour=['red','green','yellow','Black']\n",
    "names=['shaik','dada','khalandhar']\n",
    "\n",
    "earth.append(1)\n",
    "print(earth)\n",
    "\n",
    "colour.append(2.2)\n",
    "print(colour)\n",
    "\n",
    "names.append('Noor')\n",
    "print(names)"
   ]
  },
  {
   "cell_type": "code",
   "execution_count": 27,
   "id": "9c986252-0b80-46b3-9957-042984a51312",
   "metadata": {},
   "outputs": [
    {
     "name": "stdout",
     "output_type": "stream",
     "text": [
      "[1.3, 2.4, 5.8, 6.7, 'lion', 'tiger', 'elephant', 'dear']\n"
     ]
    }
   ],
   "source": [
    "#extend --- allow to combain two lists (it smilier to addition)\n",
    "floot=[1.3,2.4,5.8,6.7]\n",
    "animals=['lion','tiger','elephant','dear']\n",
    "places=['hyd','kur','gty','ooty']\n",
    "\n",
    "floot.extend(animals)\n",
    "print(floot)"
   ]
  },
  {
   "cell_type": "code",
   "execution_count": 31,
   "id": "021b0767-4621-44cf-884e-858df3f03828",
   "metadata": {},
   "outputs": [
    {
     "name": "stdout",
     "output_type": "stream",
     "text": [
      "[1.3, 2.4, 5.8, 6.7, 'lion', 'tiger', 'elephant', 'dear']\n"
     ]
    }
   ],
   "source": [
    "floot=[1.3,2.4,5.8,6.7]\n",
    "animals=['lion','tiger','elephant','dear']\n",
    "places=['hyd','kur','gty','ooty']\n",
    "\n",
    "floot.extend(animals)\n",
    "print(floot)"
   ]
  },
  {
   "cell_type": "code",
   "execution_count": 36,
   "id": "25057b27-8330-42ce-8b7d-8ebf5782102c",
   "metadata": {},
   "outputs": [
    {
     "name": "stdout",
     "output_type": "stream",
     "text": [
      "[1.3, 2.4, 5.8, 6.7, 'hyd', 'kur', 'gty', 'ooty', 'lion', 'tiger', 'elephant', 'dear']\n"
     ]
    }
   ],
   "source": [
    "floot=[1.3,2.4,5.8,6.7]\n",
    "animals=['lion','tiger','elephant','dear']\n",
    "places=['hyd','kur','gty','ooty']\n",
    "\n",
    "floot.extend(places),floot.extend(animals) #we can add many list by saparating with ,\n",
    "print(floot)"
   ]
  },
  {
   "cell_type": "code",
   "execution_count": 43,
   "id": "cbcc5d2f-83aa-45c1-950a-182864b3a307",
   "metadata": {},
   "outputs": [
    {
     "name": "stdout",
     "output_type": "stream",
     "text": [
      "[1, 'fire', 'water', 'air', 'land', 'sky']\n",
      "['red', 'green', 700, 'yellow', 'Black']\n",
      "['shaik', 'Noor', 'dada', 'khalandhar']\n"
     ]
    }
   ],
   "source": [
    "#insert --> allow to insert new value/item at speficed range in index\n",
    "earth=['fire','water','air','land','sky']\n",
    "colour=['red','green','yellow','Black']\n",
    "names=['shaik','dada','khalandhar']\n",
    "\n",
    "earth.insert(0,1)\n",
    "print(earth)\n",
    "\n",
    "colour.insert(-2,700)\n",
    "print(colour)\n",
    "\n",
    "names.insert(1,'Noor')\n",
    "print(names)\n"
   ]
  },
  {
   "cell_type": "code",
   "execution_count": 48,
   "id": "871e6f7d-74fe-4506-86cf-acecb7156e32",
   "metadata": {},
   "outputs": [
    {
     "name": "stdout",
     "output_type": "stream",
     "text": [
      "['kur', 'gty', 'ooty']\n",
      "['rose', 'sun flower']\n",
      "['apple', 'mango', 'grapes']\n"
     ]
    }
   ],
   "source": [
    "#remove - it remove from the list\n",
    "\n",
    "places=['hyd','kur','gty','ooty']\n",
    "flowers=['rose','lilly','sun flower']\n",
    "fruits=['apple','mango','grapes','banana']\n",
    "\n",
    "places.remove('hyd')\n",
    "print(places)\n",
    "\n",
    "flowers.remove('lilly')\n",
    "print(flowers)\n",
    "\n",
    "fruits.remove('banana')\n",
    "print(fruits)"
   ]
  },
  {
   "cell_type": "code",
   "execution_count": 54,
   "id": "144f021d-61b1-49e6-8ea0-59c44fc9e6d0",
   "metadata": {},
   "outputs": [
    {
     "name": "stdout",
     "output_type": "stream",
     "text": [
      "2.4\n",
      "dear\n",
      "gty\n"
     ]
    }
   ],
   "source": [
    "#pop -- give the specified index of the value/item\n",
    "\n",
    "floot=[1.3,2.4,5.8,6.7]\n",
    "animals=['lion','tiger','elephant','dear']\n",
    "places=['hyd','kur','gty','ooty']\n",
    "\n",
    "pooped=floot.pop(1)\n",
    "print(pooped)\n",
    "\n",
    "pooped1=animals.pop(-1)\n",
    "print(pooped1)\n",
    "\n",
    "pooped2=places.pop(2)\n",
    "print(pooped2)\n",
    "\n"
   ]
  },
  {
   "cell_type": "code",
   "execution_count": 56,
   "id": "c2a4c056-ca9f-430b-a34b-d7388d30bf61",
   "metadata": {},
   "outputs": [
    {
     "name": "stdout",
     "output_type": "stream",
     "text": [
      "1\n"
     ]
    }
   ],
   "source": [
    "#index ---> first occurance value in the list\n",
    "man=[10,20,30,40,50,10,70,80,90,10,20,100]\n",
    "result=man.index(20)\n",
    "print(result)"
   ]
  },
  {
   "cell_type": "code",
   "execution_count": 57,
   "id": "cb0023ef-afed-4c88-b21b-d4065844f907",
   "metadata": {},
   "outputs": [
    {
     "name": "stdout",
     "output_type": "stream",
     "text": [
      "11\n"
     ]
    }
   ],
   "source": [
    "result2=man.index(100)\n",
    "print(result2)"
   ]
  },
  {
   "cell_type": "code",
   "execution_count": 58,
   "id": "f3a9dc16-ed50-4cb8-b962-85b72c532149",
   "metadata": {},
   "outputs": [
    {
     "name": "stdout",
     "output_type": "stream",
     "text": [
      "6\n"
     ]
    }
   ],
   "source": [
    "result3=man.index(70)\n",
    "print(result3)"
   ]
  },
  {
   "cell_type": "code",
   "execution_count": 67,
   "id": "28c34a39-4a2d-4094-8df3-f2fe93bd57b9",
   "metadata": {},
   "outputs": [
    {
     "ename": "TypeError",
     "evalue": "'int' object is not callable",
     "output_type": "error",
     "traceback": [
      "\u001b[1;31m---------------------------------------------------------------------------\u001b[0m",
      "\u001b[1;31mTypeError\u001b[0m                                 Traceback (most recent call last)",
      "Cell \u001b[1;32mIn[67], line 4\u001b[0m\n\u001b[0;32m      2\u001b[0m women\u001b[38;5;241m=\u001b[39m[\u001b[38;5;241m10\u001b[39m,\u001b[38;5;241m20\u001b[39m,\u001b[38;5;241m30\u001b[39m,\u001b[38;5;241m40\u001b[39m,\u001b[38;5;241m50\u001b[39m,\u001b[38;5;241m10\u001b[39m,\u001b[38;5;241m70\u001b[39m,\u001b[38;5;241m80\u001b[39m,\u001b[38;5;241m90\u001b[39m,\u001b[38;5;241m10\u001b[39m,\u001b[38;5;241m20\u001b[39m,\u001b[38;5;241m100\u001b[39m]\n\u001b[0;32m      3\u001b[0m res1\u001b[38;5;241m=\u001b[39mwomen\u001b[38;5;241m.\u001b[39mcount(\u001b[38;5;241m10\u001b[39m)\n\u001b[1;32m----> 4\u001b[0m \u001b[38;5;28mprint\u001b[39m(res1)\n",
      "\u001b[1;31mTypeError\u001b[0m: 'int' object is not callable"
     ]
    }
   ],
   "source": [
    "#count ---> returns the number of occurance of the value\n",
    "women=[10,20,30,40,50,10,70,80,90,10,20,100]\n",
    "res1=women.count(10)\n",
    "print(res1)"
   ]
  },
  {
   "cell_type": "code",
   "execution_count": 68,
   "id": "90fbbb14-e00b-4693-ab7f-91a5dd8f9973",
   "metadata": {},
   "outputs": [
    {
     "ename": "TypeError",
     "evalue": "'int' object is not callable",
     "output_type": "error",
     "traceback": [
      "\u001b[1;31m---------------------------------------------------------------------------\u001b[0m",
      "\u001b[1;31mTypeError\u001b[0m                                 Traceback (most recent call last)",
      "Cell \u001b[1;32mIn[68], line 4\u001b[0m\n\u001b[0;32m      2\u001b[0m house\u001b[38;5;241m=\u001b[39m[\u001b[38;5;241m1\u001b[39m,\u001b[38;5;241m3\u001b[39m,\u001b[38;5;241m4\u001b[39m,\u001b[38;5;241m2\u001b[39m,\u001b[38;5;241m8\u001b[39m,\u001b[38;5;241m5\u001b[39m,\u001b[38;5;241m6\u001b[39m,\u001b[38;5;241m0\u001b[39m,\u001b[38;5;241m9\u001b[39m,\u001b[38;5;241m7\u001b[39m]\n\u001b[0;32m      3\u001b[0m house\u001b[38;5;241m.\u001b[39msort()\n\u001b[1;32m----> 4\u001b[0m \u001b[38;5;28mprint\u001b[39m(house)\n",
      "\u001b[1;31mTypeError\u001b[0m: 'int' object is not callable"
     ]
    }
   ],
   "source": [
    "#sort -- sort he list ascending order\n",
    "house=[1,3,4,2,8,5,6,0,9,7]\n",
    "house.sort()\n",
    "print(house)"
   ]
  },
  {
   "cell_type": "code",
   "execution_count": null,
   "id": "9f4a3456-6b65-481d-b511-af42c8f4e3ae",
   "metadata": {},
   "outputs": [],
   "source": []
  }
 ],
 "metadata": {
  "kernelspec": {
   "display_name": "Python 3 (ipykernel)",
   "language": "python",
   "name": "python3"
  },
  "language_info": {
   "codemirror_mode": {
    "name": "ipython",
    "version": 3
   },
   "file_extension": ".py",
   "mimetype": "text/x-python",
   "name": "python",
   "nbconvert_exporter": "python",
   "pygments_lexer": "ipython3",
   "version": "3.11.7"
  }
 },
 "nbformat": 4,
 "nbformat_minor": 5
}
