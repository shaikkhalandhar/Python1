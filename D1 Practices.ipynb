{
 "cells": [
  {
   "cell_type": "code",
   "execution_count": 1,
   "id": "fd6c9116-831e-4374-8c5c-203e34f744ad",
   "metadata": {},
   "outputs": [
    {
     "name": "stdout",
     "output_type": "stream",
     "text": [
      "Hello Shaik\n"
     ]
    }
   ],
   "source": [
    "print (\"Hello Shaik\")"
   ]
  },
  {
   "cell_type": "code",
   "execution_count": 6,
   "id": "6e83be83-f451-4aba-a6fb-e5c4385c834a",
   "metadata": {},
   "outputs": [
    {
     "name": "stdout",
     "output_type": "stream",
     "text": [
      "11\n"
     ]
    }
   ],
   "source": [
    "# Addition\n",
    "a=5\n",
    "b=6\n",
    "c=a+b\n",
    "print (c)"
   ]
  },
  {
   "cell_type": "code",
   "execution_count": 5,
   "id": "575f17d3-a3b5-4047-9af1-6be1fae8c21a",
   "metadata": {},
   "outputs": [
    {
     "name": "stdout",
     "output_type": "stream",
     "text": [
      "6\n"
     ]
    }
   ],
   "source": [
    "#subtraction\n",
    "d=2\n",
    "e=8\n",
    "f=e-d\n",
    "print(f)"
   ]
  },
  {
   "cell_type": "code",
   "execution_count": 8,
   "id": "0b248ab5-4b8b-4837-b18c-2f1bb5e4e76e",
   "metadata": {},
   "outputs": [
    {
     "name": "stdout",
     "output_type": "stream",
     "text": [
      "<class 'int'>\n"
     ]
    }
   ],
   "source": [
    "#trying to print data type\n",
    "print(type(a))"
   ]
  },
  {
   "cell_type": "code",
   "execution_count": 14,
   "id": "caf7cbb1-c65d-4f37-8d98-d35d4da97c99",
   "metadata": {},
   "outputs": [
    {
     "name": "stdout",
     "output_type": "stream",
     "text": [
      "<class 'float'>\n",
      "6.0\n",
      "<class 'float'>\n"
     ]
    }
   ],
   "source": [
    "G=2.5\n",
    "g=3.5\n",
    "f=G+g\n",
    "print(type(G))\n",
    "print(f)\n",
    "print(type(g))"
   ]
  },
  {
   "cell_type": "code",
   "execution_count": 22,
   "id": "db0a2846-35d9-4b11-b55c-817c5192f1f3",
   "metadata": {},
   "outputs": [
    {
     "ename": "NameError",
     "evalue": "name 'python' is not defined",
     "output_type": "error",
     "traceback": [
      "\u001b[1;31m---------------------------------------------------------------------------\u001b[0m",
      "\u001b[1;31mNameError\u001b[0m                                 Traceback (most recent call last)",
      "Cell \u001b[1;32mIn[22], line 2\u001b[0m\n\u001b[0;32m      1\u001b[0m \u001b[38;5;66;03m#display list of python kewords\u001b[39;00m\n\u001b[1;32m----> 2\u001b[0m \u001b[38;5;28mprint\u001b[39m(python\u001b[38;5;241m.\u001b[39mkeywords)\n\u001b[0;32m      3\u001b[0m \u001b[38;5;28mlen\u001b[39m(python_keywords)\n",
      "\u001b[1;31mNameError\u001b[0m: name 'python' is not defined"
     ]
    }
   ],
   "source": [
    "#display list of python kewords\n",
    "print(python.keywords)\n",
    "len(python_keywords)"
   ]
  },
  {
   "cell_type": "code",
   "execution_count": 25,
   "id": "08f357ee-f84e-425f-a224-55941278e54f",
   "metadata": {},
   "outputs": [
    {
     "name": "stdout",
     "output_type": "stream",
     "text": [
      "False\n",
      "True\n",
      "True\n",
      "True\n",
      "False\n"
     ]
    }
   ],
   "source": [
    "#booleans\n",
    "print (20<10)\n",
    "print (20>10)\n",
    "print (20==20)\n",
    "print (20+10>25)\n",
    "print (20+10<25)"
   ]
  },
  {
   "cell_type": "code",
   "execution_count": 26,
   "id": "1279608e-62bb-4b82-b4ae-1ffbe50263ff",
   "metadata": {},
   "outputs": [
    {
     "name": "stdout",
     "output_type": "stream",
     "text": [
      "<class 'int'>\n",
      "<class 'float'>\n",
      "<class 'complex'>\n"
     ]
    }
   ],
   "source": [
    "x=1\n",
    "y=3.2\n",
    "z=5j\n",
    "print(type(x))\n",
    "print(type(y))\n",
    "print(type(z))"
   ]
  },
  {
   "cell_type": "code",
   "execution_count": 35,
   "id": "a3009c7a-596a-4c96-98e1-a5b730f4a724",
   "metadata": {},
   "outputs": [
    {
     "name": "stdout",
     "output_type": "stream",
     "text": [
      "5.0\n",
      "0.2\n"
     ]
    },
    {
     "ename": "NameError",
     "evalue": "name 'm' is not defined",
     "output_type": "error",
     "traceback": [
      "\u001b[1;31m---------------------------------------------------------------------------\u001b[0m",
      "\u001b[1;31mNameError\u001b[0m                                 Traceback (most recent call last)",
      "Cell \u001b[1;32mIn[35], line 5\u001b[0m\n\u001b[0;32m      3\u001b[0m \u001b[38;5;28mprint\u001b[39m(M\u001b[38;5;241m/\u001b[39mN)\n\u001b[0;32m      4\u001b[0m \u001b[38;5;28mprint\u001b[39m(N\u001b[38;5;241m/\u001b[39mM)\n\u001b[1;32m----> 5\u001b[0m \u001b[38;5;28mprint\u001b[39m(m\u001b[38;5;241m/\u001b[39mn)\n",
      "\u001b[1;31mNameError\u001b[0m: name 'm' is not defined"
     ]
    }
   ],
   "source": [
    "M=25\n",
    "N=5\n",
    "print(M/N)\n",
    "print(N/M)\n",
    "print(m/n)"
   ]
  },
  {
   "cell_type": "code",
   "execution_count": 36,
   "id": "17616ca3-8fe1-432d-bc4e-7bb2542d4f48",
   "metadata": {},
   "outputs": [
    {
     "name": "stdout",
     "output_type": "stream",
     "text": [
      "5\n"
     ]
    }
   ],
   "source": [
    "print(M//N)"
   ]
  },
  {
   "cell_type": "code",
   "execution_count": 37,
   "id": "8b3e52fc-4909-4aa7-a1c0-6fc9b83bb1fd",
   "metadata": {},
   "outputs": [
    {
     "name": "stdout",
     "output_type": "stream",
     "text": [
      "0\n"
     ]
    }
   ],
   "source": [
    "print(M%N)"
   ]
  },
  {
   "cell_type": "code",
   "execution_count": 38,
   "id": "f1b2779b-975e-49da-86e3-2ea1040cb00d",
   "metadata": {},
   "outputs": [
    {
     "name": "stdout",
     "output_type": "stream",
     "text": [
      "9765625\n"
     ]
    }
   ],
   "source": [
    "print(M**N)"
   ]
  },
  {
   "cell_type": "code",
   "execution_count": null,
   "id": "95afead2-a1b2-4166-ac11-d477803dde5e",
   "metadata": {},
   "outputs": [],
   "source": []
  }
 ],
 "metadata": {
  "kernelspec": {
   "display_name": "Python 3 (ipykernel)",
   "language": "python",
   "name": "python3"
  },
  "language_info": {
   "codemirror_mode": {
    "name": "ipython",
    "version": 3
   },
   "file_extension": ".py",
   "mimetype": "text/x-python",
   "name": "python",
   "nbconvert_exporter": "python",
   "pygments_lexer": "ipython3",
   "version": "3.11.7"
  }
 },
 "nbformat": 4,
 "nbformat_minor": 5
}
