{
 "cells": [
  {
   "cell_type": "code",
   "execution_count": null,
   "id": "cf8a316c-4ca6-4e72-986e-4ee87b58bd3c",
   "metadata": {},
   "outputs": [],
   "source": [
    "#March 30 2024\n",
    "#List --- list will start with squar brackets, it is used to store collection of ites\n",
    "# list is mutable we can change, modify, add and delete"
   ]
  },
  {
   "cell_type": "code",
   "execution_count": null,
   "id": "c98f55a0-089b-4c2d-9cfe-950b03facd6d",
   "metadata": {},
   "outputs": [],
   "source": [
    "#list \n",
    "numbers = [1,2,3,4,5,6,-7,8,-9,-10]\n",
    "floot = [3.0,8.4,1.1,3.6,7.7,1.1,2.3]\n",
    "fruits = ['apple','mango','banana','grapes','kiwi','pine apple']\n",
    "language = ['python','C','C++','Hindi','Telugu','English']\n",
    "animals = ['lion','tiger','dear','cat','dog','cow']\n",
    "flower = ['rose','lilly']"
   ]
  },
  {
   "cell_type": "code",
   "execution_count": 179,
   "id": "75a79596-0af9-4804-b10c-9e78d844a538",
   "metadata": {},
   "outputs": [
    {
     "ename": "TypeError",
     "evalue": "'str' object is not callable",
     "output_type": "error",
     "traceback": [
      "\u001b[1;31m---------------------------------------------------------------------------\u001b[0m",
      "\u001b[1;31mTypeError\u001b[0m                                 Traceback (most recent call last)",
      "Cell \u001b[1;32mIn[179], line 8\u001b[0m\n\u001b[0;32m      6\u001b[0m animals \u001b[38;5;241m=\u001b[39m [\u001b[38;5;124m'\u001b[39m\u001b[38;5;124mlion\u001b[39m\u001b[38;5;124m'\u001b[39m,\u001b[38;5;124m'\u001b[39m\u001b[38;5;124mtiger\u001b[39m\u001b[38;5;124m'\u001b[39m,\u001b[38;5;124m'\u001b[39m\u001b[38;5;124mdear\u001b[39m\u001b[38;5;124m'\u001b[39m,\u001b[38;5;124m'\u001b[39m\u001b[38;5;124mcat\u001b[39m\u001b[38;5;124m'\u001b[39m,\u001b[38;5;124m'\u001b[39m\u001b[38;5;124mdog\u001b[39m\u001b[38;5;124m'\u001b[39m,\u001b[38;5;124m'\u001b[39m\u001b[38;5;124mcow\u001b[39m\u001b[38;5;124m'\u001b[39m]\n\u001b[0;32m      7\u001b[0m flower \u001b[38;5;241m=\u001b[39m [\u001b[38;5;124m'\u001b[39m\u001b[38;5;124mrose\u001b[39m\u001b[38;5;124m'\u001b[39m,\u001b[38;5;124m'\u001b[39m\u001b[38;5;124mlilly\u001b[39m\u001b[38;5;124m'\u001b[39m]\n\u001b[1;32m----> 8\u001b[0m \u001b[38;5;28mprint\u001b[39m(numbers, floot, fruits, language, animals, flower)\n",
      "\u001b[1;31mTypeError\u001b[0m: 'str' object is not callable"
     ]
    }
   ],
   "source": [
    "#chekcing all lists\n",
    "numbers = [1,2,3,4,5,6,-7,8,-9,-10]\n",
    "floot = [3.0,8.4,1.1,3.6,7.7,1.1,2.3]\n",
    "fruits = ['apple','mango','banana','grapes','kiwi','pine apple']\n",
    "language = ['python','C','C++','Hindi','Telugu','English']\n",
    "animals = ['lion','tiger','dear','cat','dog','cow']\n",
    "flower = ['rose','lilly']\n",
    "print(numbers, floot, fruits, language, animals, flower)"
   ]
  },
  {
   "cell_type": "code",
   "execution_count": 12,
   "id": "ab56da63-0e2b-4cd0-964e-3521d267bf0a",
   "metadata": {},
   "outputs": [
    {
     "name": "stdout",
     "output_type": "stream",
     "text": [
      "<class 'list'>\n"
     ]
    }
   ],
   "source": [
    "numbers = [1,2,3,4,5,6,-7,8,-9,-10]\n",
    "print(type(numbers))"
   ]
  },
  {
   "cell_type": "code",
   "execution_count": 23,
   "id": "8cec7ffb-4695-45fc-b08f-8fd224a7f2a4",
   "metadata": {},
   "outputs": [
    {
     "name": "stdout",
     "output_type": "stream",
     "text": [
      "<class 'list'> <class 'list'>\n"
     ]
    }
   ],
   "source": [
    "numbers = [1,2,3,4,5,6,-7,8,-9,-10]\n",
    "print(type(numbers),type(floot)) #check with sir"
   ]
  },
  {
   "cell_type": "code",
   "execution_count": null,
   "id": "faae3023-cb56-4828-8a8d-5ae932e2b78d",
   "metadata": {},
   "outputs": [],
   "source": [
    "#Index - there will two index in python positive index and Negative index\n",
    "#positive index statrs from 0\n",
    "#negative index stats from -1\n",
    "#default index will be positive index"
   ]
  },
  {
   "cell_type": "code",
   "execution_count": 22,
   "id": "ffb86760-2f26-4fb4-a8d3-1157e68e3a6a",
   "metadata": {},
   "outputs": [
    {
     "name": "stdout",
     "output_type": "stream",
     "text": [
      "mango\n",
      "grapes\n",
      "banana\n",
      "mango [-1]\n",
      "['mango', 'banana', 'grapes', 'kiwi']\n"
     ]
    }
   ],
   "source": [
    "fruits = ['apple','mango','banana','grapes','kiwi','pine apple']\n",
    "print(fruits[1])\n",
    "print(fruits[-3])\n",
    "print(fruits[2])\n",
    "print(fruits[1],[-1]) # check with sir\n",
    "print(fruits[1:-1]) # here n-1 is working"
   ]
  },
  {
   "cell_type": "code",
   "execution_count": 38,
   "id": "facb6f02-d14e-4162-9ee5-e5361279aaf6",
   "metadata": {},
   "outputs": [
    {
     "name": "stdout",
     "output_type": "stream",
     "text": [
      "1.1 banana C++\n",
      "7.7 grapes Hindi\n",
      "[8.4, 1.1] ['mango', 'banana'] ['C', 'C++']\n",
      "[8.4, 1.1, 3.6, 7.7, 1.1, 2.3] ['apple', 'mango', 'banana'] ['python', 'C', 'C++']\n",
      "2.3 ['apple', 'mango'] Telugu\n",
      "[3.0, 8.4, 1.1, 3.6, 7.7, 1.1, 2.3, 'apple', 'mango', 'banana', 'grapes', 'kiwi', 'pine apple', 'python', 'C', 'C++', 'Hindi', 'Telugu', 'English']\n"
     ]
    },
    {
     "data": {
      "text/plain": [
       "['python', 'C', 'C++', 'Hindi', 'Telugu', 'English']"
      ]
     },
     "execution_count": 38,
     "metadata": {},
     "output_type": "execute_result"
    }
   ],
   "source": [
    "# Slicing of list -- it helps to get portion of result from the list\n",
    "# slicing will run with n-1 formula\n",
    "floot = [3.0,8.4,1.1,3.6,7.7,1.1,2.3]\n",
    "fruits = ['apple','mango','banana','grapes','kiwi','pine apple']\n",
    "language = ['python','C','C++','Hindi','Telugu','English']\n",
    "\n",
    "print(floot[2], fruits[2], language[2])\n",
    "print(floot[-3], fruits[-3], language[-3])\n",
    "print(floot[1:3], fruits[1:3], language[1:3])\n",
    "print(floot[1:], fruits[0:3], language[:-3])\n",
    "print(floot[-1], fruits[0:2], language[4]) # here for fruits index n-1 is working hence we got the result apple and mango\n",
    "print(floot + fruits + language)\n",
    "language"
   ]
  },
  {
   "cell_type": "code",
   "execution_count": null,
   "id": "fc03f054-0268-4754-8bc6-e57ea866577e",
   "metadata": {},
   "outputs": [],
   "source": [
    "# List operations --> they are two types\n",
    "# 1. Concatenation\n",
    "# 2. Repetition"
   ]
  },
  {
   "cell_type": "code",
   "execution_count": 46,
   "id": "f662eaa2-e7d9-42d1-af98-64e73bbcf6e1",
   "metadata": {},
   "outputs": [
    {
     "name": "stdout",
     "output_type": "stream",
     "text": [
      "['lion', 'tiger', 'dear', 'cat', 'dog', 'cow', 1, 2, 'rose', 'lilly']\n"
     ]
    },
    {
     "data": {
      "text/plain": [
       "10"
      ]
     },
     "execution_count": 46,
     "metadata": {},
     "output_type": "execute_result"
    }
   ],
   "source": [
    "animals = ['lion','tiger','dear','cat','dog','cow']\n",
    "flower = [1,2,'rose','lilly']\n",
    "\n",
    "#Concatenation + Repetition\n",
    "con=animals+flower\n",
    "print(con)\n",
    "len(con)\n"
   ]
  },
  {
   "cell_type": "code",
   "execution_count": 54,
   "id": "ec985ba2-6241-4217-bd30-6c54b50f663b",
   "metadata": {},
   "outputs": [
    {
     "name": "stdout",
     "output_type": "stream",
     "text": [
      "[1, 2, 'rose', 'lilly', 1, 2, 'rose', 'lilly']\n"
     ]
    },
    {
     "data": {
      "text/plain": [
       "[1, 2, 'rose', 'lilly', 1, 2, 'rose', 'lilly']"
      ]
     },
     "execution_count": 54,
     "metadata": {},
     "output_type": "execute_result"
    }
   ],
   "source": [
    "print(flower*2)\n",
    "flower*3\n",
    "len(flower) #check wiht sir why len is erases\n",
    "flower*2"
   ]
  },
  {
   "cell_type": "code",
   "execution_count": 60,
   "id": "d395a08f-1328-4e31-a420-b0453046617d",
   "metadata": {},
   "outputs": [
    {
     "name": "stdout",
     "output_type": "stream",
     "text": [
      "3\n"
     ]
    }
   ],
   "source": [
    "a=5\n",
    "b=2\n",
    "c=a-b\n",
    "print(c)"
   ]
  },
  {
   "cell_type": "code",
   "execution_count": 62,
   "id": "8fe219cc-3872-43e4-80fe-7cf39165ddae",
   "metadata": {},
   "outputs": [
    {
     "ename": "TypeError",
     "evalue": "unsupported operand type(s) for -: 'tuple' and 'tuple'",
     "output_type": "error",
     "traceback": [
      "\u001b[1;31m---------------------------------------------------------------------------\u001b[0m",
      "\u001b[1;31mTypeError\u001b[0m                                 Traceback (most recent call last)",
      "Cell \u001b[1;32mIn[62], line 3\u001b[0m\n\u001b[0;32m      1\u001b[0m e\u001b[38;5;241m=\u001b[39m(\u001b[38;5;241m1\u001b[39m,\u001b[38;5;241m2\u001b[39m,\u001b[38;5;241m3\u001b[39m)\n\u001b[0;32m      2\u001b[0m f\u001b[38;5;241m=\u001b[39m(\u001b[38;5;241m2\u001b[39m,\u001b[38;5;241m3\u001b[39m,\u001b[38;5;241m4\u001b[39m)\n\u001b[1;32m----> 3\u001b[0m g\u001b[38;5;241m=\u001b[39me\u001b[38;5;241m-\u001b[39mf\n\u001b[0;32m      4\u001b[0m \u001b[38;5;28mprint\u001b[39m(g)\n",
      "\u001b[1;31mTypeError\u001b[0m: unsupported operand type(s) for -: 'tuple' and 'tuple'"
     ]
    }
   ],
   "source": [
    "e=(1,2,3)\n",
    "f=(2,3,4)\n",
    "g=e-f\n",
    "print(g)"
   ]
  },
  {
   "cell_type": "code",
   "execution_count": null,
   "id": "3f641de4-0628-4192-a86c-7f6476025f48",
   "metadata": {},
   "outputs": [],
   "source": [
    "#Change List Items--> were we can change the specific thing in list by using indexing"
   ]
  },
  {
   "cell_type": "code",
   "execution_count": 66,
   "id": "22919b74-85f0-44de-9c26-55f61e30d5a2",
   "metadata": {},
   "outputs": [
    {
     "name": "stdout",
     "output_type": "stream",
     "text": [
      "['hyd', 'mhb', 'dhone', 'gty', 'atp']\n"
     ]
    },
    {
     "data": {
      "text/plain": [
       "5"
      ]
     },
     "execution_count": 66,
     "metadata": {},
     "output_type": "execute_result"
    }
   ],
   "source": [
    "#changing the place\n",
    "place = ['hyd',\"kur\",'dhone','gty','atp']\n",
    "place[1]='mhb'\n",
    "print(place)\n",
    "len(place)"
   ]
  },
  {
   "cell_type": "code",
   "execution_count": 67,
   "id": "7f83fa3b-c048-41c0-812c-3082720cfbd2",
   "metadata": {},
   "outputs": [
    {
     "name": "stdout",
     "output_type": "stream",
     "text": [
      "['goa', 'kur', 'dhone', 'gty', 'atp']\n"
     ]
    }
   ],
   "source": [
    "#adding the place in positive index\n",
    "place = ['hyd',\"kur\",'dhone','gty','atp']\n",
    "place[0]='goa'\n",
    "print(place)"
   ]
  },
  {
   "cell_type": "code",
   "execution_count": 71,
   "id": "735bfbec-5b71-4348-b583-023225447db5",
   "metadata": {},
   "outputs": [
    {
     "name": "stdout",
     "output_type": "stream",
     "text": [
      "['goa', 'kur', 'dhone', 'gty', 'mumbai']\n"
     ]
    }
   ],
   "source": [
    "#adding the place in nagative index\n",
    "place=['goa', 'kur', 'dhone', 'gty', 'atp'] \n",
    "place[-1]='mumbai'\n",
    "print(place)#here n-1 is working --> Can we add without deleting the last element in negative index"
   ]
  },
  {
   "cell_type": "code",
   "execution_count": 72,
   "id": "5e039525-43aa-43cb-a04d-f5e102de0229",
   "metadata": {},
   "outputs": [
    {
     "name": "stdout",
     "output_type": "stream",
     "text": [
      "['hyd', 5, 'dhone', 'gty', 'atp']\n"
     ]
    }
   ],
   "source": [
    "place = ['hyd',\"kur\",'dhone','gty','atp']\n",
    "place[1]=5\n",
    "print(place)"
   ]
  },
  {
   "cell_type": "code",
   "execution_count": 73,
   "id": "959ccea2-4d00-4bcb-8879-a12cda0dc19c",
   "metadata": {},
   "outputs": [
    {
     "name": "stdout",
     "output_type": "stream",
     "text": [
      "['hyd', -5, 'dhone', 'gty', 'atp']\n"
     ]
    }
   ],
   "source": [
    "place = ['hyd',\"kur\",'dhone','gty','atp']\n",
    "place[1]= -5\n",
    "print(place)"
   ]
  },
  {
   "cell_type": "code",
   "execution_count": null,
   "id": "e2bef6cb-95b5-4fcc-bd88-d3a20c90abbd",
   "metadata": {},
   "outputs": [],
   "source": [
    "#Changing the range of itme valus\n",
    "a =[1,2,3,4,5]\n",
    "b = [egg,chicken,fish,water]"
   ]
  },
  {
   "cell_type": "code",
   "execution_count": 75,
   "id": "c5bdd501-85e2-4672-a5a5-97d7b98e867a",
   "metadata": {},
   "outputs": [
    {
     "name": "stdout",
     "output_type": "stream",
     "text": [
      "['egg', 'goat', 'mutton', 'sheep', 'water']\n"
     ]
    }
   ],
   "source": [
    "b = ['egg','chicken','fish','water']\n",
    "b[1:3]=['goat','mutton','sheep']\n",
    "print(b)"
   ]
  },
  {
   "cell_type": "code",
   "execution_count": 78,
   "id": "14072acf-310e-4553-95fa-6ba0e83ddcbd",
   "metadata": {},
   "outputs": [
    {
     "name": "stdout",
     "output_type": "stream",
     "text": [
      "['egg', 'goat', 'mutto', 'water']\n"
     ]
    }
   ],
   "source": [
    "b = ['egg','chicken','fish','water']\n",
    "b[1:-1]=['goat','mutto']\n",
    "print(b)"
   ]
  },
  {
   "cell_type": "code",
   "execution_count": null,
   "id": "b37c8710-cf65-4b30-9e52-be659a3dc4ec",
   "metadata": {},
   "outputs": [],
   "source": [
    "#List Methods\n",
    "#append"
   ]
  },
  {
   "cell_type": "code",
   "execution_count": 80,
   "id": "bceb92ea-0a8c-4e6f-96bb-aeedb8d591d5",
   "metadata": {},
   "outputs": [
    {
     "name": "stdout",
     "output_type": "stream",
     "text": [
      "['water', 'trees', 'air', 'fire', 'land', 'sky', 'human']\n"
     ]
    }
   ],
   "source": [
    "#append ---> add the value at the end of the list\n",
    "earth=['water','trees','air','fire','land','sky']\n",
    "earth.append('human')\n",
    "print(earth)"
   ]
  },
  {
   "cell_type": "code",
   "execution_count": 82,
   "id": "cb27fe26-30eb-45f7-90cc-59609406a90f",
   "metadata": {},
   "outputs": [
    {
     "name": "stdout",
     "output_type": "stream",
     "text": [
      "['water', 'trees', 'air', 'fire', 'land', 'sky', -1]\n"
     ]
    }
   ],
   "source": [
    "earth=['water','trees','air','fire','land','sky']\n",
    "earth.append(-1)\n",
    "print(earth)"
   ]
  },
  {
   "cell_type": "code",
   "execution_count": 83,
   "id": "13e5a002-eebf-45e1-99e2-dfddc6c1fcec",
   "metadata": {},
   "outputs": [
    {
     "name": "stdout",
     "output_type": "stream",
     "text": [
      "['water', 'trees', 'air', 'fire', 'land', 'sky', 1]\n"
     ]
    }
   ],
   "source": [
    "earth=['water','trees','air','fire','land','sky']\n",
    "earth.append(1)\n",
    "print(earth)"
   ]
  },
  {
   "cell_type": "code",
   "execution_count": 88,
   "id": "f675eff3-1d0c-4a64-953d-439fc2e90292",
   "metadata": {},
   "outputs": [
    {
     "name": "stdout",
     "output_type": "stream",
     "text": [
      "['hyd', 'goa', 'pune', 1, 2, 3]\n"
     ]
    },
    {
     "data": {
      "text/plain": [
       "6"
      ]
     },
     "execution_count": 88,
     "metadata": {},
     "output_type": "execute_result"
    }
   ],
   "source": [
    "#Extend ---> add more value as the end of the list from other list\n",
    "place = ['hyd','goa','pune']\n",
    "numbers = [1,2,3]\n",
    "place.extend(numbers)\n",
    "print(place)\n",
    "len(place)\n"
   ]
  },
  {
   "cell_type": "code",
   "execution_count": 89,
   "id": "c7827e0f-b38f-4b81-adc6-78dcec112ca1",
   "metadata": {},
   "outputs": [
    {
     "name": "stdout",
     "output_type": "stream",
     "text": [
      "['hyd', 'goa', 222, 'pune']\n"
     ]
    }
   ],
   "source": [
    "#Insert --> inserting the values in particular position\n",
    "place = ['hyd','goa','pune']\n",
    "place.insert(2,222)\n",
    "print(place)"
   ]
  },
  {
   "cell_type": "code",
   "execution_count": 91,
   "id": "67759a10-1a6b-4472-8e62-51af2514d184",
   "metadata": {},
   "outputs": [
    {
     "name": "stdout",
     "output_type": "stream",
     "text": [
      "['hyd', 'goa', 'Khalndhar', 'pune']\n"
     ]
    }
   ],
   "source": [
    "place = ['hyd','goa','pune']\n",
    "place.insert(2,'Khalndhar')\n",
    "print(place)"
   ]
  },
  {
   "cell_type": "code",
   "execution_count": 94,
   "id": "ec35b661-5e4d-4156-9476-a55ea8d7ec28",
   "metadata": {},
   "outputs": [
    {
     "name": "stdout",
     "output_type": "stream",
     "text": [
      "['hyd', 'goa', 'pune', 'gtl', 1, 2, 3, 4]\n"
     ]
    }
   ],
   "source": [
    "#Remove ---> removes the first occurrence\n",
    "place = ['hyd','goa','hyd','pune','gtl',1,1,2,3,4]\n",
    "place.remove(1)\n",
    "print(place)"
   ]
  },
  {
   "cell_type": "code",
   "execution_count": 95,
   "id": "09a6ca13-58fa-4f94-9d15-65fcce5aed0a",
   "metadata": {},
   "outputs": [
    {
     "name": "stdout",
     "output_type": "stream",
     "text": [
      "['goa', 'hyd', 'pune', 'gtl', 1, 1, 2, 3, 4]\n"
     ]
    }
   ],
   "source": [
    "place = ['hyd','goa','hyd','pune','gtl',1,1,2,3,4]\n",
    "place.remove('hyd')\n",
    "print(place)"
   ]
  },
  {
   "cell_type": "code",
   "execution_count": 102,
   "id": "a9a98efa-75f4-44b3-bf19-6cab8faca601",
   "metadata": {},
   "outputs": [
    {
     "name": "stdout",
     "output_type": "stream",
     "text": [
      "2\n"
     ]
    }
   ],
   "source": [
    "#pop --->removes and returns an element at a specifice index\n",
    "place = ['hyd','goa','hyd','pune','gtl',1,1,2,3,4]\n",
    "result = place.pop(-3)\n",
    "print(result)"
   ]
  },
  {
   "cell_type": "code",
   "execution_count": 103,
   "id": "86bf9c1f-9d65-48c5-a5a1-af09b77ceaf3",
   "metadata": {},
   "outputs": [
    {
     "name": "stdout",
     "output_type": "stream",
     "text": [
      "goa\n"
     ]
    }
   ],
   "source": [
    "place = ['hyd','goa','hyd','pune','gtl',1,1,2,3,4]\n",
    "result = place.pop(1)\n",
    "print(result)"
   ]
  },
  {
   "cell_type": "code",
   "execution_count": 107,
   "id": "c6ce7b99-1049-48c1-ae18-1077a65b1132",
   "metadata": {},
   "outputs": [
    {
     "name": "stdout",
     "output_type": "stream",
     "text": [
      "0\n"
     ]
    }
   ],
   "source": [
    "#Index --> returns the first occurence of the index\n",
    "place = ['hyd','goa','hyd','pune','gtl',1,1,2,3,4]\n",
    "index=place.index('hyd')\n",
    "print(index)  # check with sir"
   ]
  },
  {
   "cell_type": "code",
   "execution_count": 108,
   "id": "3685a565-dfc4-4203-8ea8-dd305cb5a138",
   "metadata": {},
   "outputs": [
    {
     "name": "stdout",
     "output_type": "stream",
     "text": [
      "1\n"
     ]
    }
   ],
   "source": [
    "numbers=[10,20,30,40,10,50,10,20,70,30]\n",
    "ind=numbers.index(20)\n",
    "print(ind)"
   ]
  },
  {
   "cell_type": "code",
   "execution_count": 112,
   "id": "25d4dc1a-2e0f-4b4e-bbb7-f3bb6a012f2f",
   "metadata": {},
   "outputs": [
    {
     "name": "stdout",
     "output_type": "stream",
     "text": [
      "3\n"
     ]
    }
   ],
   "source": [
    "#count ---> returns the number of occurence of the valud\n",
    "numbers=[10,20,30,40,10,50,10,20,70,30]\n",
    "count=numbers.count(10)\n",
    "print(count)\n"
   ]
  },
  {
   "cell_type": "code",
   "execution_count": 113,
   "id": "b906244a-1c63-47d6-a7d5-c91b3edae5de",
   "metadata": {},
   "outputs": [
    {
     "name": "stdout",
     "output_type": "stream",
     "text": [
      "2\n"
     ]
    }
   ],
   "source": [
    "place = ['hyd','goa','hyd','pune','gtl',1,1,2,3,4]\n",
    "count1=place.count('hyd')\n",
    "print(count1)"
   ]
  },
  {
   "cell_type": "code",
   "execution_count": 124,
   "id": "7dba700e-f427-43c2-ab0e-976e083c6180",
   "metadata": {},
   "outputs": [
    {
     "name": "stdout",
     "output_type": "stream",
     "text": [
      "[1, 2, 3, 4, 5, 7, 9, 10]\n"
     ]
    }
   ],
   "source": [
    "#sort---> sort the list in ascending order\n",
    "values=[9,2,3,1,4,7,5,10]\n",
    "values.sort()\n",
    "print(values)"
   ]
  },
  {
   "cell_type": "code",
   "execution_count": 126,
   "id": "a4867c0a-7656-4e82-a7d9-6f0a84c0e17d",
   "metadata": {},
   "outputs": [
    {
     "name": "stdout",
     "output_type": "stream",
     "text": [
      "['Manali', 'Mango', 'apple', 'banganpalli', 'kurnoo', 'pine apple', 'rice']\n"
     ]
    }
   ],
   "source": [
    "fruits=['pine apple','Manali','Mango','banganpalli','rice','kurnoo','apple'] #FIRST IT WILL TAKE CAPITAL LETTERS\n",
    "fruits.sort()\n",
    "print(fruits)"
   ]
  },
  {
   "cell_type": "code",
   "execution_count": 131,
   "id": "7d7c4220-af7c-40af-92f0-fac4b3544e4f",
   "metadata": {},
   "outputs": [
    {
     "name": "stdout",
     "output_type": "stream",
     "text": [
      "[10, 9, 7, 5, 4, 3, 2, 1]\n"
     ]
    }
   ],
   "source": [
    "#revers - reversing the order of the list\n",
    "rev=[1, 2, 3, 4, 5, 7, 9, 10]\n",
    "rev.reverse()\n",
    "print(rev)"
   ]
  },
  {
   "cell_type": "code",
   "execution_count": 132,
   "id": "46f2fd78-fc35-4dd1-b373-8e2dc57d0124",
   "metadata": {},
   "outputs": [
    {
     "name": "stdout",
     "output_type": "stream",
     "text": [
      "['rice', 'pine apple', 'kurnoo', 'banganpalli', 'apple', 'Mango', 'Manali']\n"
     ]
    }
   ],
   "source": [
    "rev1=['Manali', 'Mango', 'apple', 'banganpalli', 'kurnoo', 'pine apple', 'rice']\n",
    "rev1.reverse()\n",
    "print(rev1)"
   ]
  },
  {
   "cell_type": "code",
   "execution_count": null,
   "id": "0f323551-60e1-496a-9f4a-f3727bbfbc16",
   "metadata": {},
   "outputs": [],
   "source": [
    "#PYTHON STRIGNS \n",
    "# single ' quotation\n",
    "# double \" quotations\n",
    "# triple \"\"\" quotatios\n",
    "# it is imuptable\n",
    "# Once string is created we cant change, but we can change the character's"
   ]
  },
  {
   "cell_type": "code",
   "execution_count": 139,
   "id": "59994ae6-b5d0-479a-b2d0-04d550c37480",
   "metadata": {},
   "outputs": [
    {
     "name": "stdout",
     "output_type": "stream",
     "text": [
      "shaik\n",
      "khalandha\n",
      "shaikkhalandha\n"
     ]
    }
   ],
   "source": [
    "str1='shaik'\n",
    "str2=\"khalandha\"\n",
    "print(str1)\n",
    "print( str2)\n",
    "print(str1 + str2)"
   ]
  },
  {
   "cell_type": "code",
   "execution_count": 143,
   "id": "a18ad3f6-92f7-4267-9b2a-f2e13f8a9512",
   "metadata": {},
   "outputs": [
    {
     "name": "stdout",
     "output_type": "stream",
     "text": [
      "shaik khalandha \n"
     ]
    }
   ],
   "source": [
    "tr1='shaik'\n",
    "str2=\"khalandha \"\n",
    "print(str1+\" \"+str2)"
   ]
  },
  {
   "cell_type": "code",
   "execution_count": 145,
   "id": "4bca8c79-0e8f-42c5-bfa1-e748c5c62c43",
   "metadata": {},
   "outputs": [
    {
     "name": "stdout",
     "output_type": "stream",
     "text": [
      "shaik khalandha - shaik khalandha - shaik khalandha - \n"
     ]
    }
   ],
   "source": [
    "str3 =\"shaik khalandha - \"\n",
    "name=str3* 3\n",
    "print(name)"
   ]
  },
  {
   "cell_type": "code",
   "execution_count": 167,
   "id": "9bac62a0-4443-4541-958d-65539c5833a5",
   "metadata": {},
   "outputs": [
    {
     "ename": "TypeError",
     "evalue": "'str' object is not callable",
     "output_type": "error",
     "traceback": [
      "\u001b[1;31m---------------------------------------------------------------------------\u001b[0m",
      "\u001b[1;31mTypeError\u001b[0m                                 Traceback (most recent call last)",
      "Cell \u001b[1;32mIn[167], line 3\u001b[0m\n\u001b[0;32m      1\u001b[0m \u001b[38;5;66;03m#indexing - Accessing the individual characters in a string\u001b[39;00m\n\u001b[0;32m      2\u001b[0m my_string \u001b[38;5;241m=\u001b[39m \u001b[38;5;124m\"\u001b[39m\u001b[38;5;124mpython\u001b[39m\u001b[38;5;124m\"\u001b[39m\n\u001b[1;32m----> 3\u001b[0m \u001b[38;5;28mprint\u001b[39m(my_string[\u001b[38;5;241m0\u001b[39m])\n\u001b[0;32m      4\u001b[0m \u001b[38;5;28mprint\u001b[39m(my_string[\u001b[38;5;241m-\u001b[39m\u001b[38;5;241m1\u001b[39m])\n",
      "\u001b[1;31mTypeError\u001b[0m: 'str' object is not callable"
     ]
    }
   ],
   "source": [
    "#indexing - Accessing the individual characters in a string\n",
    "my_string = \"python\"\n",
    "print(my_string[0])\n",
    "print(my_string[-1])\n"
   ]
  },
  {
   "cell_type": "code",
   "execution_count": 166,
   "id": "d94b90d6-9f5a-4522-b8d0-60ba238ef5e7",
   "metadata": {},
   "outputs": [
    {
     "ename": "TypeError",
     "evalue": "'str' object is not callable",
     "output_type": "error",
     "traceback": [
      "\u001b[1;31m---------------------------------------------------------------------------\u001b[0m",
      "\u001b[1;31mTypeError\u001b[0m                                 Traceback (most recent call last)",
      "Cell \u001b[1;32mIn[166], line 4\u001b[0m\n\u001b[0;32m      2\u001b[0m test\u001b[38;5;241m=\u001b[39m \u001b[38;5;124m'\u001b[39m\u001b[38;5;124mHello World\u001b[39m\u001b[38;5;124m'\u001b[39m\n\u001b[0;32m      3\u001b[0m pull \u001b[38;5;241m=\u001b[39m test[\u001b[38;5;241m3\u001b[39m:\u001b[38;5;241m9\u001b[39m]\n\u001b[1;32m----> 4\u001b[0m \u001b[38;5;28mprint\u001b[39m(pull)\n",
      "\u001b[1;31mTypeError\u001b[0m: 'str' object is not callable"
     ]
    }
   ],
   "source": [
    "#slicing \n",
    "test  = 'Hello World'\n",
    "pull = test[2:6]\n",
    "print(pull)"
   ]
  },
  {
   "cell_type": "code",
   "execution_count": null,
   "id": "07199d4b-a224-4d63-a83e-a3581b726b83",
   "metadata": {},
   "outputs": [],
   "source": []
  }
 ],
 "metadata": {
  "kernelspec": {
   "display_name": "Python 3 (ipykernel)",
   "language": "python",
   "name": "python3"
  },
  "language_info": {
   "codemirror_mode": {
    "name": "ipython",
    "version": 3
   },
   "file_extension": ".py",
   "mimetype": "text/x-python",
   "name": "python",
   "nbconvert_exporter": "python",
   "pygments_lexer": "ipython3",
   "version": "3.11.7"
  }
 },
 "nbformat": 4,
 "nbformat_minor": 5
}
