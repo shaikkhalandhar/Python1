{
 "cells": [
  {
   "cell_type": "code",
   "execution_count": 1,
   "id": "f22f384b-7623-48b2-966f-ad8fb473dd6a",
   "metadata": {},
   "outputs": [
    {
     "name": "stdout",
     "output_type": "stream",
     "text": [
      "Hello World\n"
     ]
    }
   ],
   "source": [
    "print (\"Hello World\")"
   ]
  },
  {
   "cell_type": "code",
   "execution_count": 1,
   "id": "d60f02b7-aa1e-43f4-b027-65c50671ec99",
   "metadata": {},
   "outputs": [
    {
     "name": "stdout",
     "output_type": "stream",
     "text": [
      "1\n",
      "5\n",
      "6\n",
      "10\n",
      "12\n",
      "9.0\n",
      "7.0\n",
      "Shaik\n",
      "Khalandhar\n",
      "<class 'int'>\n",
      "<class 'int'>\n",
      "<class 'int'>\n",
      "<class 'int'>\n",
      "<class 'int'>\n",
      "<class 'float'>\n",
      "<class 'float'>\n",
      "<class 'str'>\n",
      "<class 'str'>\n"
     ]
    }
   ],
   "source": [
    "#valid variables\n",
    "a=1\n",
    "b1=5\n",
    "_c=6\n",
    "d_=10\n",
    "_1e=12\n",
    "f_0=9.0\n",
    "_1g=7.0\n",
    "_h1=\"Shaik\"\n",
    "i1_=\"Khalandhar\"\n",
    "\n",
    "print(a)\n",
    "print (b1)\n",
    "print(_c)\n",
    "print(d_)\n",
    "print (_1e)\n",
    "print(f_0)\n",
    "print(_1g)\n",
    "print(_h1)\n",
    "print(i1_)\n",
    "print( type(a))\n",
    "print (type(b1))\n",
    "print(type(_c))\n",
    "print(type(d_))\n",
    "print (type(_1e))\n",
    "print(type(f_0))\n",
    "print(type(_1g))\n",
    "print(type(_h1))\n",
    "print(type(i1_))"
   ]
  },
  {
   "cell_type": "code",
   "execution_count": 2,
   "id": "8eed2077-50ad-454b-badf-7da912ab9bb0",
   "metadata": {},
   "outputs": [
    {
     "ename": "SyntaxError",
     "evalue": "cannot assign to literal here. Maybe you meant '==' instead of '='? (1886607663.py, line 2)",
     "output_type": "error",
     "traceback": [
      "\u001b[1;36m  Cell \u001b[1;32mIn[2], line 2\u001b[1;36m\u001b[0m\n\u001b[1;33m    @1=11\u001b[0m\n\u001b[1;37m     ^\u001b[0m\n\u001b[1;31mSyntaxError\u001b[0m\u001b[1;31m:\u001b[0m cannot assign to literal here. Maybe you meant '==' instead of '='?\n"
     ]
    }
   ],
   "source": [
    "#invalid variables\n",
    "@1=11\n",
    "if=22\n",
    "1=33\n",
    ".=66\n",
    "print(@1)"
   ]
  },
  {
   "cell_type": "code",
   "execution_count": 11,
   "id": "2ac66699-fd23-40be-ab57-947510c7b1d1",
   "metadata": {},
   "outputs": [
    {
     "ename": "SyntaxError",
     "evalue": "invalid syntax (670857461.py, line 1)",
     "output_type": "error",
     "traceback": [
      "\u001b[1;36m  Cell \u001b[1;32mIn[11], line 1\u001b[1;36m\u001b[0m\n\u001b[1;33m    print(if)\u001b[0m\n\u001b[1;37m          ^\u001b[0m\n\u001b[1;31mSyntaxError\u001b[0m\u001b[1;31m:\u001b[0m invalid syntax\n"
     ]
    }
   ],
   "source": [
    "print(if)"
   ]
  },
  {
   "cell_type": "code",
   "execution_count": 12,
   "id": "5be94d33-3487-4993-9006-9a73f76e2094",
   "metadata": {},
   "outputs": [
    {
     "name": "stdout",
     "output_type": "stream",
     "text": [
      "1\n"
     ]
    }
   ],
   "source": [
    "print(1)"
   ]
  },
  {
   "cell_type": "code",
   "execution_count": null,
   "id": "07faaaef-0391-4760-9f99-38a7bc4f6ece",
   "metadata": {},
   "outputs": [],
   "source": []
  }
 ],
 "metadata": {
  "kernelspec": {
   "display_name": "Python 3 (ipykernel)",
   "language": "python",
   "name": "python3"
  },
  "language_info": {
   "codemirror_mode": {
    "name": "ipython",
    "version": 3
   },
   "file_extension": ".py",
   "mimetype": "text/x-python",
   "name": "python",
   "nbconvert_exporter": "python",
   "pygments_lexer": "ipython3",
   "version": "3.11.7"
  }
 },
 "nbformat": 4,
 "nbformat_minor": 5
}
