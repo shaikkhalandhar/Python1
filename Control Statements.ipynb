{
 "cells": [
  {
   "cell_type": "markdown",
   "id": "86511019-abcd-4402-b8f6-18323613e6e6",
   "metadata": {},
   "source": [
    "Control Statement\n",
    "1. Pass\n",
    "2. Break\n",
    "3. Continue"
   ]
  },
  {
   "cell_type": "code",
   "execution_count": 2,
   "id": "9a299996-3343-4b42-85b4-dc230873a412",
   "metadata": {},
   "outputs": [
    {
     "name": "stdout",
     "output_type": "stream",
     "text": [
      "0\n",
      "1\n",
      "2\n",
      "3\n",
      "4\n",
      "5\n",
      "6\n",
      "7\n",
      "8\n",
      "9\n",
      "11\n",
      "12\n",
      "13\n",
      "14\n"
     ]
    }
   ],
   "source": [
    "for num in range(15):\n",
    "    if num==10:\n",
    "        pass\n",
    "    else:\n",
    "        print(num)"
   ]
  },
  {
   "cell_type": "code",
   "execution_count": 13,
   "id": "c9281629-eceb-42da-b30b-a9484475da40",
   "metadata": {},
   "outputs": [
    {
     "name": "stdout",
     "output_type": "stream",
     "text": [
      "{'Fish', 'Prawans', 'Chicken', 'Egg', 'Curd rice', 'Mutton'}\n",
      "{'Fish', 'Prawans', 'Chicken', 'Egg', 'Curd rice', 'Mutton'}\n",
      "{'Fish', 'Prawans', 'Chicken', 'Egg', 'Curd rice', 'Mutton'}\n",
      "{'Fish', 'Prawans', 'Chicken', 'Egg', 'Curd rice', 'Mutton'}\n",
      "{'Fish', 'Prawans', 'Chicken', 'Egg', 'Curd rice', 'Mutton'}\n"
     ]
    }
   ],
   "source": [
    "menu={\"Mutton\",\"Chicken\",\"Fish\",\"Curd rice\",\"Egg\",\"Prawans\"}\n",
    "for i in menu:\n",
    "    if i==\"Fish\":\n",
    "        pass\n",
    "    else:\n",
    "        print(menu)"
   ]
  },
  {
   "cell_type": "code",
   "execution_count": 14,
   "id": "33bb6f66-14e1-4faa-a21b-a4f51275c9c8",
   "metadata": {},
   "outputs": [
    {
     "name": "stdout",
     "output_type": "stream",
     "text": [
      "0\n",
      "1\n",
      "2\n",
      "3\n",
      "4\n",
      "5\n",
      "6\n",
      "7\n",
      "8\n",
      "9\n"
     ]
    }
   ],
   "source": [
    "#break\n",
    "\n",
    "for i in range (15):\n",
    "    if i==10:\n",
    "        break\n",
    "    else:\n",
    "        print(i)"
   ]
  },
  {
   "cell_type": "code",
   "execution_count": 16,
   "id": "b219596c-87e4-4314-a095-5e4ed3959821",
   "metadata": {},
   "outputs": [
    {
     "name": "stdout",
     "output_type": "stream",
     "text": [
      "0\n",
      "1\n",
      "2\n",
      "3\n",
      "4\n",
      "5\n",
      "6\n",
      "7\n",
      "8\n",
      "9\n",
      "10\n",
      "11\n",
      "12\n",
      "13\n",
      "14\n",
      "16\n",
      "17\n",
      "18\n",
      "19\n"
     ]
    }
   ],
   "source": [
    "#continue\n",
    "\n",
    "for i in range(20):\n",
    "    if i==15:\n",
    "        continue\n",
    "    else:\n",
    "        print(i)"
   ]
  },
  {
   "cell_type": "code",
   "execution_count": null,
   "id": "82266ad4-c03b-4d0b-9ec0-34604ee0e8ff",
   "metadata": {},
   "outputs": [],
   "source": []
  }
 ],
 "metadata": {
  "kernelspec": {
   "display_name": "Python 3 (ipykernel)",
   "language": "python",
   "name": "python3"
  },
  "language_info": {
   "codemirror_mode": {
    "name": "ipython",
    "version": 3
   },
   "file_extension": ".py",
   "mimetype": "text/x-python",
   "name": "python",
   "nbconvert_exporter": "python",
   "pygments_lexer": "ipython3",
   "version": "3.11.7"
  }
 },
 "nbformat": 4,
 "nbformat_minor": 5
}
