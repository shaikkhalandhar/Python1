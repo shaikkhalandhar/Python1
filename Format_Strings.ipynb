{
 "cells": [
  {
   "cell_type": "code",
   "execution_count": 3,
   "id": "262365da-d4b2-4ac6-b2f2-dc17214ec12e",
   "metadata": {},
   "outputs": [
    {
     "name": "stdout",
     "output_type": "stream",
     "text": [
      "My name is shaik and I am 35.\n"
     ]
    }
   ],
   "source": [
    "#python strings\n",
    "#Format Strings\n",
    "name=\"shaik\"\n",
    "age=35\n",
    "s1=\"My name is %s and I am %d.\"%(name,age)\n",
    "print(s1)"
   ]
  },
  {
   "cell_type": "code",
   "execution_count": 4,
   "id": "2d19b97c-a9f4-4241-956e-578f8f6243fd",
   "metadata": {},
   "outputs": [
    {
     "name": "stdout",
     "output_type": "stream",
     "text": [
      " kurnool is capital of AP and its code is 518222.\n"
     ]
    }
   ],
   "source": [
    "place=\"kurnool\"\n",
    "code=518222\n",
    "s2=\" %s is capital of AP and its code is %d.\"%(place,code)\n",
    "print(s2)"
   ]
  },
  {
   "cell_type": "code",
   "execution_count": 5,
   "id": "a6fc6358-e736-40ad-a0f9-ae3f1bb94649",
   "metadata": {},
   "outputs": [
    {
     "data": {
      "text/plain": [
       "'I am form New York city, which is in USA country.'"
      ]
     },
     "execution_count": 5,
     "metadata": {},
     "output_type": "execute_result"
    }
   ],
   "source": [
    "city=\"New York\"\n",
    "country=\"country\"\n",
    "s3=\"I am form %s city, which is in USA %s.\"%(city, country)\n",
    "s3"
   ]
  },
  {
   "cell_type": "code",
   "execution_count": 6,
   "id": "1f014956-606f-4fe4-915e-45148f184360",
   "metadata": {},
   "outputs": [
    {
     "name": "stdout",
     "output_type": "stream",
     "text": [
      "My name is shaik and I am 35\n"
     ]
    }
   ],
   "source": [
    "#Format Method using {}\n",
    "name=\"shaik\"\n",
    "age=35\n",
    "an=\"My name is {} and I am {}\".format(name,age)\n",
    "print(an)"
   ]
  },
  {
   "cell_type": "code",
   "execution_count": 7,
   "id": "18927914-bd92-42bd-bddd-c175b51f8382",
   "metadata": {},
   "outputs": [
    {
     "name": "stdout",
     "output_type": "stream",
     "text": [
      "kurnool is capital of AP and its code is 518222.\n"
     ]
    }
   ],
   "source": [
    "place=\"kurnool\"\n",
    "code=518222\n",
    "k5=\"{} is capital of AP and its code is {}.\".format(place,code)\n",
    "print(k5)"
   ]
  },
  {
   "cell_type": "code",
   "execution_count": 8,
   "id": "ed796bee-4ee3-46ca-9782-0bc83d23495b",
   "metadata": {},
   "outputs": [
    {
     "data": {
      "text/plain": [
       "'I am form New York city, which is in USA country.'"
      ]
     },
     "execution_count": 8,
     "metadata": {},
     "output_type": "execute_result"
    }
   ],
   "source": [
    "city=\"New York\"\n",
    "country=\"country\"\n",
    "cc=\"I am form {} city, which is in USA {}.\".format(city, country)\n",
    "cc"
   ]
  },
  {
   "cell_type": "markdown",
   "id": "00dee650-5edf-4577-a28d-ad2fa6c9f9c4",
   "metadata": {},
   "source": [
    "#Dynamic"
   ]
  },
  {
   "cell_type": "code",
   "execution_count": 1,
   "id": "1b590256-bb0d-4145-903b-3e0829e69dff",
   "metadata": {},
   "outputs": [
    {
     "name": "stdin",
     "output_type": "stream",
     "text": [
      "enter your name = shaik dada kahalandhar\n"
     ]
    },
    {
     "name": "stdout",
     "output_type": "stream",
     "text": [
      "shaik dada kahalandhar\n"
     ]
    }
   ],
   "source": [
    "name=input(\"enter your name =\")\n",
    "print(name)"
   ]
  },
  {
   "cell_type": "code",
   "execution_count": 2,
   "id": "34812edd-ead3-4462-bafa-eb9b0834e2c2",
   "metadata": {},
   "outputs": [
    {
     "name": "stdin",
     "output_type": "stream",
     "text": [
      "enter your age = 34\n"
     ]
    },
    {
     "name": "stdout",
     "output_type": "stream",
     "text": [
      "34\n"
     ]
    }
   ],
   "source": [
    "age=input(\"enter your age =\")\n",
    "print(age)"
   ]
  },
  {
   "cell_type": "code",
   "execution_count": 1,
   "id": "7a1c7abd-d1b1-4871-91cc-4dc8e4b53d92",
   "metadata": {},
   "outputs": [
    {
     "name": "stdin",
     "output_type": "stream",
     "text": [
      "enter you place = Kurnool\n"
     ]
    },
    {
     "name": "stdout",
     "output_type": "stream",
     "text": [
      "Kurnool\n"
     ]
    }
   ],
   "source": [
    "place=input(\"enter your place =\")\n",
    "print(place)"
   ]
  },
  {
   "cell_type": "code",
   "execution_count": 3,
   "id": "b132fbfc-a698-4f1a-a3ab-bb0eab3598e5",
   "metadata": {},
   "outputs": [
    {
     "name": "stdin",
     "output_type": "stream",
     "text": [
      "entey your country = India\n"
     ]
    },
    {
     "name": "stdout",
     "output_type": "stream",
     "text": [
      "India\n"
     ]
    }
   ],
   "source": [
    "country=input(\"entey your country =\")\n",
    "print(country)"
   ]
  },
  {
   "cell_type": "code",
   "execution_count": null,
   "id": "6f8be815-6679-47ba-8388-f5e331644a13",
   "metadata": {},
   "outputs": [],
   "source": []
  }
 ],
 "metadata": {
  "kernelspec": {
   "display_name": "Python 3 (ipykernel)",
   "language": "python",
   "name": "python3"
  },
  "language_info": {
   "codemirror_mode": {
    "name": "ipython",
    "version": 3
   },
   "file_extension": ".py",
   "mimetype": "text/x-python",
   "name": "python",
   "nbconvert_exporter": "python",
   "pygments_lexer": "ipython3",
   "version": "3.11.7"
  }
 },
 "nbformat": 4,
 "nbformat_minor": 5
}
