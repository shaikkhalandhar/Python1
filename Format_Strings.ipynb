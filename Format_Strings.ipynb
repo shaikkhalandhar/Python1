{
 "cells": [
  {
   "cell_type": "raw",
   "id": "35887b0b-ed67-4731-903a-5f9addce2e64",
   "metadata": {},
   "source": [
    "Strings and Formats"
   ]
  },
  {
   "cell_type": "code",
   "execution_count": 3,
   "id": "262365da-d4b2-4ac6-b2f2-dc17214ec12e",
   "metadata": {},
   "outputs": [
    {
     "name": "stdout",
     "output_type": "stream",
     "text": [
      "My name is shaik and I am 35.\n"
     ]
    }
   ],
   "source": [
    "#python strings\n",
    "#Format Strings\n",
    "name=\"shaik\"\n",
    "age=35\n",
    "s1=\"My name is %s and I am %d.\"%(name,age)\n",
    "print(s1)"
   ]
  },
  {
   "cell_type": "code",
   "execution_count": 4,
   "id": "2d19b97c-a9f4-4241-956e-578f8f6243fd",
   "metadata": {},
   "outputs": [
    {
     "name": "stdout",
     "output_type": "stream",
     "text": [
      " kurnool is capital of AP and its code is 518222.\n"
     ]
    }
   ],
   "source": [
    "place=\"kurnool\"\n",
    "code=518222\n",
    "s2=\" %s is capital of AP and its code is %d.\"%(place,code)\n",
    "print(s2)"
   ]
  },
  {
   "cell_type": "code",
   "execution_count": 5,
   "id": "a6fc6358-e736-40ad-a0f9-ae3f1bb94649",
   "metadata": {},
   "outputs": [
    {
     "data": {
      "text/plain": [
       "'I am form New York city, which is in USA country.'"
      ]
     },
     "execution_count": 5,
     "metadata": {},
     "output_type": "execute_result"
    }
   ],
   "source": [
    "city=\"New York\"\n",
    "country=\"country\"\n",
    "s3=\"I am form %s city, which is in USA %s.\"%(city, country)\n",
    "s3"
   ]
  },
  {
   "cell_type": "code",
   "execution_count": 6,
   "id": "1f014956-606f-4fe4-915e-45148f184360",
   "metadata": {},
   "outputs": [
    {
     "name": "stdout",
     "output_type": "stream",
     "text": [
      "My name is shaik and I am 35\n"
     ]
    }
   ],
   "source": [
    "#Format Method using {}\n",
    "name=\"shaik\"\n",
    "age=35\n",
    "an=\"My name is {} and I am {}\".format(name,age)\n",
    "print(an)"
   ]
  },
  {
   "cell_type": "code",
   "execution_count": 7,
   "id": "18927914-bd92-42bd-bddd-c175b51f8382",
   "metadata": {},
   "outputs": [
    {
     "name": "stdout",
     "output_type": "stream",
     "text": [
      "kurnool is capital of AP and its code is 518222.\n"
     ]
    }
   ],
   "source": [
    "place=\"kurnool\"\n",
    "code=518222\n",
    "k5=\"{} is capital of AP and its code is {}.\".format(place,code)\n",
    "print(k5)"
   ]
  },
  {
   "cell_type": "code",
   "execution_count": 8,
   "id": "ed796bee-4ee3-46ca-9782-0bc83d23495b",
   "metadata": {},
   "outputs": [
    {
     "data": {
      "text/plain": [
       "'I am form New York city, which is in USA country.'"
      ]
     },
     "execution_count": 8,
     "metadata": {},
     "output_type": "execute_result"
    }
   ],
   "source": [
    "city=\"New York\"\n",
    "country=\"country\"\n",
    "cc=\"I am form {} city, which is in USA {}.\".format(city, country)\n",
    "cc"
   ]
  },
  {
   "cell_type": "markdown",
   "id": "00dee650-5edf-4577-a28d-ad2fa6c9f9c4",
   "metadata": {},
   "source": [
    "#Dynamic"
   ]
  },
  {
   "cell_type": "code",
   "execution_count": 6,
   "id": "1b590256-bb0d-4145-903b-3e0829e69dff",
   "metadata": {},
   "outputs": [
    {
     "name": "stdin",
     "output_type": "stream",
     "text": [
      "enter your name = Shaik Dada Khalandhar\n"
     ]
    }
   ],
   "source": [
    "name=input(\"enter your name =\")"
   ]
  },
  {
   "cell_type": "code",
   "execution_count": 3,
   "id": "34812edd-ead3-4462-bafa-eb9b0834e2c2",
   "metadata": {},
   "outputs": [
    {
     "name": "stdin",
     "output_type": "stream",
     "text": [
      "enter your age = 34\n"
     ]
    }
   ],
   "source": [
    "age=input(\"enter your age =\")"
   ]
  },
  {
   "cell_type": "code",
   "execution_count": 4,
   "id": "7a1c7abd-d1b1-4871-91cc-4dc8e4b53d92",
   "metadata": {},
   "outputs": [
    {
     "name": "stdin",
     "output_type": "stream",
     "text": [
      "enter your place = Hyderabad\n"
     ]
    }
   ],
   "source": [
    "place=input(\"enter your place =\")"
   ]
  },
  {
   "cell_type": "code",
   "execution_count": 5,
   "id": "b132fbfc-a698-4f1a-a3ab-bb0eab3598e5",
   "metadata": {},
   "outputs": [
    {
     "name": "stdin",
     "output_type": "stream",
     "text": [
      "entey your country = India\n"
     ]
    }
   ],
   "source": [
    "country=input(\"entey your country =\")"
   ]
  },
  {
   "cell_type": "code",
   "execution_count": 4,
   "id": "6f8be815-6679-47ba-8388-f5e331644a13",
   "metadata": {},
   "outputs": [
    {
     "name": "stdin",
     "output_type": "stream",
     "text": [
      "Enter your gender = male\n",
      "Enter your place = guntakal\n",
      "Enter your food = mutton\n"
     ]
    }
   ],
   "source": [
    " name = \"shaik\"\n",
    "name=input(\"Enter your gender =\")\n",
    "name=input(\"Enter your place =\")\n",
    "name=input(\"Enter your food =\")"
   ]
  },
  {
   "cell_type": "code",
   "execution_count": 5,
   "id": "0e922678-fc23-4425-aa7e-d2840aee14e3",
   "metadata": {},
   "outputs": [
    {
     "name": "stdin",
     "output_type": "stream",
     "text": [
      "Enter your Name = Shaik\n",
      "Enter your Age = 35\n",
      "Enter your Location = Hyderabad\n",
      "Enter your ID = 123\n"
     ]
    }
   ],
   "source": [
    "name=input(\"Enter your Name =\")\n",
    "name=input(\"Enter your Age =\")\n",
    "name=input(\"Enter your Location =\")\n",
    "name=input(\"Enter your ID =\")"
   ]
  },
  {
   "cell_type": "code",
   "execution_count": 7,
   "id": "aab34e5b-5a6c-4782-8867-6786aa550bca",
   "metadata": {},
   "outputs": [
    {
     "name": "stdout",
     "output_type": "stream",
     "text": [
      "My Name is Noor and My age is 65.\n"
     ]
    }
   ],
   "source": [
    "name=\"Noor\"\n",
    "age=65\n",
    "s22=\"My Name is %s and My age is %s.\"%(name, age)\n",
    "print(s22)"
   ]
  },
  {
   "cell_type": "code",
   "execution_count": 9,
   "id": "70ee0d66-740c-4de5-89e0-be48f7fffd62",
   "metadata": {},
   "outputs": [
    {
     "name": "stdout",
     "output_type": "stream",
     "text": [
      "My Name is santu and My age is 28.\n"
     ]
    }
   ],
   "source": [
    "name=\"santu\"\n",
    "age=28\n",
    "ss=\"My Name is %s and My age is %s.\"%(name, age)\n",
    "print(ss)"
   ]
  },
  {
   "cell_type": "code",
   "execution_count": 11,
   "id": "4d0b7ffc-f523-4691-b0a8-e899d70da233",
   "metadata": {},
   "outputs": [
    {
     "name": "stdout",
     "output_type": "stream",
     "text": [
      "I am form Hyd and its code is 700\n"
     ]
    }
   ],
   "source": [
    "location = \"Hyd\"\n",
    "code = 700\n",
    "rr = \"I am form {} and its code is {}\".format(location,code)\n",
    "print(rr)"
   ]
  },
  {
   "cell_type": "code",
   "execution_count": 21,
   "id": "33137526-9288-494d-a7bc-046ab4fb2bad",
   "metadata": {},
   "outputs": [
    {
     "name": "stdout",
     "output_type": "stream",
     "text": [
      "I stay in oot and my code is 800\n"
     ]
    }
   ],
   "source": [
    "location = \"oot\"\n",
    "code = 800\n",
    "Data= f\"I stay in {location} and my code is {code}\"\n",
    "print(Data)"
   ]
  },
  {
   "cell_type": "code",
   "execution_count": null,
   "id": "ae9d0b03-7893-4cd6-9268-c5ecea966916",
   "metadata": {},
   "outputs": [],
   "source": []
  }
 ],
 "metadata": {
  "kernelspec": {
   "display_name": "Python 3 (ipykernel)",
   "language": "python",
   "name": "python3"
  },
  "language_info": {
   "codemirror_mode": {
    "name": "ipython",
    "version": 3
   },
   "file_extension": ".py",
   "mimetype": "text/x-python",
   "name": "python",
   "nbconvert_exporter": "python",
   "pygments_lexer": "ipython3",
   "version": "3.11.7"
  }
 },
 "nbformat": 4,
 "nbformat_minor": 5
}
