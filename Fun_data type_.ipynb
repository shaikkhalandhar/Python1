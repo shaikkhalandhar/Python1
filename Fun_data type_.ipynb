{
 "cells": [
  {
   "cell_type": "markdown",
   "id": "42499e1a-9ec7-42ca-9f60-95a0ab4056c9",
   "metadata": {},
   "source": [
    "Functions, Data type "
   ]
  },
  {
   "cell_type": "code",
   "execution_count": 1,
   "id": "21c9927a-05f2-4562-b5c5-8249b8e4cff3",
   "metadata": {},
   "outputs": [],
   "source": [
    "#function is a block of statement whcih perform specific task\n",
    "# Build in function\n",
    "# user defined\n",
    "\n",
    "\n",
    "def wild():\n",
    "    print(\"tiger is a wild animal\")"
   ]
  },
  {
   "cell_type": "code",
   "execution_count": 8,
   "id": "54ba1c47-b80b-4295-a6d7-c89f8573af3b",
   "metadata": {},
   "outputs": [
    {
     "name": "stdout",
     "output_type": "stream",
     "text": [
      "Tiger is a wild animal\n"
     ]
    }
   ],
   "source": [
    "def wild(name):\n",
    "    print(f\"Tiger {name}\")\n",
    "\n",
    "wild(\"is a wild animal\")"
   ]
  },
  {
   "cell_type": "code",
   "execution_count": 7,
   "id": "1f540646-2217-44c0-a5ad-921f3e2fcf9a",
   "metadata": {},
   "outputs": [
    {
     "name": "stdout",
     "output_type": "stream",
     "text": [
      "Parrot is a bird\n",
      "None\n",
      "Parrot is in green colour\n",
      "None\n",
      "Parrot eats gava fruit\n",
      "None\n"
     ]
    }
   ],
   "source": [
    "def fly(name):\n",
    "    print(f\"Parrot {name}\")\n",
    "\n",
    "print(fly(\"is a bird\"))\n",
    "print(fly(\"is in green colour\"))\n",
    "print(fly(\"eats gava fruit\"))"
   ]
  },
  {
   "cell_type": "code",
   "execution_count": 16,
   "id": "174b4e0e-f708-4ddd-abf3-011535ca4e94",
   "metadata": {},
   "outputs": [
    {
     "name": "stdout",
     "output_type": "stream",
     "text": [
      "At the rate 2pm,location Hyd,hot Chai\n"
     ]
    }
   ],
   "source": [
    "def hotel(time,place,item):\n",
    "    print(f\"At the rate {time},location {place},hot {item}\")\n",
    "\n",
    "hotel(\"2pm\",\"Hyd\",\"Chai\")"
   ]
  },
  {
   "cell_type": "code",
   "execution_count": 23,
   "id": "d0345adb-ba25-4dcc-81a9-b01e15c638ee",
   "metadata": {},
   "outputs": [
    {
     "name": "stdout",
     "output_type": "stream",
     "text": [
      "bring mutton along with 2 Masalas and cock\n"
     ]
    }
   ],
   "source": [
    "def market(Name,itmes,liquid):\n",
    "    print(f\"bring {Name} along with {itmes} and {liquid}\")\n",
    "\n",
    "market(\"mutton\",\"2 Masalas\",\"cock\")"
   ]
  },
  {
   "cell_type": "code",
   "execution_count": 37,
   "id": "7851adee-606f-485a-a5f1-d436cf1c84b5",
   "metadata": {},
   "outputs": [
    {
     "name": "stdout",
     "output_type": "stream",
     "text": [
      "Sum:  20\n",
      "Sum:  2\n",
      "None\n",
      "Sum:  15\n",
      "None\n"
     ]
    }
   ],
   "source": [
    "#functions Argurments\n",
    "\n",
    "def addition(n1,n2):\n",
    "    sum = n1+n2\n",
    "    print(\"Sum: \", sum)\n",
    "    \n",
    "\n",
    "addition(10,10)\n",
    "print(addition(1,1))\n",
    "print(addition(5,10))\n"
   ]
  },
  {
   "cell_type": "code",
   "execution_count": 39,
   "id": "4e6b1afa-a229-4c73-b975-4e322cf7dce3",
   "metadata": {},
   "outputs": [
    {
     "name": "stdout",
     "output_type": "stream",
     "text": [
      "Sub:  5\n",
      "Sub:  -5\n",
      "None\n"
     ]
    }
   ],
   "source": [
    " def sub(n1,n2):\n",
    "     sub = n1-n2\n",
    "     print(\"Sub: \", sub)\n",
    "\n",
    "sub(10,5)\n",
    "print(sub(25,30))"
   ]
  },
  {
   "cell_type": "code",
   "execution_count": 44,
   "id": "1221c66b-1148-493d-be23-55d899f51a92",
   "metadata": {},
   "outputs": [
    {
     "name": "stdout",
     "output_type": "stream",
     "text": [
      "dev:  5.0\n",
      "dev:  1.0\n",
      "None\n",
      "dev:  10.0\n",
      "None\n"
     ]
    }
   ],
   "source": [
    "def dev(n1,n2):\n",
    "    dev = n1/n2\n",
    "    print(\"dev: \",dev)\n",
    "\n",
    "dev(10,2)\n",
    "print(dev(100,100))\n",
    "print(dev(50,5))"
   ]
  },
  {
   "cell_type": "code",
   "execution_count": 50,
   "id": "14934851-9e0f-4f28-9eec-bb9736931ead",
   "metadata": {},
   "outputs": [
    {
     "name": "stdout",
     "output_type": "stream",
     "text": [
      "36\n",
      "49\n"
     ]
    }
   ],
   "source": [
    "#return statement\n",
    "def square(n):\n",
    "    result = n*n\n",
    "    \n",
    "    return result\n",
    "\n",
    "square(5)\n",
    "print(square(6))\n",
    "print(square(7))"
   ]
  },
  {
   "cell_type": "code",
   "execution_count": 58,
   "id": "489997ea-9dd2-4ad1-94fb-13a0b01eec67",
   "metadata": {},
   "outputs": [
    {
     "name": "stdout",
     "output_type": "stream",
     "text": [
      "256\n"
     ]
    }
   ],
   "source": [
    "import math\n",
    "\n",
    "power=pow(2,8)\n",
    "\n",
    "print(power)"
   ]
  },
  {
   "cell_type": "code",
   "execution_count": 70,
   "id": "3966285b-60c6-45b2-9e1a-c274ed2dcd6c",
   "metadata": {},
   "outputs": [
    {
     "name": "stdout",
     "output_type": "stream",
     "text": [
      "30\n"
     ]
    }
   ],
   "source": [
    "# lambda funtion - it take many numbers of argurments but give only one expression\n",
    "\n",
    "add = lambda a : a + 10\n",
    "print(add(20))"
   ]
  },
  {
   "cell_type": "code",
   "execution_count": null,
   "id": "98dc0a81-516b-4f91-979a-cf4fbd1dac86",
   "metadata": {},
   "outputs": [],
   "source": []
  }
 ],
 "metadata": {
  "kernelspec": {
   "display_name": "Python 3 (ipykernel)",
   "language": "python",
   "name": "python3"
  },
  "language_info": {
   "codemirror_mode": {
    "name": "ipython",
    "version": 3
   },
   "file_extension": ".py",
   "mimetype": "text/x-python",
   "name": "python",
   "nbconvert_exporter": "python",
   "pygments_lexer": "ipython3",
   "version": "3.11.7"
  }
 },
 "nbformat": 4,
 "nbformat_minor": 5
}
